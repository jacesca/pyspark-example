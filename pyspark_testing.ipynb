{
 "cells": [
  {
   "cell_type": "markdown",
   "id": "9b2f4902-617a-4e85-be51-2ec6d5b20ea0",
   "metadata": {},
   "source": [
    "# PySpark: Testing\n",
    "\n",
    "This guide is a reference for writing robust tests for PySpark code."
   ]
  },
  {
   "cell_type": "markdown",
   "id": "aa5a7063-1e27-491a-827f-71c94ccf301c",
   "metadata": {},
   "source": [
    "## Importing libraries"
   ]
  },
  {
   "cell_type": "code",
   "execution_count": 1,
   "id": "be163f1b-40ba-40af-b40d-ed60c2f95a62",
   "metadata": {},
   "outputs": [],
   "source": [
    "from pyspark.sql import SparkSession\n",
    "from pyspark.sql.functions import col\n",
    "from pyspark.sql.functions import col, regexp_replace"
   ]
  },
  {
   "cell_type": "code",
   "execution_count": 2,
   "id": "bd009b10-be3e-4b2f-bef5-793a3fa8aa88",
   "metadata": {},
   "outputs": [],
   "source": [
    "import warnings\n",
    "warnings.filterwarnings(\"ignore\")  # Ignore warnings coming from Arrow optimizations."
   ]
  },
  {
   "cell_type": "markdown",
   "id": "f42b1876-76c7-4f34-9972-44ca4284a448",
   "metadata": {},
   "source": [
    "## Connect to Spark"
   ]
  },
  {
   "cell_type": "code",
   "execution_count": 3,
   "id": "aa8406c4-3223-4ce2-96a3-286c2cb3f944",
   "metadata": {},
   "outputs": [],
   "source": [
    "# Start your Spark Session\n",
    "spark = SparkSession.builder.getOrCreate()\n",
    "\n",
    "# Enable spark.sql.repl.eagerEval.enabled configuration for the eager evaluation of PySpark DataFrame in notebooks\n",
    "spark.conf.set('spark.sql.repl.eagerEval.enabled', True)"
   ]
  },
  {
   "cell_type": "markdown",
   "id": "eb5bd4b4-ce7a-4499-9e76-86861fec3d04",
   "metadata": {},
   "source": [
    "## Build a PySpark Application"
   ]
  },
  {
   "cell_type": "code",
   "execution_count": 4,
   "id": "4cb8fe6f-87a5-4f44-8f59-2251c07bedc4",
   "metadata": {},
   "outputs": [
    {
     "name": "stdout",
     "output_type": "stream",
     "text": [
      "+---+----------+\n",
      "|age|      name|\n",
      "+---+----------+\n",
      "| 30|John    D.|\n",
      "| 25|Alice   G.|\n",
      "| 35|   Bob  T.|\n",
      "| 28|  Eve   A.|\n",
      "+---+----------+\n",
      "\n"
     ]
    }
   ],
   "source": [
    "# Create a DataFrame\n",
    "sample_data = [\n",
    "    {\"name\": \"John    D.\", \"age\": 30},\n",
    "    {\"name\": \"Alice   G.\", \"age\": 25},\n",
    "    {\"name\": \"Bob  T.\", \"age\": 35},\n",
    "    {\"name\": \"Eve   A.\", \"age\": 28}\n",
    "]\n",
    "\n",
    "df = spark.createDataFrame(sample_data)\n",
    "df.show()"
   ]
  },
  {
   "cell_type": "code",
   "execution_count": 5,
   "id": "851db008-83d2-41c7-9bda-24d53f78106e",
   "metadata": {},
   "outputs": [
    {
     "name": "stdout",
     "output_type": "stream",
     "text": [
      "+---+--------+\n",
      "|age|    name|\n",
      "+---+--------+\n",
      "| 30| John D.|\n",
      "| 25|Alice G.|\n",
      "| 35|  Bob T.|\n",
      "| 28|  Eve A.|\n",
      "+---+--------+\n",
      "\n"
     ]
    }
   ],
   "source": [
    "# Now, let’s define and apply a transformation function to our DataFrame\n",
    "# Remove additional spaces in name\n",
    "def remove_extra_spaces(df, column_name):\n",
    "    # Remove extra spaces from the specified column\n",
    "    df_transformed = df.withColumn(column_name, regexp_replace(col(column_name), \"\\\\s+\", \" \"))\n",
    "    return df_transformed\n",
    "\n",
    "transformed_df = remove_extra_spaces(df, \"name\")\n",
    "transformed_df.show()"
   ]
  },
  {
   "cell_type": "markdown",
   "id": "1a56b7b1-1bf4-47f3-8144-de27cfc3f80d",
   "metadata": {},
   "source": [
    "## Testing your PySpark Application"
   ]
  },
  {
   "cell_type": "markdown",
   "id": "ef692769-3e6b-4cfa-9837-01ba66b5d91a",
   "metadata": {},
   "source": [
    "### Option 1: Using Only PySpark Built-in Test Utility Functions"
   ]
  },
  {
   "cell_type": "code",
   "execution_count": 6,
   "id": "18577953-2883-4646-aa4d-b754efab0ea7",
   "metadata": {},
   "outputs": [],
   "source": [
    "import os\n",
    "os.environ[\"PYARROW_IGNORE_TIMEZONE\"] = \"1\""
   ]
  },
  {
   "cell_type": "code",
   "execution_count": 7,
   "id": "710557bc-14c6-4e95-ba7e-92cad54d4c85",
   "metadata": {},
   "outputs": [],
   "source": [
    "import pyspark.testing\n",
    "\n",
    "from pyspark.testing.utils import assertDataFrameEqual, assertSchemaEqual\n",
    "from pyspark.sql.types import StructType, StructField, ArrayType, DoubleType"
   ]
  },
  {
   "cell_type": "code",
   "execution_count": 8,
   "id": "a68ae7b3-2802-4ce1-ae78-fe95a7dcf117",
   "metadata": {},
   "outputs": [],
   "source": [
    "# Example 1\n",
    "df1 = spark.createDataFrame(data=[(\"1\", 1000), (\"2\", 3000)], schema=[\"id\", \"amount\"])\n",
    "df2 = spark.createDataFrame(data=[(\"1\", 1000), (\"2\", 3000)], schema=[\"id\", \"amount\"])\n",
    "\n",
    "assertDataFrameEqual(df1, df2)  # pass, DataFrames are identical"
   ]
  },
  {
   "cell_type": "code",
   "execution_count": 9,
   "id": "f00569ef-d031-4db3-9367-066fbd21e786",
   "metadata": {},
   "outputs": [],
   "source": [
    "# Example 2\n",
    "df1 = spark.createDataFrame(data=[(\"1\", 0.1), (\"2\", 3.23)], schema=[\"id\", \"amount\"])\n",
    "df2 = spark.createDataFrame(data=[(\"1\", 0.109), (\"2\", 3.23)], schema=[\"id\", \"amount\"])\n",
    "\n",
    "assertDataFrameEqual(df1, df2, rtol=1e-1)   # pass, DataFrames are approx equal by rtol"
   ]
  },
  {
   "cell_type": "code",
   "execution_count": 10,
   "id": "831bb6e3-e7ea-4647-9344-5da90ee85d60",
   "metadata": {},
   "outputs": [],
   "source": [
    "# Example 3\n",
    "# You can also simply compare two DataFrame schemas:\n",
    "\n",
    "s1 = StructType([StructField(\"names\", ArrayType(DoubleType(), True), True)])\n",
    "s2 = StructType([StructField(\"names\", ArrayType(DoubleType(), True), True)])\n",
    "\n",
    "assertSchemaEqual(s1, s2)   # pass, schemas are identical"
   ]
  },
  {
   "cell_type": "markdown",
   "id": "093305bb-55c8-4fcc-9417-697ecbe3199a",
   "metadata": {},
   "source": [
    "### Option 2: Using Unit Test"
   ]
  },
  {
   "cell_type": "code",
   "execution_count": 11,
   "id": "e6936da6-a83d-4db1-9724-75a69c3b89fd",
   "metadata": {},
   "outputs": [],
   "source": [
    "import unittest\n",
    "from pyspark.testing.utils import assertDataFrameEqual"
   ]
  },
  {
   "cell_type": "code",
   "execution_count": 12,
   "id": "6571314c-7481-4965-8104-c0100d389535",
   "metadata": {},
   "outputs": [],
   "source": [
    "class PySparkTestCase(unittest.TestCase):\n",
    "    @classmethod\n",
    "    def setUpClass(cls):\n",
    "        cls.spark = SparkSession.builder.appName(\"Testing PySpark Example\").getOrCreate()\n",
    "\n",
    "\n",
    "    @classmethod\n",
    "    def tearDownClass(cls):\n",
    "        cls.spark.stop()"
   ]
  },
  {
   "cell_type": "code",
   "execution_count": 13,
   "id": "df20a60a-040f-4f9a-8083-a65ce6d58be0",
   "metadata": {},
   "outputs": [],
   "source": [
    "class TestTranformation(PySparkTestCase):\n",
    "    def test_single_space(self):\n",
    "        sample_data = [{\"name\": \"John    D.\", \"age\": 30},\n",
    "                       {\"name\": \"Alice   G.\", \"age\": 25},\n",
    "                       {\"name\": \"Bob  T.\", \"age\": 35},\n",
    "                       {\"name\": \"Eve   A.\", \"age\": 28}]\n",
    "\n",
    "        # Create a Spark DataFrame\n",
    "        original_df = spark.createDataFrame(sample_data)\n",
    "\n",
    "        # Apply the transformation function from before\n",
    "        transformed_df = remove_extra_spaces(original_df, \"name\")\n",
    "\n",
    "        expected_data = [{\"name\": \"John D.\", \"age\": 30},\n",
    "        {\"name\": \"Alice G.\", \"age\": 25},\n",
    "        {\"name\": \"Bob T.\", \"age\": 35},\n",
    "        {\"name\": \"Eve A.\", \"age\": 28}]\n",
    "\n",
    "        expected_df = spark.createDataFrame(expected_data)\n",
    "\n",
    "        assertDataFrameEqual(transformed_df, expected_df)"
   ]
  },
  {
   "cell_type": "markdown",
   "id": "a6159f4e-05f5-45fb-8363-830f509ab422",
   "metadata": {},
   "source": [
    "When run, unittest will pick up all functions with a name beginning with “test.”"
   ]
  },
  {
   "cell_type": "markdown",
   "id": "8bcf0d38-befb-477f-8f79-5c3f005a6626",
   "metadata": {},
   "source": [
    "### Option 3: Using Pytest"
   ]
  },
  {
   "cell_type": "code",
   "execution_count": 14,
   "id": "c1df420c-4d68-49d3-b1a6-8e2f06878eb8",
   "metadata": {},
   "outputs": [],
   "source": [
    "import pytest\n",
    "from pyspark.testing.utils import assertDataFrameEqual"
   ]
  },
  {
   "cell_type": "code",
   "execution_count": 15,
   "id": "5d24c1d3-c24e-49d8-b6c6-04e475864add",
   "metadata": {},
   "outputs": [],
   "source": [
    "@pytest.fixture\n",
    "def spark_fixture():\n",
    "    spark = SparkSession.builder.appName(\"Testing PySpark Example\").getOrCreate()\n",
    "    yield spark"
   ]
  },
  {
   "cell_type": "code",
   "execution_count": 16,
   "id": "fd1872b0-f686-4cd8-b1ed-e244d8483621",
   "metadata": {},
   "outputs": [],
   "source": [
    "def test_single_space(spark_fixture):\n",
    "    sample_data = [{\"name\": \"John    D.\", \"age\": 30},\n",
    "                   {\"name\": \"Alice   G.\", \"age\": 25},\n",
    "                   {\"name\": \"Bob  T.\", \"age\": 35},\n",
    "                   {\"name\": \"Eve   A.\", \"age\": 28}]\n",
    "\n",
    "    # Create a Spark DataFrame\n",
    "    original_df = spark.createDataFrame(sample_data)\n",
    "\n",
    "    # Apply the transformation function from before\n",
    "    transformed_df = remove_extra_spaces(original_df, \"name\")\n",
    "\n",
    "    expected_data = [{\"name\": \"John D.\", \"age\": 30},\n",
    "    {\"name\": \"Alice G.\", \"age\": 25},\n",
    "    {\"name\": \"Bob T.\", \"age\": 35},\n",
    "    {\"name\": \"Eve A.\", \"age\": 28}]\n",
    "\n",
    "    expected_df = spark.createDataFrame(expected_data)\n",
    "\n",
    "    assertDataFrameEqual(transformed_df, expected_df)"
   ]
  },
  {
   "cell_type": "markdown",
   "id": "9cfedfab-a394-4b53-9762-6f1f5c93ed7f",
   "metadata": {},
   "source": [
    "When you run your test file with the pytest command, it will pick up all functions that have their name beginning with “test.”"
   ]
  },
  {
   "cell_type": "markdown",
   "id": "87bce77e-72c6-4e5b-b963-db51fc79c3c8",
   "metadata": {},
   "source": [
    "## Putting It All Together!\n",
    "\n",
    "Let’s see all the steps together, in a Unit Test example."
   ]
  },
  {
   "cell_type": "code",
   "execution_count": 17,
   "id": "67e386de-ae3d-4ad4-ba7d-538fbbf505c9",
   "metadata": {},
   "outputs": [],
   "source": [
    "# pkg/etl.py\n",
    "import unittest\n",
    "\n",
    "from pyspark.sql import SparkSession\n",
    "from pyspark.sql.functions import col\n",
    "from pyspark.sql.functions import regexp_replace\n",
    "from pyspark.testing.utils import assertDataFrameEqual\n",
    "\n",
    "# Create a SparkSession\n",
    "spark = SparkSession.builder.appName(\"Sample PySpark ETL\").getOrCreate()\n",
    "\n",
    "sample_data = [{\"name\": \"John    D.\", \"age\": 30},\n",
    "  {\"name\": \"Alice   G.\", \"age\": 25},\n",
    "  {\"name\": \"Bob  T.\", \"age\": 35},\n",
    "  {\"name\": \"Eve   A.\", \"age\": 28}]\n",
    "\n",
    "df = spark.createDataFrame(sample_data)\n",
    "\n",
    "# Define DataFrame transformation function\n",
    "def remove_extra_spaces(df, column_name):\n",
    "    # Remove extra spaces from the specified column using regexp_replace\n",
    "    df_transformed = df.withColumn(column_name, regexp_replace(col(column_name), \"\\\\s+\", \" \"))\n",
    "\n",
    "    return df_transformed"
   ]
  },
  {
   "cell_type": "code",
   "execution_count": 18,
   "id": "022a6c4a-84f3-4ca6-8728-23c213b6cc95",
   "metadata": {},
   "outputs": [],
   "source": [
    "# pkg/test_etl.py\n",
    "import unittest\n",
    "\n",
    "from pyspark.sql import SparkSession\n",
    "\n",
    "# Define unit test base class\n",
    "class PySparkTestCase(unittest.TestCase):\n",
    "    @classmethod\n",
    "    def setUpClass(cls):\n",
    "        cls.spark = SparkSession.builder.appName(\"Sample PySpark ETL\").getOrCreate()\n",
    "\n",
    "    @classmethod\n",
    "    def tearDownClass(cls):\n",
    "        cls.spark.stop()\n",
    "\n",
    "# Define unit test\n",
    "class TestTranformation(PySparkTestCase):\n",
    "    def test_single_space(self):\n",
    "        sample_data = [{\"name\": \"John    D.\", \"age\": 30},\n",
    "                        {\"name\": \"Alice   G.\", \"age\": 25},\n",
    "                        {\"name\": \"Bob  T.\", \"age\": 35},\n",
    "                        {\"name\": \"Eve   A.\", \"age\": 28}]\n",
    "\n",
    "        # Create a Spark DataFrame\n",
    "        original_df = spark.createDataFrame(sample_data)\n",
    "\n",
    "        # Apply the transformation function from before\n",
    "        transformed_df = remove_extra_spaces(original_df, \"name\")\n",
    "\n",
    "        expected_data = [{\"name\": \"John D.\", \"age\": 30},\n",
    "        {\"name\": \"Alice G.\", \"age\": 25},\n",
    "        {\"name\": \"Bob T.\", \"age\": 35},\n",
    "        {\"name\": \"Eve A.\", \"age\": 28}]\n",
    "\n",
    "        expected_df = spark.createDataFrame(expected_data)\n",
    "\n",
    "        assertDataFrameEqual(transformed_df, expected_df)"
   ]
  },
  {
   "cell_type": "code",
   "execution_count": 19,
   "id": "45d5d4ae-81e5-420b-98c1-ea51b98a9a62",
   "metadata": {},
   "outputs": [
    {
     "name": "stderr",
     "output_type": "stream",
     "text": [
      "C:\\ProgramData\\anaconda3\\envs\\ml\\Lib\\socket.py:777: ResourceWarning: unclosed <socket.socket fd=3644, family=2, type=1, proto=0, laddr=('127.0.0.1', 56404), raddr=('127.0.0.1', 56403)>\n",
      "  self._sock = None\n",
      "ResourceWarning: Enable tracemalloc to get the object allocation traceback\n",
      "C:\\ProgramData\\anaconda3\\envs\\ml\\Lib\\socket.py:777: ResourceWarning: unclosed <socket.socket fd=3636, family=2, type=1, proto=0, laddr=('127.0.0.1', 56445), raddr=('127.0.0.1', 56444)>\n",
      "  self._sock = None\n",
      "ResourceWarning: Enable tracemalloc to get the object allocation traceback\n",
      "----------------------------------------------------------------------\n",
      "Ran 1 test in 20.513s\n",
      "\n",
      "OK\n"
     ]
    },
    {
     "data": {
      "text/plain": [
       "<unittest.main.TestProgram at 0x273d7850850>"
      ]
     },
     "execution_count": 19,
     "metadata": {},
     "output_type": "execute_result"
    }
   ],
   "source": [
    "unittest.main(argv=[''], verbosity=0, exit=False)"
   ]
  },
  {
   "cell_type": "markdown",
   "id": "75e07849-7086-4224-b2d3-d83ae995a41c",
   "metadata": {},
   "source": [
    "Read this\n",
    "https://stackoverflow.com/questions/48160728/resourcewarning-unclosed-socket-in-python-3-unit-test\n",
    "to avoid the previous error."
   ]
  },
  {
   "cell_type": "code",
   "execution_count": null,
   "id": "888fdb0d-7d0c-4a56-8f00-46fa12d02b17",
   "metadata": {},
   "outputs": [],
   "source": []
  }
 ],
 "metadata": {
  "kernelspec": {
   "display_name": "Python 3 (ipykernel)",
   "language": "python",
   "name": "python3"
  },
  "language_info": {
   "codemirror_mode": {
    "name": "ipython",
    "version": 3
   },
   "file_extension": ".py",
   "mimetype": "text/x-python",
   "name": "python",
   "nbconvert_exporter": "python",
   "pygments_lexer": "ipython3",
   "version": "3.11.9"
  }
 },
 "nbformat": 4,
 "nbformat_minor": 5
}
