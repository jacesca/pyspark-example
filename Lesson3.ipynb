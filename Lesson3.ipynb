{
 "cells": [
  {
   "cell_type": "markdown",
   "id": "adb7a121-cb0f-4cfc-af87-7ac2bc7b8393",
   "metadata": {},
   "source": [
    "# Getting started with machine learning pipelines\n",
    "\n",
    "PySpark has built-in, cutting-edge machine learning routines, along with utilities to create full machine learning pipelines. You'll learn about them in this chapter.\n",
    "\n",
    "## Preparing the environment\n",
    "\n",
    "### Importing libraries"
   ]
  },
  {
   "cell_type": "code",
   "execution_count": 1,
   "id": "417d08c7-4a3f-4343-890a-a77a3ef1a8f1",
   "metadata": {},
   "outputs": [],
   "source": [
    "from pyspark.ml import Pipeline\n",
    "from pyspark.ml.feature import OneHotEncoder, StringIndexer, VectorAssembler\n",
    "from pyspark.sql.types import (_parse_datatype_string, StructType, StructField,\n",
    "                               DoubleType, IntegerType, StringType)\n",
    "from pyspark.sql import SparkSession"
   ]
  },
  {
   "cell_type": "markdown",
   "id": "3ca9280d-59da-40e9-975f-bdb546db0b91",
   "metadata": {},
   "source": [
    "### Connect to Spark"
   ]
  },
  {
   "cell_type": "code",
   "execution_count": 2,
   "id": "a0fe0297-a48d-4b04-8a61-383b409a37fd",
   "metadata": {},
   "outputs": [],
   "source": [
    "spark = SparkSession.builder.getOrCreate()\n",
    "\n",
    "# eval DataFrame in notebooks\n",
    "spark.conf.set('spark.sql.repl.eagerEval.enabled', True)"
   ]
  },
  {
   "cell_type": "markdown",
   "id": "00d1c06f-2fe5-4b64-a3ab-36defdb10561",
   "metadata": {},
   "source": [
    "### Reading the data"
   ]
  },
  {
   "cell_type": "code",
   "execution_count": 3,
   "id": "080b9e39-17d4-41a4-a7e3-1e723067ccf2",
   "metadata": {},
   "outputs": [
    {
     "name": "stdout",
     "output_type": "stream",
     "text": [
      "root\n",
      " |-- year: integer (nullable = true)\n",
      " |-- month: integer (nullable = true)\n",
      " |-- day: integer (nullable = true)\n",
      " |-- dep_time: integer (nullable = true)\n",
      " |-- dep_delay: integer (nullable = true)\n",
      " |-- arr_time: integer (nullable = true)\n",
      " |-- arr_delay: integer (nullable = true)\n",
      " |-- carrier: string (nullable = true)\n",
      " |-- tailnum: string (nullable = true)\n",
      " |-- flight: integer (nullable = true)\n",
      " |-- origin: string (nullable = true)\n",
      " |-- dest: string (nullable = true)\n",
      " |-- air_time: integer (nullable = true)\n",
      " |-- distance: integer (nullable = true)\n",
      " |-- hour: integer (nullable = true)\n",
      " |-- minute: integer (nullable = true)\n",
      "\n"
     ]
    },
    {
     "data": {
      "text/html": [
       "<table border='1'>\n",
       "<tr><th>year</th><th>month</th><th>day</th><th>dep_time</th><th>dep_delay</th><th>arr_time</th><th>arr_delay</th><th>carrier</th><th>tailnum</th><th>flight</th><th>origin</th><th>dest</th><th>air_time</th><th>distance</th><th>hour</th><th>minute</th></tr>\n",
       "<tr><td>2014</td><td>12</td><td>8</td><td>658</td><td>-7</td><td>935</td><td>-5</td><td>VX</td><td>N846VA</td><td>1780</td><td>SEA</td><td>LAX</td><td>132</td><td>954</td><td>6</td><td>58</td></tr>\n",
       "<tr><td>2014</td><td>1</td><td>22</td><td>1040</td><td>5</td><td>1505</td><td>5</td><td>AS</td><td>N559AS</td><td>851</td><td>SEA</td><td>HNL</td><td>360</td><td>2677</td><td>10</td><td>40</td></tr>\n",
       "</table>\n"
      ],
      "text/plain": [
       "+----+-----+---+--------+---------+--------+---------+-------+-------+------+------+----+--------+--------+----+------+\n",
       "|year|month|day|dep_time|dep_delay|arr_time|arr_delay|carrier|tailnum|flight|origin|dest|air_time|distance|hour|minute|\n",
       "+----+-----+---+--------+---------+--------+---------+-------+-------+------+------+----+--------+--------+----+------+\n",
       "|2014|   12|  8|     658|       -7|     935|       -5|     VX| N846VA|  1780|   SEA| LAX|     132|     954|   6|    58|\n",
       "|2014|    1| 22|    1040|        5|    1505|        5|     AS| N559AS|   851|   SEA| HNL|     360|    2677|  10|    40|\n",
       "+----+-----+---+--------+---------+--------+---------+-------+-------+------+------+----+--------+--------+----+------+"
      ]
     },
     "execution_count": 3,
     "metadata": {},
     "output_type": "execute_result"
    }
   ],
   "source": [
    "schema_str = \"year int, month int, day int, dep_time int, dep_delay int, arr_time int, \" + \\\n",
    "             \"arr_delay int, carrier string, tailnum string, flight int, origin string, \" + \\\n",
    "             \"dest string, air_time int, distance int, hour int, minute int\"\n",
    "customSchema = _parse_datatype_string(schema_str)\n",
    "flights = spark.read.csv('data-sources/flights_small.csv', header=True, schema=schema_str)\n",
    "flights.createOrReplaceTempView(\"flights\")\n",
    "flights.printSchema()\n",
    "flights.limit(2)"
   ]
  },
  {
   "cell_type": "code",
   "execution_count": 4,
   "id": "8b0fc9c2-a651-4dea-9249-13323998bd16",
   "metadata": {},
   "outputs": [
    {
     "name": "stdout",
     "output_type": "stream",
     "text": [
      "root\n",
      " |-- faa: string (nullable = true)\n",
      " |-- name: string (nullable = true)\n",
      " |-- lat: double (nullable = true)\n",
      " |-- lon: double (nullable = true)\n",
      " |-- alt: integer (nullable = true)\n",
      " |-- tz: integer (nullable = true)\n",
      " |-- dst: string (nullable = true)\n",
      "\n"
     ]
    },
    {
     "data": {
      "text/html": [
       "<table border='1'>\n",
       "<tr><th>faa</th><th>name</th><th>lat</th><th>lon</th><th>alt</th><th>tz</th><th>dst</th></tr>\n",
       "<tr><td>04G</td><td>Lansdowne Airport</td><td>41.1304722</td><td>-80.6195833</td><td>1044</td><td>-5</td><td>A</td></tr>\n",
       "<tr><td>06A</td><td>Moton Field Munic...</td><td>32.4605722</td><td>-85.6800278</td><td>264</td><td>-5</td><td>A</td></tr>\n",
       "</table>\n"
      ],
      "text/plain": [
       "+---+--------------------+----------+-----------+----+---+---+\n",
       "|faa|                name|       lat|        lon| alt| tz|dst|\n",
       "+---+--------------------+----------+-----------+----+---+---+\n",
       "|04G|   Lansdowne Airport|41.1304722|-80.6195833|1044| -5|  A|\n",
       "|06A|Moton Field Munic...|32.4605722|-85.6800278| 264| -5|  A|\n",
       "+---+--------------------+----------+-----------+----+---+---+"
      ]
     },
     "execution_count": 4,
     "metadata": {},
     "output_type": "execute_result"
    }
   ],
   "source": [
    "schema_str = \"faa string, name string, lat double, lon double, alt int, tz int, dst string\"\n",
    "customSchema = _parse_datatype_string(schema_str)\n",
    "airports = spark.read.schema(customSchema).csv('data-sources/airports.csv', header=True)\n",
    "airports.createOrReplaceTempView(\"airports\")\n",
    "airports.printSchema()\n",
    "airports.limit(2)"
   ]
  },
  {
   "cell_type": "code",
   "execution_count": 5,
   "id": "a3fc6f5c-43d2-43c1-86fa-87457e8f4c15",
   "metadata": {},
   "outputs": [
    {
     "name": "stdout",
     "output_type": "stream",
     "text": [
      "root\n",
      " |-- tailnum: string (nullable = true)\n",
      " |-- year: integer (nullable = true)\n",
      " |-- type: string (nullable = true)\n",
      " |-- manufacturer: string (nullable = true)\n",
      " |-- model: string (nullable = true)\n",
      " |-- engines: integer (nullable = true)\n",
      " |-- seats: integer (nullable = true)\n",
      " |-- speed: double (nullable = true)\n",
      " |-- engine: string (nullable = true)\n",
      "\n"
     ]
    },
    {
     "data": {
      "text/html": [
       "<table border='1'>\n",
       "<tr><th>tailnum</th><th>year</th><th>type</th><th>manufacturer</th><th>model</th><th>engines</th><th>seats</th><th>speed</th><th>engine</th></tr>\n",
       "<tr><td>N102UW</td><td>1998</td><td>Fixed wing multi ...</td><td>AIRBUS INDUSTRIE</td><td>A320-214</td><td>2</td><td>182</td><td>NULL</td><td>Turbo-fan</td></tr>\n",
       "<tr><td>N103US</td><td>1999</td><td>Fixed wing multi ...</td><td>AIRBUS INDUSTRIE</td><td>A320-214</td><td>2</td><td>182</td><td>NULL</td><td>Turbo-fan</td></tr>\n",
       "</table>\n"
      ],
      "text/plain": [
       "+-------+----+--------------------+----------------+--------+-------+-----+-----+---------+\n",
       "|tailnum|year|                type|    manufacturer|   model|engines|seats|speed|   engine|\n",
       "+-------+----+--------------------+----------------+--------+-------+-----+-----+---------+\n",
       "| N102UW|1998|Fixed wing multi ...|AIRBUS INDUSTRIE|A320-214|      2|  182| NULL|Turbo-fan|\n",
       "| N103US|1999|Fixed wing multi ...|AIRBUS INDUSTRIE|A320-214|      2|  182| NULL|Turbo-fan|\n",
       "+-------+----+--------------------+----------------+--------+-------+-----+-----+---------+"
      ]
     },
     "execution_count": 5,
     "metadata": {},
     "output_type": "execute_result"
    }
   ],
   "source": [
    "customSchema = StructType([\n",
    "    StructField(\"tailnum\", StringType()),\n",
    "    StructField(\"year\", IntegerType()),\n",
    "    StructField(\"type\", StringType()),\n",
    "    StructField(\"manufacturer\", StringType()),\n",
    "    StructField(\"model\", StringType()),\n",
    "    StructField(\"engines\", IntegerType()),\n",
    "    StructField(\"seats\", IntegerType()),\n",
    "    StructField(\"speed\", DoubleType()),\n",
    "    StructField(\"engine\", StringType())\n",
    "])\n",
    "planes = (spark.read.schema(customSchema)\n",
    "                    .format(\"csv\")\n",
    "                    .option(\"header\", \"true\")\n",
    "                    .load('data-sources/planes.csv'))\n",
    "planes.createOrReplaceTempView(\"planes\")\n",
    "planes.printSchema()\n",
    "planes.limit(2)"
   ]
  },
  {
   "cell_type": "code",
   "execution_count": 6,
   "id": "288e47ab-c6bf-42e3-ab87-86d925993f5f",
   "metadata": {},
   "outputs": [
    {
     "data": {
      "text/plain": [
       "[Table(name='airports', catalog=None, namespace=[], description=None, tableType='TEMPORARY', isTemporary=True),\n",
       " Table(name='flights', catalog=None, namespace=[], description=None, tableType='TEMPORARY', isTemporary=True),\n",
       " Table(name='planes', catalog=None, namespace=[], description=None, tableType='TEMPORARY', isTemporary=True)]"
      ]
     },
     "execution_count": 6,
     "metadata": {},
     "output_type": "execute_result"
    }
   ],
   "source": [
    "spark.catalog.listTables()"
   ]
  },
  {
   "cell_type": "markdown",
   "id": "792d3da8-7c8d-4fd3-bd9b-47d230a61b90",
   "metadata": {},
   "source": [
    "## Machine Learning Pipelines\n",
    "\n",
    "In the next two chapters you'll step through every stage of the machine learning pipeline, from data intake to model evaluation. Let's get to it!\r\n",
    "\r\n",
    "At the core of the pyspark.ml module are the Transformer and Estimator classes. Almost every other class in the module behaves similarly to these two basic classes.\r\n",
    "\r\n",
    "Transformer classes have a .transform() method that takes a DataFrame and returns a new DataFrame; usually the original one with a new column appended. For example, you might use the class Bucketizer to create discrete bins from a continuous feature or the class PCA to reduce the dimensionality of your dataset using principal component analysis.\r\n",
    "\r\n",
    "Estimator classes all implement a .fit() method. These methods also take a DataFrame, but instead of returning another DataFrame they return a model object. This can be something like a StringIndexerModel for including categorical data saved as strings in your models, or a RandomForestModel that uses the random forest algorithm for classification or regression."
   ]
  },
  {
   "cell_type": "markdown",
   "id": "6e40c316-cd07-44ee-806c-9e3794a15686",
   "metadata": {},
   "source": [
    "## Ex.1 - Join the DataFrames\n",
    "\n",
    "In the next two chapters you'll be working to build a model that predicts whether or not a flight will be delayed based on the `flights` data we've been working with. This model will also include information about the plane that flew the route, so the first step is to join the two tables: `flights` and `planes`!\n",
    "\n",
    "**Instructions:**\n",
    "\n",
    "1. First, rename the `year` column of `planes` to `plane_year` to avoid duplicate column names.\n",
    "2. Create a new DataFrame called `model_data` by joining the `flights` table with `planes` using the `tailnum` column as the key."
   ]
  },
  {
   "cell_type": "code",
   "execution_count": 7,
   "id": "f311dc8b-49c9-480c-a529-c16a96f0e137",
   "metadata": {},
   "outputs": [
    {
     "data": {
      "text/html": [
       "<table border='1'>\n",
       "<tr><th>tailnum</th><th>year</th><th>month</th><th>day</th><th>dep_time</th><th>dep_delay</th><th>arr_time</th><th>arr_delay</th><th>carrier</th><th>flight</th><th>origin</th><th>dest</th><th>air_time</th><th>distance</th><th>hour</th><th>minute</th><th>plane_year</th><th>type</th><th>manufacturer</th><th>model</th><th>engines</th><th>seats</th><th>speed</th><th>engine</th></tr>\n",
       "<tr><td>N846VA</td><td>2014</td><td>12</td><td>8</td><td>658</td><td>-7</td><td>935</td><td>-5</td><td>VX</td><td>1780</td><td>SEA</td><td>LAX</td><td>132</td><td>954</td><td>6</td><td>58</td><td>2011</td><td>Fixed wing multi ...</td><td>AIRBUS</td><td>A320-214</td><td>2</td><td>182</td><td>NULL</td><td>Turbo-fan</td></tr>\n",
       "<tr><td>N559AS</td><td>2014</td><td>1</td><td>22</td><td>1040</td><td>5</td><td>1505</td><td>5</td><td>AS</td><td>851</td><td>SEA</td><td>HNL</td><td>360</td><td>2677</td><td>10</td><td>40</td><td>2006</td><td>Fixed wing multi ...</td><td>BOEING</td><td>737-890</td><td>2</td><td>149</td><td>NULL</td><td>Turbo-fan</td></tr>\n",
       "</table>\n"
      ],
      "text/plain": [
       "+-------+----+-----+---+--------+---------+--------+---------+-------+------+------+----+--------+--------+----+------+----------+--------------------+------------+--------+-------+-----+-----+---------+\n",
       "|tailnum|year|month|day|dep_time|dep_delay|arr_time|arr_delay|carrier|flight|origin|dest|air_time|distance|hour|minute|plane_year|                type|manufacturer|   model|engines|seats|speed|   engine|\n",
       "+-------+----+-----+---+--------+---------+--------+---------+-------+------+------+----+--------+--------+----+------+----------+--------------------+------------+--------+-------+-----+-----+---------+\n",
       "| N846VA|2014|   12|  8|     658|       -7|     935|       -5|     VX|  1780|   SEA| LAX|     132|     954|   6|    58|      2011|Fixed wing multi ...|      AIRBUS|A320-214|      2|  182| NULL|Turbo-fan|\n",
       "| N559AS|2014|    1| 22|    1040|        5|    1505|        5|     AS|   851|   SEA| HNL|     360|    2677|  10|    40|      2006|Fixed wing multi ...|      BOEING| 737-890|      2|  149| NULL|Turbo-fan|\n",
       "+-------+----+-----+---+--------+---------+--------+---------+-------+------+------+----+--------+--------+----+------+----------+--------------------+------------+--------+-------+-----+-----+---------+"
      ]
     },
     "execution_count": 7,
     "metadata": {},
     "output_type": "execute_result"
    }
   ],
   "source": [
    "# Rename year column\n",
    "planes = planes.withColumnRenamed('year', 'plane_year')\n",
    "\n",
    "# Join the DataFrames\n",
    "model_data = flights.join(planes, on='tailnum', how=\"leftouter\")\n",
    "model_data.limit(2)"
   ]
  },
  {
   "cell_type": "markdown",
   "id": "17e81786-be49-4c5c-995d-411e30f07303",
   "metadata": {},
   "source": [
    "## Data types\n",
    "\n",
    "Before you get started modeling, it's important to know that Spark only handles numeric data. That means all of the columns in your DataFrame must be either integers or decimals (called 'doubles' in Spark).\n",
    "\n",
    "When we imported our data, we let Spark guess what kind of information each column held. Unfortunately, Spark doesn't always guess right and you can see that some of the columns in our DataFrame are strings containing numbers as opposed to actual numeric values.\n",
    "\n",
    "To remedy this, you can use the `.cast()` method in combination with the `.withColumn()` method. It's important to note that `.cast()` works on columns, while `.withColumn()` works on DataFrames.\n",
    "\n",
    "The only argument you need to pass to `.cast()` is the kind of value you want to create, in string form. For example, to create integers, you'll pass the argument `\"integer\"` and for decimal numbers you'll use `\"double\"`.\n",
    "\n",
    "You can put this call to `.cast()` inside a call to `.withColumn()` to overwrite the already existing column."
   ]
  },
  {
   "cell_type": "markdown",
   "id": "3d98f38f-33a4-4e7c-915f-c06d9b9f332a",
   "metadata": {},
   "source": [
    "## Ex.2 - String to integer\n",
    "\n",
    "Now you'll use the `.cast()` method you learned in the previous exercise to convert all the appropriate columns from your DataFrame flights_temp to integers!\n",
    "\n",
    "To convert the type of a column using the `.cast()` method, you can write code like this:\n",
    "\n",
    "`dataframe = dataframe.withColumn(\"col\", dataframe.col.cast(\"new_type\"))`\n",
    "\n",
    "**Instructions:**\n",
    "1. Use the method `.withColumn()` to `.cast()` the following columns to type `\"integer\"`. Access the columns using the `df.col` notation:\n",
    "    - `model_data.dep_time`\n",
    "    - `model_data.dep_delay`\n",
    "    - `model_data.arr_time`\n",
    "    - `model_data.arr_delay`\n",
    "    - `model_data.air_time`\n",
    "    - `model_data.hour`\n",
    "    - `model_data.minute`"
   ]
  },
  {
   "cell_type": "code",
   "execution_count": 8,
   "id": "8628f661-edb8-43af-87ce-d06741219db1",
   "metadata": {},
   "outputs": [
    {
     "name": "stdout",
     "output_type": "stream",
     "text": [
      "root\n",
      " |-- year: integer (nullable = true)\n",
      " |-- month: integer (nullable = true)\n",
      " |-- day: integer (nullable = true)\n",
      " |-- dep_time: string (nullable = true)\n",
      " |-- dep_delay: string (nullable = true)\n",
      " |-- arr_time: string (nullable = true)\n",
      " |-- arr_delay: string (nullable = true)\n",
      " |-- carrier: string (nullable = true)\n",
      " |-- tailnum: string (nullable = true)\n",
      " |-- flight: integer (nullable = true)\n",
      " |-- origin: string (nullable = true)\n",
      " |-- dest: string (nullable = true)\n",
      " |-- air_time: string (nullable = true)\n",
      " |-- distance: integer (nullable = true)\n",
      " |-- hour: string (nullable = true)\n",
      " |-- minute: string (nullable = true)\n",
      "\n"
     ]
    },
    {
     "data": {
      "text/html": [
       "<table border='1'>\n",
       "<tr><th>year</th><th>month</th><th>day</th><th>dep_time</th><th>dep_delay</th><th>arr_time</th><th>arr_delay</th><th>carrier</th><th>tailnum</th><th>flight</th><th>origin</th><th>dest</th><th>air_time</th><th>distance</th><th>hour</th><th>minute</th></tr>\n",
       "<tr><td>2014</td><td>12</td><td>8</td><td>658</td><td>-7</td><td>935</td><td>-5</td><td>VX</td><td>N846VA</td><td>1780</td><td>SEA</td><td>LAX</td><td>132</td><td>954</td><td>6</td><td>58</td></tr>\n",
       "<tr><td>2014</td><td>1</td><td>22</td><td>1040</td><td>5</td><td>1505</td><td>5</td><td>AS</td><td>N559AS</td><td>851</td><td>SEA</td><td>HNL</td><td>360</td><td>2677</td><td>10</td><td>40</td></tr>\n",
       "</table>\n"
      ],
      "text/plain": [
       "+----+-----+---+--------+---------+--------+---------+-------+-------+------+------+----+--------+--------+----+------+\n",
       "|year|month|day|dep_time|dep_delay|arr_time|arr_delay|carrier|tailnum|flight|origin|dest|air_time|distance|hour|minute|\n",
       "+----+-----+---+--------+---------+--------+---------+-------+-------+------+------+----+--------+--------+----+------+\n",
       "|2014|   12|  8|     658|       -7|     935|       -5|     VX| N846VA|  1780|   SEA| LAX|     132|     954|   6|    58|\n",
       "|2014|    1| 22|    1040|        5|    1505|        5|     AS| N559AS|   851|   SEA| HNL|     360|    2677|  10|    40|\n",
       "+----+-----+---+--------+---------+--------+---------+-------+-------+------+------+----+--------+--------+----+------+"
      ]
     },
     "execution_count": 8,
     "metadata": {},
     "output_type": "execute_result"
    }
   ],
   "source": [
    "flights_temp = spark.read.csv('data-sources/flights_small.csv', header=True, inferSchema=True)\n",
    "flights_temp.createOrReplaceTempView(\"flights\")\n",
    "flights_temp.printSchema()\n",
    "flights_temp.limit(2)"
   ]
  },
  {
   "cell_type": "code",
   "execution_count": 9,
   "id": "c3be5264-0652-4433-9a07-c371b990f47d",
   "metadata": {},
   "outputs": [
    {
     "name": "stdout",
     "output_type": "stream",
     "text": [
      "root\n",
      " |-- year: integer (nullable = true)\n",
      " |-- month: integer (nullable = true)\n",
      " |-- day: integer (nullable = true)\n",
      " |-- dep_time: integer (nullable = true)\n",
      " |-- dep_delay: integer (nullable = true)\n",
      " |-- arr_time: integer (nullable = true)\n",
      " |-- arr_delay: integer (nullable = true)\n",
      " |-- carrier: string (nullable = true)\n",
      " |-- tailnum: string (nullable = true)\n",
      " |-- flight: integer (nullable = true)\n",
      " |-- origin: string (nullable = true)\n",
      " |-- dest: string (nullable = true)\n",
      " |-- air_time: integer (nullable = true)\n",
      " |-- distance: integer (nullable = true)\n",
      " |-- hour: integer (nullable = true)\n",
      " |-- minute: integer (nullable = true)\n",
      "\n"
     ]
    },
    {
     "data": {
      "text/html": [
       "<table border='1'>\n",
       "<tr><th>year</th><th>month</th><th>day</th><th>dep_time</th><th>dep_delay</th><th>arr_time</th><th>arr_delay</th><th>carrier</th><th>tailnum</th><th>flight</th><th>origin</th><th>dest</th><th>air_time</th><th>distance</th><th>hour</th><th>minute</th></tr>\n",
       "<tr><td>2014</td><td>12</td><td>8</td><td>658</td><td>-7</td><td>935</td><td>-5</td><td>VX</td><td>N846VA</td><td>1780</td><td>SEA</td><td>LAX</td><td>132</td><td>954</td><td>6</td><td>58</td></tr>\n",
       "<tr><td>2014</td><td>1</td><td>22</td><td>1040</td><td>5</td><td>1505</td><td>5</td><td>AS</td><td>N559AS</td><td>851</td><td>SEA</td><td>HNL</td><td>360</td><td>2677</td><td>10</td><td>40</td></tr>\n",
       "</table>\n"
      ],
      "text/plain": [
       "+----+-----+---+--------+---------+--------+---------+-------+-------+------+------+----+--------+--------+----+------+\n",
       "|year|month|day|dep_time|dep_delay|arr_time|arr_delay|carrier|tailnum|flight|origin|dest|air_time|distance|hour|minute|\n",
       "+----+-----+---+--------+---------+--------+---------+-------+-------+------+------+----+--------+--------+----+------+\n",
       "|2014|   12|  8|     658|       -7|     935|       -5|     VX| N846VA|  1780|   SEA| LAX|     132|     954|   6|    58|\n",
       "|2014|    1| 22|    1040|        5|    1505|        5|     AS| N559AS|   851|   SEA| HNL|     360|    2677|  10|    40|\n",
       "+----+-----+---+--------+---------+--------+---------+-------+-------+------+------+----+--------+--------+----+------+"
      ]
     },
     "execution_count": 9,
     "metadata": {},
     "output_type": "execute_result"
    }
   ],
   "source": [
    "# Cast the columns to integers\n",
    "flights_temp = flights_temp.withColumn(\"dep_time\", flights_temp.dep_time.cast('integer'))\n",
    "flights_temp = flights_temp.withColumn(\"dep_delay\", flights_temp.dep_delay.cast('integer'))\n",
    "flights_temp = flights_temp.withColumn(\"arr_time\", flights_temp.arr_time.cast('integer'))\n",
    "flights_temp = flights_temp.withColumn(\"arr_delay\", flights_temp.arr_delay.cast('integer'))\n",
    "flights_temp = flights_temp.withColumn(\"air_time\", flights_temp.air_time.cast('integer'))\n",
    "flights_temp = flights_temp.withColumn(\"hour\", flights_temp.hour.cast('integer'))\n",
    "flights_temp = flights_temp.withColumn(\"minute\", flights_temp.minute.cast('integer'))\n",
    "\n",
    "flights_temp.printSchema()\n",
    "flights_temp.limit(2)"
   ]
  },
  {
   "cell_type": "code",
   "execution_count": 10,
   "id": "d6c30e05-2859-48e0-bff2-0808242959c9",
   "metadata": {},
   "outputs": [
    {
     "name": "stdout",
     "output_type": "stream",
     "text": [
      "root\n",
      " |-- year: integer (nullable = true)\n",
      " |-- month: integer (nullable = true)\n",
      " |-- day: integer (nullable = true)\n",
      " |-- dep_time: string (nullable = true)\n",
      " |-- dep_delay: string (nullable = true)\n",
      " |-- arr_time: string (nullable = true)\n",
      " |-- arr_delay: string (nullable = true)\n",
      " |-- carrier: string (nullable = true)\n",
      " |-- tailnum: string (nullable = true)\n",
      " |-- flight: integer (nullable = true)\n",
      " |-- origin: string (nullable = true)\n",
      " |-- dest: string (nullable = true)\n",
      " |-- air_time: string (nullable = true)\n",
      " |-- distance: integer (nullable = true)\n",
      " |-- hour: string (nullable = true)\n",
      " |-- minute: string (nullable = true)\n",
      "\n"
     ]
    },
    {
     "data": {
      "text/html": [
       "<table border='1'>\n",
       "<tr><th>year</th><th>month</th><th>day</th><th>dep_time</th><th>dep_delay</th><th>arr_time</th><th>arr_delay</th><th>carrier</th><th>tailnum</th><th>flight</th><th>origin</th><th>dest</th><th>air_time</th><th>distance</th><th>hour</th><th>minute</th></tr>\n",
       "<tr><td>2014</td><td>12</td><td>8</td><td>658</td><td>-7</td><td>935</td><td>-5</td><td>VX</td><td>N846VA</td><td>1780</td><td>SEA</td><td>LAX</td><td>132</td><td>954</td><td>6</td><td>58</td></tr>\n",
       "<tr><td>2014</td><td>1</td><td>22</td><td>1040</td><td>5</td><td>1505</td><td>5</td><td>AS</td><td>N559AS</td><td>851</td><td>SEA</td><td>HNL</td><td>360</td><td>2677</td><td>10</td><td>40</td></tr>\n",
       "</table>\n"
      ],
      "text/plain": [
       "+----+-----+---+--------+---------+--------+---------+-------+-------+------+------+----+--------+--------+----+------+\n",
       "|year|month|day|dep_time|dep_delay|arr_time|arr_delay|carrier|tailnum|flight|origin|dest|air_time|distance|hour|minute|\n",
       "+----+-----+---+--------+---------+--------+---------+-------+-------+------+------+----+--------+--------+----+------+\n",
       "|2014|   12|  8|     658|       -7|     935|       -5|     VX| N846VA|  1780|   SEA| LAX|     132|     954|   6|    58|\n",
       "|2014|    1| 22|    1040|        5|    1505|        5|     AS| N559AS|   851|   SEA| HNL|     360|    2677|  10|    40|\n",
       "+----+-----+---+--------+---------+--------+---------+-------+-------+------+------+----+--------+--------+----+------+"
      ]
     },
     "execution_count": 10,
     "metadata": {},
     "output_type": "execute_result"
    }
   ],
   "source": [
    "flights_temp = spark.read.csv('data-sources/flights_small.csv', header=True, inferSchema=True)\n",
    "flights_temp.createOrReplaceTempView(\"flights\")\n",
    "flights_temp.printSchema()\n",
    "flights_temp.limit(2)"
   ]
  },
  {
   "cell_type": "markdown",
   "id": "3ec64ba8-7bef-4ae6-b0a7-67e0cd92d49d",
   "metadata": {},
   "source": [
    "## Ex. 3 - Create a new column\n",
    "\n",
    "The column `plane_year` holds the year each plane was manufactured. However, your model will use the planes' age, which is slightly different from the year it was made!\n",
    "\n",
    "**Instructions:**\n",
    "1. Create the column `plane_age` using the `.withColumn()` method and subtracting the year of manufacture (column `plane_year`) from the year (column `year`) of the flight."
   ]
  },
  {
   "cell_type": "code",
   "execution_count": 11,
   "id": "90d50333-0f95-4073-8d27-5b07c8f3fa95",
   "metadata": {},
   "outputs": [
    {
     "data": {
      "text/html": [
       "<table border='1'>\n",
       "<tr><th>tailnum</th><th>year</th><th>month</th><th>day</th><th>dep_time</th><th>dep_delay</th><th>arr_time</th><th>arr_delay</th><th>carrier</th><th>flight</th><th>origin</th><th>dest</th><th>air_time</th><th>distance</th><th>hour</th><th>minute</th><th>plane_year</th><th>type</th><th>manufacturer</th><th>model</th><th>engines</th><th>seats</th><th>speed</th><th>engine</th></tr>\n",
       "<tr><td>N846VA</td><td>2014</td><td>12</td><td>8</td><td>658</td><td>-7</td><td>935</td><td>-5</td><td>VX</td><td>1780</td><td>SEA</td><td>LAX</td><td>132</td><td>954</td><td>6</td><td>58</td><td>2011</td><td>Fixed wing multi ...</td><td>AIRBUS</td><td>A320-214</td><td>2</td><td>182</td><td>NULL</td><td>Turbo-fan</td></tr>\n",
       "<tr><td>N559AS</td><td>2014</td><td>1</td><td>22</td><td>1040</td><td>5</td><td>1505</td><td>5</td><td>AS</td><td>851</td><td>SEA</td><td>HNL</td><td>360</td><td>2677</td><td>10</td><td>40</td><td>2006</td><td>Fixed wing multi ...</td><td>BOEING</td><td>737-890</td><td>2</td><td>149</td><td>NULL</td><td>Turbo-fan</td></tr>\n",
       "</table>\n"
      ],
      "text/plain": [
       "+-------+----+-----+---+--------+---------+--------+---------+-------+------+------+----+--------+--------+----+------+----------+--------------------+------------+--------+-------+-----+-----+---------+\n",
       "|tailnum|year|month|day|dep_time|dep_delay|arr_time|arr_delay|carrier|flight|origin|dest|air_time|distance|hour|minute|plane_year|                type|manufacturer|   model|engines|seats|speed|   engine|\n",
       "+-------+----+-----+---+--------+---------+--------+---------+-------+------+------+----+--------+--------+----+------+----------+--------------------+------------+--------+-------+-----+-----+---------+\n",
       "| N846VA|2014|   12|  8|     658|       -7|     935|       -5|     VX|  1780|   SEA| LAX|     132|     954|   6|    58|      2011|Fixed wing multi ...|      AIRBUS|A320-214|      2|  182| NULL|Turbo-fan|\n",
       "| N559AS|2014|    1| 22|    1040|        5|    1505|        5|     AS|   851|   SEA| HNL|     360|    2677|  10|    40|      2006|Fixed wing multi ...|      BOEING| 737-890|      2|  149| NULL|Turbo-fan|\n",
       "+-------+----+-----+---+--------+---------+--------+---------+-------+------+------+----+--------+--------+----+------+----------+--------------------+------------+--------+-------+-----+-----+---------+"
      ]
     },
     "execution_count": 11,
     "metadata": {},
     "output_type": "execute_result"
    }
   ],
   "source": [
    "model_data.limit(2)"
   ]
  },
  {
   "cell_type": "code",
   "execution_count": 12,
   "id": "3b4ffcd2-59e3-42aa-b75c-3300b761fbd5",
   "metadata": {},
   "outputs": [
    {
     "data": {
      "text/html": [
       "<table border='1'>\n",
       "<tr><th>tailnum</th><th>year</th><th>month</th><th>day</th><th>dep_time</th><th>dep_delay</th><th>arr_time</th><th>arr_delay</th><th>carrier</th><th>flight</th><th>origin</th><th>dest</th><th>air_time</th><th>distance</th><th>hour</th><th>minute</th><th>plane_year</th><th>type</th><th>manufacturer</th><th>model</th><th>engines</th><th>seats</th><th>speed</th><th>engine</th><th>plane_age</th></tr>\n",
       "<tr><td>N846VA</td><td>2014</td><td>12</td><td>8</td><td>658</td><td>-7</td><td>935</td><td>-5</td><td>VX</td><td>1780</td><td>SEA</td><td>LAX</td><td>132</td><td>954</td><td>6</td><td>58</td><td>2011</td><td>Fixed wing multi ...</td><td>AIRBUS</td><td>A320-214</td><td>2</td><td>182</td><td>NULL</td><td>Turbo-fan</td><td>3</td></tr>\n",
       "<tr><td>N559AS</td><td>2014</td><td>1</td><td>22</td><td>1040</td><td>5</td><td>1505</td><td>5</td><td>AS</td><td>851</td><td>SEA</td><td>HNL</td><td>360</td><td>2677</td><td>10</td><td>40</td><td>2006</td><td>Fixed wing multi ...</td><td>BOEING</td><td>737-890</td><td>2</td><td>149</td><td>NULL</td><td>Turbo-fan</td><td>8</td></tr>\n",
       "</table>\n"
      ],
      "text/plain": [
       "+-------+----+-----+---+--------+---------+--------+---------+-------+------+------+----+--------+--------+----+------+----------+--------------------+------------+--------+-------+-----+-----+---------+---------+\n",
       "|tailnum|year|month|day|dep_time|dep_delay|arr_time|arr_delay|carrier|flight|origin|dest|air_time|distance|hour|minute|plane_year|                type|manufacturer|   model|engines|seats|speed|   engine|plane_age|\n",
       "+-------+----+-----+---+--------+---------+--------+---------+-------+------+------+----+--------+--------+----+------+----------+--------------------+------------+--------+-------+-----+-----+---------+---------+\n",
       "| N846VA|2014|   12|  8|     658|       -7|     935|       -5|     VX|  1780|   SEA| LAX|     132|     954|   6|    58|      2011|Fixed wing multi ...|      AIRBUS|A320-214|      2|  182| NULL|Turbo-fan|        3|\n",
       "| N559AS|2014|    1| 22|    1040|        5|    1505|        5|     AS|   851|   SEA| HNL|     360|    2677|  10|    40|      2006|Fixed wing multi ...|      BOEING| 737-890|      2|  149| NULL|Turbo-fan|        8|\n",
       "+-------+----+-----+---+--------+---------+--------+---------+-------+------+------+----+--------+--------+----+------+----------+--------------------+------------+--------+-------+-----+-----+---------+---------+"
      ]
     },
     "execution_count": 12,
     "metadata": {},
     "output_type": "execute_result"
    }
   ],
   "source": [
    "# Create the column plane_age\n",
    "model_data = model_data.withColumn(\"plane_age\", model_data.year - model_data.plane_year)\n",
    "model_data.limit(2)"
   ]
  },
  {
   "cell_type": "markdown",
   "id": "acd8291e-0bb0-4afa-b45a-d870821ecf83",
   "metadata": {},
   "source": [
    "## Ex. 4 - Making a Boolean\n",
    "\n",
    "Consider that you're modeling a yes or no question: is the flight late? However, your data contains the arrival delay in minutes for each flight. Thus, you'll need to create a boolean column which indicates whether the flight was late or not!\n",
    "\n",
    "**Instructions:**\n",
    "\n",
    "1. Use the `.withColumn()` method to create the column `is_late`. This column is equal to `model_data.arr_delay > 0`.\n",
    "2. Convert this column to an integer column so that you can use it in your model and name it label (this is the default name for the response variable in Spark's machine learning routines).\n",
    "3. Filter out missing values."
   ]
  },
  {
   "cell_type": "code",
   "execution_count": 13,
   "id": "fc53bc3d-8610-496e-9fcf-cbbea9b717bb",
   "metadata": {},
   "outputs": [
    {
     "data": {
      "text/plain": [
       "10000"
      ]
     },
     "execution_count": 13,
     "metadata": {},
     "output_type": "execute_result"
    }
   ],
   "source": [
    "model_data.count()"
   ]
  },
  {
   "cell_type": "code",
   "execution_count": 14,
   "id": "2b979076-37a5-4430-8034-8c60eafee144",
   "metadata": {},
   "outputs": [
    {
     "name": "stdout",
     "output_type": "stream",
     "text": [
      "root\n",
      " |-- tailnum: string (nullable = true)\n",
      " |-- year: integer (nullable = true)\n",
      " |-- month: integer (nullable = true)\n",
      " |-- day: integer (nullable = true)\n",
      " |-- dep_time: integer (nullable = true)\n",
      " |-- dep_delay: integer (nullable = true)\n",
      " |-- arr_time: integer (nullable = true)\n",
      " |-- arr_delay: integer (nullable = true)\n",
      " |-- carrier: string (nullable = true)\n",
      " |-- flight: integer (nullable = true)\n",
      " |-- origin: string (nullable = true)\n",
      " |-- dest: string (nullable = true)\n",
      " |-- air_time: integer (nullable = true)\n",
      " |-- distance: integer (nullable = true)\n",
      " |-- hour: integer (nullable = true)\n",
      " |-- minute: integer (nullable = true)\n",
      " |-- plane_year: integer (nullable = true)\n",
      " |-- type: string (nullable = true)\n",
      " |-- manufacturer: string (nullable = true)\n",
      " |-- model: string (nullable = true)\n",
      " |-- engines: integer (nullable = true)\n",
      " |-- seats: integer (nullable = true)\n",
      " |-- speed: double (nullable = true)\n",
      " |-- engine: string (nullable = true)\n",
      " |-- plane_age: integer (nullable = true)\n",
      " |-- is_late: boolean (nullable = true)\n",
      "\n"
     ]
    }
   ],
   "source": [
    "# Create is_late\n",
    "model_data = model_data.withColumn(\"is_late\", model_data.arr_delay > 0)\n",
    "model_data.printSchema()"
   ]
  },
  {
   "cell_type": "code",
   "execution_count": 15,
   "id": "3bc2f6a0-23d9-418a-a393-39cd54c2c6a3",
   "metadata": {},
   "outputs": [
    {
     "name": "stdout",
     "output_type": "stream",
     "text": [
      "root\n",
      " |-- tailnum: string (nullable = true)\n",
      " |-- year: integer (nullable = true)\n",
      " |-- month: integer (nullable = true)\n",
      " |-- day: integer (nullable = true)\n",
      " |-- dep_time: integer (nullable = true)\n",
      " |-- dep_delay: integer (nullable = true)\n",
      " |-- arr_time: integer (nullable = true)\n",
      " |-- arr_delay: integer (nullable = true)\n",
      " |-- carrier: string (nullable = true)\n",
      " |-- flight: integer (nullable = true)\n",
      " |-- origin: string (nullable = true)\n",
      " |-- dest: string (nullable = true)\n",
      " |-- air_time: integer (nullable = true)\n",
      " |-- distance: integer (nullable = true)\n",
      " |-- hour: integer (nullable = true)\n",
      " |-- minute: integer (nullable = true)\n",
      " |-- plane_year: integer (nullable = true)\n",
      " |-- type: string (nullable = true)\n",
      " |-- manufacturer: string (nullable = true)\n",
      " |-- model: string (nullable = true)\n",
      " |-- engines: integer (nullable = true)\n",
      " |-- seats: integer (nullable = true)\n",
      " |-- speed: double (nullable = true)\n",
      " |-- engine: string (nullable = true)\n",
      " |-- plane_age: integer (nullable = true)\n",
      " |-- is_late: boolean (nullable = true)\n",
      " |-- label: integer (nullable = true)\n",
      "\n",
      "Total rows:  9303\n"
     ]
    },
    {
     "data": {
      "text/html": [
       "<table border='1'>\n",
       "<tr><th>tailnum</th><th>year</th><th>month</th><th>day</th><th>dep_time</th><th>dep_delay</th><th>arr_time</th><th>arr_delay</th><th>carrier</th><th>flight</th><th>origin</th><th>dest</th><th>air_time</th><th>distance</th><th>hour</th><th>minute</th><th>plane_year</th><th>type</th><th>manufacturer</th><th>model</th><th>engines</th><th>seats</th><th>speed</th><th>engine</th><th>plane_age</th><th>is_late</th><th>label</th></tr>\n",
       "<tr><td>N846VA</td><td>2014</td><td>12</td><td>8</td><td>658</td><td>-7</td><td>935</td><td>-5</td><td>VX</td><td>1780</td><td>SEA</td><td>LAX</td><td>132</td><td>954</td><td>6</td><td>58</td><td>2011</td><td>Fixed wing multi ...</td><td>AIRBUS</td><td>A320-214</td><td>2</td><td>182</td><td>NULL</td><td>Turbo-fan</td><td>3</td><td>false</td><td>0</td></tr>\n",
       "<tr><td>N559AS</td><td>2014</td><td>1</td><td>22</td><td>1040</td><td>5</td><td>1505</td><td>5</td><td>AS</td><td>851</td><td>SEA</td><td>HNL</td><td>360</td><td>2677</td><td>10</td><td>40</td><td>2006</td><td>Fixed wing multi ...</td><td>BOEING</td><td>737-890</td><td>2</td><td>149</td><td>NULL</td><td>Turbo-fan</td><td>8</td><td>true</td><td>1</td></tr>\n",
       "</table>\n"
      ],
      "text/plain": [
       "+-------+----+-----+---+--------+---------+--------+---------+-------+------+------+----+--------+--------+----+------+----------+--------------------+------------+--------+-------+-----+-----+---------+---------+-------+-----+\n",
       "|tailnum|year|month|day|dep_time|dep_delay|arr_time|arr_delay|carrier|flight|origin|dest|air_time|distance|hour|minute|plane_year|                type|manufacturer|   model|engines|seats|speed|   engine|plane_age|is_late|label|\n",
       "+-------+----+-----+---+--------+---------+--------+---------+-------+------+------+----+--------+--------+----+------+----------+--------------------+------------+--------+-------+-----+-----+---------+---------+-------+-----+\n",
       "| N846VA|2014|   12|  8|     658|       -7|     935|       -5|     VX|  1780|   SEA| LAX|     132|     954|   6|    58|      2011|Fixed wing multi ...|      AIRBUS|A320-214|      2|  182| NULL|Turbo-fan|        3|  false|    0|\n",
       "| N559AS|2014|    1| 22|    1040|        5|    1505|        5|     AS|   851|   SEA| HNL|     360|    2677|  10|    40|      2006|Fixed wing multi ...|      BOEING| 737-890|      2|  149| NULL|Turbo-fan|        8|   true|    1|\n",
       "+-------+----+-----+---+--------+---------+--------+---------+-------+------+------+----+--------+--------+----+------+----------+--------------------+------------+--------+-------+-----+-----+---------+---------+-------+-----+"
      ]
     },
     "execution_count": 15,
     "metadata": {},
     "output_type": "execute_result"
    }
   ],
   "source": [
    "# Convert to an integer\n",
    "model_data = model_data.withColumn(\"label\", model_data.is_late.cast('integer'))\n",
    "\n",
    "# Remove missing values\n",
    "model_data = model_data.filter(\"arr_delay is not NULL and \"\n",
    "                               \"dep_delay is not NULL and \"\n",
    "                               \"air_time is not NULL and \"\n",
    "                               \"plane_year is not NULL\")\n",
    "model_data.printSchema()\n",
    "print('Total rows: ', model_data.count())\n",
    "model_data.limit(2)"
   ]
  },
  {
   "cell_type": "markdown",
   "id": "a62a5341-54b8-4b1c-aca9-d0bbd879fc26",
   "metadata": {},
   "source": [
    "## Strings and factors\n",
    "\n",
    "As you know, Spark requires numeric data for modeling. So far this hasn't been an issue; even boolean columns can easily be converted to integers without any trouble. But you'll also be using the airline and the plane's destination as features in your model. These are coded as strings and there isn't any obvious way to convert them to a numeric data type.\n",
    "\n",
    "Fortunately, `PySpark` has functions for handling this built into the `pyspark.ml.features submodule`. You can create what are called `'one-hot vectors'` to represent the carrier and the destination of each flight. A one-hot vector is a way of representing a categorical feature where every observation has a vector in which all elements are zero except for at most one element, which has a value of one (1).\n",
    "\n",
    "Each element in the vector corresponds to a level of the feature, so it's possible to tell what the right level is by seeing which element of the vector is equal to one (1).\n",
    "\n",
    "The first step to encoding your categorical feature is to create a `StringIndexer`. Members of this class are Estimators that take a DataFrame with a column of strings and map each unique string to a number. Then, the Estimator returns a Transformer that takes a DataFrame, attaches the mapping to it as metadata, and returns a new DataFrame with a numeric column corresponding to the string column.\n",
    "\n",
    "The second step is to encode this numeric column as a one-hot vector using a `OneHotEncoder`. This works exactly the same way as the `StringIndexer` by creating an `Estimator` and then a `Transformer`. The end result is a column that encodes your categorical feature as a vector that's suitable for machine learning routines!\n",
    "\n",
    "All you have to remember is that you need to create a `StringIndexer` and a `OneHotEncoder`, and the Pipeline will take care of the rest."
   ]
  },
  {
   "cell_type": "markdown",
   "id": "d1316d7d-60dc-4757-9235-23a08f7436f2",
   "metadata": {},
   "source": [
    "## Ex. 5 - Carrier\n",
    "\n",
    "In this exercise you'll create a `StringIndexer` and a `OneHotEncoder` to code the carrier column. To do this, you'll call the class constructors with the arguments `inputCol` and `outputCol`.\n",
    "\n",
    "The `inputCol` is the name of the column you want to index or encode, and the `outputCol` is the name of the new column that the Transformer should create.\n",
    "\n",
    "**Instructions:**\n",
    "\n",
    "1. Create a `StringIndexer` called `carr_indexer` by calling `StringIndexer()` with `inputCol=\"carrier\"` and `outputCol=\"carrier_index\"`.\n",
    "2. Create a `OneHotEncoder` called `carr_encoder` by calling `OneHotEncoder()` with `inputCol=\"carrier_index\"` and `outputCol=\"carrier_fact\"`."
   ]
  },
  {
   "cell_type": "code",
   "execution_count": 16,
   "id": "03e604bf-5118-4afe-b115-16c8fdf53caf",
   "metadata": {},
   "outputs": [
    {
     "data": {
      "text/html": [
       "<table border='1'>\n",
       "<tr><th>tailnum</th><th>year</th><th>month</th><th>day</th><th>dep_time</th><th>dep_delay</th><th>arr_time</th><th>arr_delay</th><th>carrier</th><th>flight</th><th>origin</th><th>dest</th><th>air_time</th><th>distance</th><th>hour</th><th>minute</th><th>plane_year</th><th>type</th><th>manufacturer</th><th>model</th><th>engines</th><th>seats</th><th>speed</th><th>engine</th><th>plane_age</th><th>is_late</th><th>label</th></tr>\n",
       "<tr><td>N846VA</td><td>2014</td><td>12</td><td>8</td><td>658</td><td>-7</td><td>935</td><td>-5</td><td>VX</td><td>1780</td><td>SEA</td><td>LAX</td><td>132</td><td>954</td><td>6</td><td>58</td><td>2011</td><td>Fixed wing multi ...</td><td>AIRBUS</td><td>A320-214</td><td>2</td><td>182</td><td>NULL</td><td>Turbo-fan</td><td>3</td><td>false</td><td>0</td></tr>\n",
       "<tr><td>N559AS</td><td>2014</td><td>1</td><td>22</td><td>1040</td><td>5</td><td>1505</td><td>5</td><td>AS</td><td>851</td><td>SEA</td><td>HNL</td><td>360</td><td>2677</td><td>10</td><td>40</td><td>2006</td><td>Fixed wing multi ...</td><td>BOEING</td><td>737-890</td><td>2</td><td>149</td><td>NULL</td><td>Turbo-fan</td><td>8</td><td>true</td><td>1</td></tr>\n",
       "</table>\n"
      ],
      "text/plain": [
       "+-------+----+-----+---+--------+---------+--------+---------+-------+------+------+----+--------+--------+----+------+----------+--------------------+------------+--------+-------+-----+-----+---------+---------+-------+-----+\n",
       "|tailnum|year|month|day|dep_time|dep_delay|arr_time|arr_delay|carrier|flight|origin|dest|air_time|distance|hour|minute|plane_year|                type|manufacturer|   model|engines|seats|speed|   engine|plane_age|is_late|label|\n",
       "+-------+----+-----+---+--------+---------+--------+---------+-------+------+------+----+--------+--------+----+------+----------+--------------------+------------+--------+-------+-----+-----+---------+---------+-------+-----+\n",
       "| N846VA|2014|   12|  8|     658|       -7|     935|       -5|     VX|  1780|   SEA| LAX|     132|     954|   6|    58|      2011|Fixed wing multi ...|      AIRBUS|A320-214|      2|  182| NULL|Turbo-fan|        3|  false|    0|\n",
       "| N559AS|2014|    1| 22|    1040|        5|    1505|        5|     AS|   851|   SEA| HNL|     360|    2677|  10|    40|      2006|Fixed wing multi ...|      BOEING| 737-890|      2|  149| NULL|Turbo-fan|        8|   true|    1|\n",
       "+-------+----+-----+---+--------+---------+--------+---------+-------+------+------+----+--------+--------+----+------+----------+--------------------+------------+--------+-------+-----+-----+---------+---------+-------+-----+"
      ]
     },
     "execution_count": 16,
     "metadata": {},
     "output_type": "execute_result"
    }
   ],
   "source": [
    "model_data.limit(2)"
   ]
  },
  {
   "cell_type": "code",
   "execution_count": 17,
   "id": "80f0f54b-c153-42b2-9607-8765c4d23b58",
   "metadata": {},
   "outputs": [
    {
     "data": {
      "text/plain": [
       "StringIndexer_316ff4f0b606"
      ]
     },
     "execution_count": 17,
     "metadata": {},
     "output_type": "execute_result"
    }
   ],
   "source": [
    "# Create a StringIndexer\n",
    "carr_indexer = StringIndexer(inputCol=\"carrier\", outputCol=\"carrier_index\")\n",
    "carr_indexer"
   ]
  },
  {
   "cell_type": "code",
   "execution_count": 18,
   "id": "46d8e681-d14a-412f-8c3f-dd4767a8446c",
   "metadata": {},
   "outputs": [
    {
     "data": {
      "text/plain": [
       "OneHotEncoder_f468bc57942a"
      ]
     },
     "execution_count": 18,
     "metadata": {},
     "output_type": "execute_result"
    }
   ],
   "source": [
    "# Create a OneHotEncoder\n",
    "carr_encoder = OneHotEncoder(inputCol=\"carrier_index\", outputCol=\"carrier_fact\")\n",
    "carr_encoder"
   ]
  },
  {
   "cell_type": "markdown",
   "id": "c83d2c88-7cdd-4842-9933-55d87f6ba452",
   "metadata": {},
   "source": [
    "## Ex. 6 - Destination\n",
    "\n",
    "Now you'll encode the dest column just like you did in the previous exercise.\n",
    "\n",
    "**Instructions:**\n",
    "\n",
    "1. Create a `StringIndexer` called `dest_indexer` by calling `StringIndexer()` with `inputCol=\"dest\"` and `outputCol=\"dest_index\"`.\n",
    "2. Create a `OneHotEncoder` called `dest_encoder` by calling `OneHotEncoder()` with `inputCol=\"dest_index\"` and `outputCol=\"dest_fact\"`."
   ]
  },
  {
   "cell_type": "code",
   "execution_count": 19,
   "id": "ac8fdc80-692e-4a70-807c-57468a4b528b",
   "metadata": {},
   "outputs": [
    {
     "data": {
      "text/plain": [
       "StringIndexer_e2b0e6a917f8"
      ]
     },
     "execution_count": 19,
     "metadata": {},
     "output_type": "execute_result"
    }
   ],
   "source": [
    "# Create a StringIndexer\n",
    "dest_indexer = StringIndexer(inputCol=\"dest\", outputCol=\"dest_index\")\n",
    "dest_indexer"
   ]
  },
  {
   "cell_type": "code",
   "execution_count": 20,
   "id": "f573a52d-f461-4fa9-beb1-5e6183440537",
   "metadata": {},
   "outputs": [
    {
     "data": {
      "text/plain": [
       "OneHotEncoder_5879e791ce6e"
      ]
     },
     "execution_count": 20,
     "metadata": {},
     "output_type": "execute_result"
    }
   ],
   "source": [
    "# Create a OneHotEncoder\n",
    "dest_encoder = OneHotEncoder(inputCol=\"dest_index\", outputCol=\"dest_fact\")\n",
    "dest_encoder"
   ]
  },
  {
   "cell_type": "markdown",
   "id": "cc782b9c-af28-40c0-9c1d-609083f65ec9",
   "metadata": {},
   "source": [
    "## Ex. 7 - Assemble a vector\n",
    "\n",
    "The last step in the Pipeline is to combine all of the columns containing our features into a single column. This has to be done before modeling can take place because every Spark modeling routine expects the data to be in this form. You can do this by storing each of the values from a column as an entry in a vector. Then, from the model's point of view, every observation is a vector that contains all of the information about it and a label that tells the modeler what value that observation corresponds to.\n",
    "\n",
    "Because of this, the `pyspark.ml.feature` submodule contains a class called `VectorAssembler`. This Transformer takes all of the columns you specify and combines them into a new vector column.\n",
    "\n",
    "**Instructions:**\n",
    "\n",
    "1. Create a `VectorAssembler` by calling `VectorAssembler()` with the `inputCols` names as a list and the `outputCol` name `\"features\"`.\n",
    "2. The list of columns should be [\"month\", \"air_time\", \"carrier_fact\", \"dest_fact\", \"plane_age\"]."
   ]
  },
  {
   "cell_type": "code",
   "execution_count": 21,
   "id": "a799edee-d790-4870-b01f-ecd33197e3cc",
   "metadata": {},
   "outputs": [
    {
     "data": {
      "text/plain": [
       "VectorAssembler_34847e9092cd"
      ]
     },
     "execution_count": 21,
     "metadata": {},
     "output_type": "execute_result"
    }
   ],
   "source": [
    "# Make a VectorAssembler\n",
    "vec_assembler = VectorAssembler(\n",
    "    inputCols=[\"month\", \"air_time\", \"carrier_fact\", \"dest_fact\", \"plane_age\"], \n",
    "    outputCol='features'\n",
    ")\n",
    "vec_assembler"
   ]
  },
  {
   "cell_type": "markdown",
   "id": "4997d827-624e-4817-84ee-95c20fdb2b3d",
   "metadata": {},
   "source": [
    "## Ex. 8 - Create the pipeline\n",
    "\n",
    "`Pipeline` is a class in the `pyspark.ml` module that combines all the Estimators and Transformers that you've already created. This lets you reuse the same modeling process over and over again by wrapping it up in one simple object.\n",
    "\n",
    "**Instructions:**\n",
    "\n",
    "1. Import `Pipeline` from `pyspark.ml`. (Already done!)\n",
    "2. Call the `Pipeline()` constructor with the keyword argument `stages` to create a Pipeline called `flights_pipe`.\n",
    "`stages` should be a list holding all the stages you want your data to go through in the pipeline. Here this is just: `[dest_indexer, dest_encoder, carr_indexer, carr_encoder, vec_assembler]`"
   ]
  },
  {
   "cell_type": "code",
   "execution_count": 22,
   "id": "cd50eb27-cb56-4456-93a4-40cceb752c60",
   "metadata": {},
   "outputs": [
    {
     "data": {
      "text/plain": [
       "Pipeline_616aeb233b4f"
      ]
     },
     "execution_count": 22,
     "metadata": {},
     "output_type": "execute_result"
    }
   ],
   "source": [
    "# Make the pipeline\n",
    "flights_pipe = Pipeline(\n",
    "    stages=[dest_indexer, dest_encoder, carr_indexer, carr_encoder, vec_assembler]\n",
    ")\n",
    "flights_pipe"
   ]
  },
  {
   "cell_type": "markdown",
   "id": "062c8cd2-605f-4e99-a2ef-2055e6b5b68b",
   "metadata": {},
   "source": [
    "## Test vs. Train\n",
    "\n",
    "After you've cleaned your data and gotten it ready for modeling, one of the most important steps is to split the data into a test set and a train set. After that, don't touch your test data until you think you have a good model! As you're building models and forming hypotheses, you can test them on your training data to get an idea of their performance.\n",
    "\n",
    "Once you've got your favorite model, you can see how well it predicts the new data in your test set. This never-before-seen data will give you a much more realistic idea of your model's performance in the real world when you're trying to predict or classify new data.\n",
    "\n",
    "In Spark it's important to make sure you split the data after all the transformations. This is because operations like `StringIndexer` don't always produce the same index even when given the same list of strings."
   ]
  },
  {
   "cell_type": "markdown",
   "id": "764ee661-0b10-4b2c-bf38-7c222db47d7a",
   "metadata": {},
   "source": [
    "## Ex. 9 - Transform the data\n",
    "\n",
    "Hooray, now you're finally ready to pass your data through the Pipeline you created!\n",
    "\n",
    "**Instructions:**\n",
    "1. Create the DataFrame `piped_data` by calling the Pipeline methods `.fit()` and `.transform()` in a chain. Both of these methods take `model_data` as their only argument."
   ]
  },
  {
   "cell_type": "code",
   "execution_count": 23,
   "id": "db864f9c-ddc4-4632-b3a5-23ffed02ad70",
   "metadata": {},
   "outputs": [
    {
     "data": {
      "text/html": [
       "<table border='1'>\n",
       "<tr><th>tailnum</th><th>year</th><th>month</th><th>day</th><th>dep_time</th><th>dep_delay</th><th>arr_time</th><th>arr_delay</th><th>carrier</th><th>flight</th><th>origin</th><th>dest</th><th>air_time</th><th>distance</th><th>hour</th><th>minute</th><th>plane_year</th><th>type</th><th>manufacturer</th><th>model</th><th>engines</th><th>seats</th><th>speed</th><th>engine</th><th>plane_age</th><th>is_late</th><th>label</th><th>dest_index</th><th>dest_fact</th><th>carrier_index</th><th>carrier_fact</th><th>features</th></tr>\n",
       "<tr><td>N846VA</td><td>2014</td><td>12</td><td>8</td><td>658</td><td>-7</td><td>935</td><td>-5</td><td>VX</td><td>1780</td><td>SEA</td><td>LAX</td><td>132</td><td>954</td><td>6</td><td>58</td><td>2011</td><td>Fixed wing multi ...</td><td>AIRBUS</td><td>A320-214</td><td>2</td><td>182</td><td>NULL</td><td>Turbo-fan</td><td>3</td><td>false</td><td>0</td><td>1.0</td><td>(68,[1],[1.0])</td><td>7.0</td><td>(10,[7],[1.0])</td><td>(81,[0,1,9,13,80]...</td></tr>\n",
       "<tr><td>N559AS</td><td>2014</td><td>1</td><td>22</td><td>1040</td><td>5</td><td>1505</td><td>5</td><td>AS</td><td>851</td><td>SEA</td><td>HNL</td><td>360</td><td>2677</td><td>10</td><td>40</td><td>2006</td><td>Fixed wing multi ...</td><td>BOEING</td><td>737-890</td><td>2</td><td>149</td><td>NULL</td><td>Turbo-fan</td><td>8</td><td>true</td><td>1</td><td>19.0</td><td>(68,[19],[1.0])</td><td>0.0</td><td>(10,[0],[1.0])</td><td>(81,[0,1,2,31,80]...</td></tr>\n",
       "</table>\n"
      ],
      "text/plain": [
       "+-------+----+-----+---+--------+---------+--------+---------+-------+------+------+----+--------+--------+----+------+----------+--------------------+------------+--------+-------+-----+-----+---------+---------+-------+-----+----------+---------------+-------------+--------------+--------------------+\n",
       "|tailnum|year|month|day|dep_time|dep_delay|arr_time|arr_delay|carrier|flight|origin|dest|air_time|distance|hour|minute|plane_year|                type|manufacturer|   model|engines|seats|speed|   engine|plane_age|is_late|label|dest_index|      dest_fact|carrier_index|  carrier_fact|            features|\n",
       "+-------+----+-----+---+--------+---------+--------+---------+-------+------+------+----+--------+--------+----+------+----------+--------------------+------------+--------+-------+-----+-----+---------+---------+-------+-----+----------+---------------+-------------+--------------+--------------------+\n",
       "| N846VA|2014|   12|  8|     658|       -7|     935|       -5|     VX|  1780|   SEA| LAX|     132|     954|   6|    58|      2011|Fixed wing multi ...|      AIRBUS|A320-214|      2|  182| NULL|Turbo-fan|        3|  false|    0|       1.0| (68,[1],[1.0])|          7.0|(10,[7],[1.0])|(81,[0,1,9,13,80]...|\n",
       "| N559AS|2014|    1| 22|    1040|        5|    1505|        5|     AS|   851|   SEA| HNL|     360|    2677|  10|    40|      2006|Fixed wing multi ...|      BOEING| 737-890|      2|  149| NULL|Turbo-fan|        8|   true|    1|      19.0|(68,[19],[1.0])|          0.0|(10,[0],[1.0])|(81,[0,1,2,31,80]...|\n",
       "+-------+----+-----+---+--------+---------+--------+---------+-------+------+------+----+--------+--------+----+------+----------+--------------------+------------+--------+-------+-----+-----+---------+---------+-------+-----+----------+---------------+-------------+--------------+--------------------+"
      ]
     },
     "execution_count": 23,
     "metadata": {},
     "output_type": "execute_result"
    }
   ],
   "source": [
    "# Fit and transform the data\n",
    "piped_data = flights_pipe.fit(model_data).transform(model_data)\n",
    "piped_data.limit(2)"
   ]
  },
  {
   "cell_type": "markdown",
   "id": "eca5681d-c057-49d7-947c-789cb79a1e64",
   "metadata": {},
   "source": [
    "## Ex. 10 - Split the data\n",
    "\n",
    "Now that you've done all your manipulations, the last step before modeling is to split the data!\n",
    "\n",
    "**Instructions:**\n",
    "\n",
    "1. Use the DataFrame method `.randomSplit()` to split `piped_data` into two pieces, `training` with `60%` of the data, and `test` with `40%` of the data by passing the list `[.6, .4]` to the `.randomSplit()` method."
   ]
  },
  {
   "cell_type": "code",
   "execution_count": 24,
   "id": "e0dcecaf-e428-44bc-acbb-797d962c9242",
   "metadata": {},
   "outputs": [
    {
     "name": "stdout",
     "output_type": "stream",
     "text": [
      "Training set: 5547 rows.\n",
      "Testing set : 3756 rows.\n"
     ]
    }
   ],
   "source": [
    "# Split the data into training and test sets\n",
    "training, test = piped_data.randomSplit([.6, .4])\n",
    "\n",
    "print(f'Training set: {training.count()} rows.')\n",
    "print(f'Testing set : {test.count()} rows.')"
   ]
  },
  {
   "cell_type": "markdown",
   "id": "5774b18e-277f-4f94-a0e4-263e6c254c7e",
   "metadata": {},
   "source": [
    "## Close"
   ]
  },
  {
   "cell_type": "code",
   "execution_count": 25,
   "id": "59b6f267-423e-40ab-9ac3-7b42ececa643",
   "metadata": {},
   "outputs": [],
   "source": [
    "spark.stop()"
   ]
  },
  {
   "cell_type": "code",
   "execution_count": null,
   "id": "b862b2d5-d128-4953-87da-0f5d64269ea8",
   "metadata": {},
   "outputs": [],
   "source": []
  }
 ],
 "metadata": {
  "kernelspec": {
   "display_name": "Python 3 (ipykernel)",
   "language": "python",
   "name": "python3"
  },
  "language_info": {
   "codemirror_mode": {
    "name": "ipython",
    "version": 3
   },
   "file_extension": ".py",
   "mimetype": "text/x-python",
   "name": "python",
   "nbconvert_exporter": "python",
   "pygments_lexer": "ipython3",
   "version": "3.11.9"
  }
 },
 "nbformat": 4,
 "nbformat_minor": 5
}
