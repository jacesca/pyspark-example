{
 "cells": [
  {
   "cell_type": "markdown",
   "id": "b9c96c70-e0dd-4e93-9f82-1afe430eed13",
   "metadata": {},
   "source": [
    "# Manipulating data\n",
    "\n",
    "In this chapter, you'll learn about the pyspark.sql module, which provides optimized data queries to your Spark session.\n",
    "\n",
    "## Preparing the environment\n",
    "\n",
    "### Importing libraries"
   ]
  },
  {
   "cell_type": "code",
   "execution_count": 1,
   "id": "2a59ed11-7754-435d-b27b-4937de21f758",
   "metadata": {},
   "outputs": [],
   "source": [
    "import os\n",
    "os.environ[\"PYARROW_IGNORE_TIMEZONE\"] = \"1\""
   ]
  },
  {
   "cell_type": "code",
   "execution_count": 2,
   "id": "ff20f2f5-1e6e-4571-92c9-e07f94a4f949",
   "metadata": {},
   "outputs": [],
   "source": [
    "from pprint import pprint\n",
    "\n",
    "from pyspark.sql.types import (_parse_datatype_string, StructType, StructField,\n",
    "                               DoubleType, IntegerType, StringType)\n",
    "from pyspark.sql import SparkSession, functions as F\n",
    "from pyspark.testing.utils import assertDataFrameEqual"
   ]
  },
  {
   "cell_type": "markdown",
   "id": "a7ff9c15-fde0-4d18-9a33-975948ad3ab5",
   "metadata": {},
   "source": [
    "### Connect to Spark"
   ]
  },
  {
   "cell_type": "code",
   "execution_count": 3,
   "id": "e02572c3-dd71-4140-a850-44ffe0123334",
   "metadata": {},
   "outputs": [],
   "source": [
    "spark = SparkSession.builder.getOrCreate()\n",
    "\n",
    "# eval DataFrame in notebooks\n",
    "spark.conf.set('spark.sql.repl.eagerEval.enabled', True)"
   ]
  },
  {
   "cell_type": "markdown",
   "id": "29ed9860-8ec8-403c-9e15-fa35a2190a23",
   "metadata": {},
   "source": [
    "### Reading the data"
   ]
  },
  {
   "cell_type": "code",
   "execution_count": 4,
   "id": "6f7c4982-bada-43d2-9651-bf02d15ced82",
   "metadata": {},
   "outputs": [
    {
     "name": "stdout",
     "output_type": "stream",
     "text": [
      "root\n",
      " |-- year: integer (nullable = true)\n",
      " |-- month: integer (nullable = true)\n",
      " |-- day: integer (nullable = true)\n",
      " |-- dep_time: integer (nullable = true)\n",
      " |-- dep_delay: integer (nullable = true)\n",
      " |-- arr_time: integer (nullable = true)\n",
      " |-- arr_delay: integer (nullable = true)\n",
      " |-- carrier: string (nullable = true)\n",
      " |-- tailnum: string (nullable = true)\n",
      " |-- flight: integer (nullable = true)\n",
      " |-- origin: string (nullable = true)\n",
      " |-- dest: string (nullable = true)\n",
      " |-- air_time: integer (nullable = true)\n",
      " |-- distance: integer (nullable = true)\n",
      " |-- hour: integer (nullable = true)\n",
      " |-- minute: integer (nullable = true)\n",
      "\n"
     ]
    },
    {
     "data": {
      "text/html": [
       "<table border='1'>\n",
       "<tr><th>year</th><th>month</th><th>day</th><th>dep_time</th><th>dep_delay</th><th>arr_time</th><th>arr_delay</th><th>carrier</th><th>tailnum</th><th>flight</th><th>origin</th><th>dest</th><th>air_time</th><th>distance</th><th>hour</th><th>minute</th></tr>\n",
       "<tr><td>2014</td><td>12</td><td>8</td><td>658</td><td>-7</td><td>935</td><td>-5</td><td>VX</td><td>N846VA</td><td>1780</td><td>SEA</td><td>LAX</td><td>132</td><td>954</td><td>6</td><td>58</td></tr>\n",
       "<tr><td>2014</td><td>1</td><td>22</td><td>1040</td><td>5</td><td>1505</td><td>5</td><td>AS</td><td>N559AS</td><td>851</td><td>SEA</td><td>HNL</td><td>360</td><td>2677</td><td>10</td><td>40</td></tr>\n",
       "</table>\n"
      ],
      "text/plain": [
       "+----+-----+---+--------+---------+--------+---------+-------+-------+------+------+----+--------+--------+----+------+\n",
       "|year|month|day|dep_time|dep_delay|arr_time|arr_delay|carrier|tailnum|flight|origin|dest|air_time|distance|hour|minute|\n",
       "+----+-----+---+--------+---------+--------+---------+-------+-------+------+------+----+--------+--------+----+------+\n",
       "|2014|   12|  8|     658|       -7|     935|       -5|     VX| N846VA|  1780|   SEA| LAX|     132|     954|   6|    58|\n",
       "|2014|    1| 22|    1040|        5|    1505|        5|     AS| N559AS|   851|   SEA| HNL|     360|    2677|  10|    40|\n",
       "+----+-----+---+--------+---------+--------+---------+-------+-------+------+------+----+--------+--------+----+------+"
      ]
     },
     "execution_count": 4,
     "metadata": {},
     "output_type": "execute_result"
    }
   ],
   "source": [
    "schema_str = \"year int, month int, day int, dep_time int, dep_delay int, arr_time int, \" + \\\n",
    "             \"arr_delay int, carrier string, tailnum string, flight int, origin string, \" + \\\n",
    "             \"dest string, air_time int, distance int, hour int, minute int\"\n",
    "customSchema = _parse_datatype_string(schema_str)\n",
    "flights = spark.read.csv('data-sources/flights_small.csv', header=True, schema=schema_str)\n",
    "flights.createOrReplaceTempView(\"flights\")\n",
    "flights.printSchema()\n",
    "flights.limit(2)"
   ]
  },
  {
   "cell_type": "code",
   "execution_count": 5,
   "id": "88d01fad-075f-44b8-8511-63f825d1acbe",
   "metadata": {},
   "outputs": [
    {
     "name": "stdout",
     "output_type": "stream",
     "text": [
      "root\n",
      " |-- faa: string (nullable = true)\n",
      " |-- name: string (nullable = true)\n",
      " |-- lat: double (nullable = true)\n",
      " |-- lon: double (nullable = true)\n",
      " |-- alt: integer (nullable = true)\n",
      " |-- tz: integer (nullable = true)\n",
      " |-- dst: string (nullable = true)\n",
      "\n"
     ]
    },
    {
     "data": {
      "text/html": [
       "<table border='1'>\n",
       "<tr><th>faa</th><th>name</th><th>lat</th><th>lon</th><th>alt</th><th>tz</th><th>dst</th></tr>\n",
       "<tr><td>04G</td><td>Lansdowne Airport</td><td>41.1304722</td><td>-80.6195833</td><td>1044</td><td>-5</td><td>A</td></tr>\n",
       "<tr><td>06A</td><td>Moton Field Munic...</td><td>32.4605722</td><td>-85.6800278</td><td>264</td><td>-5</td><td>A</td></tr>\n",
       "</table>\n"
      ],
      "text/plain": [
       "+---+--------------------+----------+-----------+----+---+---+\n",
       "|faa|                name|       lat|        lon| alt| tz|dst|\n",
       "+---+--------------------+----------+-----------+----+---+---+\n",
       "|04G|   Lansdowne Airport|41.1304722|-80.6195833|1044| -5|  A|\n",
       "|06A|Moton Field Munic...|32.4605722|-85.6800278| 264| -5|  A|\n",
       "+---+--------------------+----------+-----------+----+---+---+"
      ]
     },
     "execution_count": 5,
     "metadata": {},
     "output_type": "execute_result"
    }
   ],
   "source": [
    "schema_str = \"faa string, name string, lat double, lon double, alt int, tz int, dst string\"\n",
    "customSchema = _parse_datatype_string(schema_str)\n",
    "airports = spark.read.schema(customSchema).csv('data-sources/airports.csv', header=True)\n",
    "airports.createOrReplaceTempView(\"airports\")\n",
    "airports.printSchema()\n",
    "airports.limit(2)"
   ]
  },
  {
   "cell_type": "code",
   "execution_count": 6,
   "id": "f04563ba-c4b0-402d-b16a-383c48c0fdca",
   "metadata": {},
   "outputs": [
    {
     "name": "stdout",
     "output_type": "stream",
     "text": [
      "root\n",
      " |-- tailnum: string (nullable = true)\n",
      " |-- year: integer (nullable = true)\n",
      " |-- type: string (nullable = true)\n",
      " |-- manufacturer: string (nullable = true)\n",
      " |-- model: string (nullable = true)\n",
      " |-- engines: integer (nullable = true)\n",
      " |-- seats: integer (nullable = true)\n",
      " |-- speed: double (nullable = true)\n",
      " |-- engine: string (nullable = true)\n",
      "\n"
     ]
    },
    {
     "data": {
      "text/html": [
       "<table border='1'>\n",
       "<tr><th>tailnum</th><th>year</th><th>type</th><th>manufacturer</th><th>model</th><th>engines</th><th>seats</th><th>speed</th><th>engine</th></tr>\n",
       "<tr><td>N102UW</td><td>1998</td><td>Fixed wing multi ...</td><td>AIRBUS INDUSTRIE</td><td>A320-214</td><td>2</td><td>182</td><td>NULL</td><td>Turbo-fan</td></tr>\n",
       "<tr><td>N103US</td><td>1999</td><td>Fixed wing multi ...</td><td>AIRBUS INDUSTRIE</td><td>A320-214</td><td>2</td><td>182</td><td>NULL</td><td>Turbo-fan</td></tr>\n",
       "</table>\n"
      ],
      "text/plain": [
       "+-------+----+--------------------+----------------+--------+-------+-----+-----+---------+\n",
       "|tailnum|year|                type|    manufacturer|   model|engines|seats|speed|   engine|\n",
       "+-------+----+--------------------+----------------+--------+-------+-----+-----+---------+\n",
       "| N102UW|1998|Fixed wing multi ...|AIRBUS INDUSTRIE|A320-214|      2|  182| NULL|Turbo-fan|\n",
       "| N103US|1999|Fixed wing multi ...|AIRBUS INDUSTRIE|A320-214|      2|  182| NULL|Turbo-fan|\n",
       "+-------+----+--------------------+----------------+--------+-------+-----+-----+---------+"
      ]
     },
     "execution_count": 6,
     "metadata": {},
     "output_type": "execute_result"
    }
   ],
   "source": [
    "customSchema = StructType([\n",
    "    StructField(\"tailnum\", StringType()),\n",
    "    StructField(\"year\", IntegerType()),\n",
    "    StructField(\"type\", StringType()),\n",
    "    StructField(\"manufacturer\", StringType()),\n",
    "    StructField(\"model\", StringType()),\n",
    "    StructField(\"engines\", IntegerType()),\n",
    "    StructField(\"seats\", IntegerType()),\n",
    "    StructField(\"speed\", DoubleType()),\n",
    "    StructField(\"engine\", StringType())\n",
    "])\n",
    "planes = (spark.read.schema(customSchema)\n",
    "                    .format(\"csv\")\n",
    "                    .option(\"header\", \"true\")\n",
    "                    .load('data-sources/planes.csv'))\n",
    "planes.createOrReplaceTempView(\"planes\")\n",
    "planes.printSchema()\n",
    "planes.limit(2)"
   ]
  },
  {
   "cell_type": "code",
   "execution_count": 7,
   "id": "f2cbb13d-4655-44a7-b88e-f08e87d26884",
   "metadata": {},
   "outputs": [
    {
     "data": {
      "text/plain": [
       "[Table(name='airports', catalog=None, namespace=[], description=None, tableType='TEMPORARY', isTemporary=True),\n",
       " Table(name='flights', catalog=None, namespace=[], description=None, tableType='TEMPORARY', isTemporary=True),\n",
       " Table(name='planes', catalog=None, namespace=[], description=None, tableType='TEMPORARY', isTemporary=True)]"
      ]
     },
     "execution_count": 7,
     "metadata": {},
     "output_type": "execute_result"
    }
   ],
   "source": [
    "spark.catalog.listTables()"
   ]
  },
  {
   "cell_type": "markdown",
   "id": "389566e9-9038-42b2-85db-0fbea02cce3e",
   "metadata": {},
   "source": [
    "## Ex. 1 - Creating columns\n",
    "\n",
    "In this chapter, you'll learn how to use the methods defined by Spark's DataFrame class to perform common data operations.\n",
    "\n",
    "Let's look at performing column-wise operations. In Spark you can do this using the `.withColumn()` method, which takes two arguments. First, a string with the name of your new column, and second the new column itself.\n",
    "\n",
    "The new column must be an object of class `Column`. Creating one of these is as easy as extracting a column from your DataFrame using `df.colName`.\n",
    "\n",
    "Updating a Spark DataFrame is somewhat different than working in pandas because the Spark DataFrame is immutable. This means that it can't be changed, and so columns can't be updated in place.\n",
    "\n",
    "Thus, all these methods return a new DataFrame. To overwrite the original DataFrame you must reassign the returned DataFrame using the method like so:\n",
    "\n",
    "`df = df.withColumn(\"newCol\", df.oldCol + 1)`\n",
    "\n",
    "The above code creates a DataFrame with the same columns as `df` plus a new column, `newCol`, where every entry is equal to the corresponding entry from `oldCol`, plus one.\n",
    "\n",
    "To overwrite an existing column, just pass the name of the column as the first argument!\n",
    "\n",
    "**Instructions:**\n",
    "1. Use the `spark.table()` method with the argument `\"flights\"` to create a DataFrame containing the values of the flights table in the `.catalog`. Save it as flights.\n",
    "2. Show the head of flights using `flights.show()`. Check the output: the column `air_time` contains the duration of the flight in minutes.\n",
    "3. Update `flights` to include a new column called `duration_hrs`, that contains the duration of each flight in hours (you'll need to divide `air_time` by the number of minutes in an hour)."
   ]
  },
  {
   "cell_type": "code",
   "execution_count": 8,
   "id": "ee5eae3e-baaf-4866-b5f5-d62488beeb19",
   "metadata": {},
   "outputs": [
    {
     "name": "stdout",
     "output_type": "stream",
     "text": [
      "+----+-----+---+--------+---------+--------+---------+-------+-------+------+------+----+--------+--------+----+------+\n",
      "|year|month|day|dep_time|dep_delay|arr_time|arr_delay|carrier|tailnum|flight|origin|dest|air_time|distance|hour|minute|\n",
      "+----+-----+---+--------+---------+--------+---------+-------+-------+------+------+----+--------+--------+----+------+\n",
      "|2014|   12|  8|     658|       -7|     935|       -5|     VX| N846VA|  1780|   SEA| LAX|     132|     954|   6|    58|\n",
      "|2014|    1| 22|    1040|        5|    1505|        5|     AS| N559AS|   851|   SEA| HNL|     360|    2677|  10|    40|\n",
      "|2014|    3|  9|    1443|       -2|    1652|        2|     VX| N847VA|   755|   SEA| SFO|     111|     679|  14|    43|\n",
      "|2014|    4|  9|    1705|       45|    1839|       34|     WN| N360SW|   344|   PDX| SJC|      83|     569|  17|     5|\n",
      "|2014|    3|  9|     754|       -1|    1015|        1|     AS| N612AS|   522|   SEA| BUR|     127|     937|   7|    54|\n",
      "|2014|    1| 15|    1037|        7|    1352|        2|     WN| N646SW|    48|   PDX| DEN|     121|     991|  10|    37|\n",
      "|2014|    7|  2|     847|       42|    1041|       51|     WN| N422WN|  1520|   PDX| OAK|      90|     543|   8|    47|\n",
      "|2014|    5| 12|    1655|       -5|    1842|      -18|     VX| N361VA|   755|   SEA| SFO|      98|     679|  16|    55|\n",
      "|2014|    4| 19|    1236|       -4|    1508|       -7|     AS| N309AS|   490|   SEA| SAN|     135|    1050|  12|    36|\n",
      "|2014|   11| 19|    1812|       -3|    2352|       -4|     AS| N564AS|    26|   SEA| ORD|     198|    1721|  18|    12|\n",
      "|2014|   11|  8|    1653|       -2|    1924|       -1|     AS| N323AS|   448|   SEA| LAX|     130|     954|  16|    53|\n",
      "|2014|    8|  3|    1120|        0|    1415|        2|     AS| N305AS|   656|   SEA| PHX|     154|    1107|  11|    20|\n",
      "|2014|   10| 30|     811|       21|    1038|       29|     AS| N433AS|   608|   SEA| LAS|     127|     867|   8|    11|\n",
      "|2014|   11| 12|    2346|       -4|     217|      -28|     AS| N765AS|   121|   SEA| ANC|     183|    1448|  23|    46|\n",
      "|2014|   10| 31|    1314|       89|    1544|      111|     AS| N713AS|   306|   SEA| SFO|     129|     679|  13|    14|\n",
      "|2014|    1| 29|    2009|        3|    2159|        9|     UA| N27205|  1458|   PDX| SFO|      90|     550|  20|     9|\n",
      "|2014|   12| 17|    2015|       50|    2150|       41|     AS| N626AS|   368|   SEA| SMF|      76|     605|  20|    15|\n",
      "|2014|    8| 11|    1017|       -3|    1613|       -7|     WN| N8634A|   827|   SEA| MDW|     216|    1733|  10|    17|\n",
      "|2014|    1| 13|    2156|       -9|     607|      -15|     AS| N597AS|    24|   SEA| BOS|     290|    2496|  21|    56|\n",
      "|2014|    6|  5|    1733|      -12|    1945|      -10|     OO| N215AG|  3488|   PDX| BUR|     111|     817|  17|    33|\n",
      "+----+-----+---+--------+---------+--------+---------+-------+-------+------+------+----+--------+--------+----+------+\n",
      "only showing top 20 rows\n",
      "\n"
     ]
    },
    {
     "data": {
      "text/html": [
       "<table border='1'>\n",
       "<tr><th>year</th><th>month</th><th>day</th><th>dep_time</th><th>dep_delay</th><th>arr_time</th><th>arr_delay</th><th>carrier</th><th>tailnum</th><th>flight</th><th>origin</th><th>dest</th><th>air_time</th><th>distance</th><th>hour</th><th>minute</th><th>duration_hrs</th></tr>\n",
       "<tr><td>2014</td><td>12</td><td>8</td><td>658</td><td>-7</td><td>935</td><td>-5</td><td>VX</td><td>N846VA</td><td>1780</td><td>SEA</td><td>LAX</td><td>132</td><td>954</td><td>6</td><td>58</td><td>2.2</td></tr>\n",
       "<tr><td>2014</td><td>1</td><td>22</td><td>1040</td><td>5</td><td>1505</td><td>5</td><td>AS</td><td>N559AS</td><td>851</td><td>SEA</td><td>HNL</td><td>360</td><td>2677</td><td>10</td><td>40</td><td>6.0</td></tr>\n",
       "<tr><td>2014</td><td>3</td><td>9</td><td>1443</td><td>-2</td><td>1652</td><td>2</td><td>VX</td><td>N847VA</td><td>755</td><td>SEA</td><td>SFO</td><td>111</td><td>679</td><td>14</td><td>43</td><td>1.85</td></tr>\n",
       "<tr><td>2014</td><td>4</td><td>9</td><td>1705</td><td>45</td><td>1839</td><td>34</td><td>WN</td><td>N360SW</td><td>344</td><td>PDX</td><td>SJC</td><td>83</td><td>569</td><td>17</td><td>5</td><td>1.3833333333333333</td></tr>\n",
       "<tr><td>2014</td><td>3</td><td>9</td><td>754</td><td>-1</td><td>1015</td><td>1</td><td>AS</td><td>N612AS</td><td>522</td><td>SEA</td><td>BUR</td><td>127</td><td>937</td><td>7</td><td>54</td><td>2.1166666666666667</td></tr>\n",
       "<tr><td>2014</td><td>1</td><td>15</td><td>1037</td><td>7</td><td>1352</td><td>2</td><td>WN</td><td>N646SW</td><td>48</td><td>PDX</td><td>DEN</td><td>121</td><td>991</td><td>10</td><td>37</td><td>2.0166666666666666</td></tr>\n",
       "<tr><td>2014</td><td>7</td><td>2</td><td>847</td><td>42</td><td>1041</td><td>51</td><td>WN</td><td>N422WN</td><td>1520</td><td>PDX</td><td>OAK</td><td>90</td><td>543</td><td>8</td><td>47</td><td>1.5</td></tr>\n",
       "<tr><td>2014</td><td>5</td><td>12</td><td>1655</td><td>-5</td><td>1842</td><td>-18</td><td>VX</td><td>N361VA</td><td>755</td><td>SEA</td><td>SFO</td><td>98</td><td>679</td><td>16</td><td>55</td><td>1.6333333333333333</td></tr>\n",
       "<tr><td>2014</td><td>4</td><td>19</td><td>1236</td><td>-4</td><td>1508</td><td>-7</td><td>AS</td><td>N309AS</td><td>490</td><td>SEA</td><td>SAN</td><td>135</td><td>1050</td><td>12</td><td>36</td><td>2.25</td></tr>\n",
       "<tr><td>2014</td><td>11</td><td>19</td><td>1812</td><td>-3</td><td>2352</td><td>-4</td><td>AS</td><td>N564AS</td><td>26</td><td>SEA</td><td>ORD</td><td>198</td><td>1721</td><td>18</td><td>12</td><td>3.3</td></tr>\n",
       "<tr><td>2014</td><td>11</td><td>8</td><td>1653</td><td>-2</td><td>1924</td><td>-1</td><td>AS</td><td>N323AS</td><td>448</td><td>SEA</td><td>LAX</td><td>130</td><td>954</td><td>16</td><td>53</td><td>2.1666666666666665</td></tr>\n",
       "<tr><td>2014</td><td>8</td><td>3</td><td>1120</td><td>0</td><td>1415</td><td>2</td><td>AS</td><td>N305AS</td><td>656</td><td>SEA</td><td>PHX</td><td>154</td><td>1107</td><td>11</td><td>20</td><td>2.566666666666667</td></tr>\n",
       "<tr><td>2014</td><td>10</td><td>30</td><td>811</td><td>21</td><td>1038</td><td>29</td><td>AS</td><td>N433AS</td><td>608</td><td>SEA</td><td>LAS</td><td>127</td><td>867</td><td>8</td><td>11</td><td>2.1166666666666667</td></tr>\n",
       "<tr><td>2014</td><td>11</td><td>12</td><td>2346</td><td>-4</td><td>217</td><td>-28</td><td>AS</td><td>N765AS</td><td>121</td><td>SEA</td><td>ANC</td><td>183</td><td>1448</td><td>23</td><td>46</td><td>3.05</td></tr>\n",
       "<tr><td>2014</td><td>10</td><td>31</td><td>1314</td><td>89</td><td>1544</td><td>111</td><td>AS</td><td>N713AS</td><td>306</td><td>SEA</td><td>SFO</td><td>129</td><td>679</td><td>13</td><td>14</td><td>2.15</td></tr>\n",
       "<tr><td>2014</td><td>1</td><td>29</td><td>2009</td><td>3</td><td>2159</td><td>9</td><td>UA</td><td>N27205</td><td>1458</td><td>PDX</td><td>SFO</td><td>90</td><td>550</td><td>20</td><td>9</td><td>1.5</td></tr>\n",
       "<tr><td>2014</td><td>12</td><td>17</td><td>2015</td><td>50</td><td>2150</td><td>41</td><td>AS</td><td>N626AS</td><td>368</td><td>SEA</td><td>SMF</td><td>76</td><td>605</td><td>20</td><td>15</td><td>1.2666666666666666</td></tr>\n",
       "<tr><td>2014</td><td>8</td><td>11</td><td>1017</td><td>-3</td><td>1613</td><td>-7</td><td>WN</td><td>N8634A</td><td>827</td><td>SEA</td><td>MDW</td><td>216</td><td>1733</td><td>10</td><td>17</td><td>3.6</td></tr>\n",
       "<tr><td>2014</td><td>1</td><td>13</td><td>2156</td><td>-9</td><td>607</td><td>-15</td><td>AS</td><td>N597AS</td><td>24</td><td>SEA</td><td>BOS</td><td>290</td><td>2496</td><td>21</td><td>56</td><td>4.833333333333333</td></tr>\n",
       "<tr><td>2014</td><td>6</td><td>5</td><td>1733</td><td>-12</td><td>1945</td><td>-10</td><td>OO</td><td>N215AG</td><td>3488</td><td>PDX</td><td>BUR</td><td>111</td><td>817</td><td>17</td><td>33</td><td>1.85</td></tr>\n",
       "</table>\n",
       "only showing top 20 rows\n"
      ],
      "text/plain": [
       "+----+-----+---+--------+---------+--------+---------+-------+-------+------+------+----+--------+--------+----+------+------------------+\n",
       "|year|month|day|dep_time|dep_delay|arr_time|arr_delay|carrier|tailnum|flight|origin|dest|air_time|distance|hour|minute|      duration_hrs|\n",
       "+----+-----+---+--------+---------+--------+---------+-------+-------+------+------+----+--------+--------+----+------+------------------+\n",
       "|2014|   12|  8|     658|       -7|     935|       -5|     VX| N846VA|  1780|   SEA| LAX|     132|     954|   6|    58|               2.2|\n",
       "|2014|    1| 22|    1040|        5|    1505|        5|     AS| N559AS|   851|   SEA| HNL|     360|    2677|  10|    40|               6.0|\n",
       "|2014|    3|  9|    1443|       -2|    1652|        2|     VX| N847VA|   755|   SEA| SFO|     111|     679|  14|    43|              1.85|\n",
       "|2014|    4|  9|    1705|       45|    1839|       34|     WN| N360SW|   344|   PDX| SJC|      83|     569|  17|     5|1.3833333333333333|\n",
       "|2014|    3|  9|     754|       -1|    1015|        1|     AS| N612AS|   522|   SEA| BUR|     127|     937|   7|    54|2.1166666666666667|\n",
       "|2014|    1| 15|    1037|        7|    1352|        2|     WN| N646SW|    48|   PDX| DEN|     121|     991|  10|    37|2.0166666666666666|\n",
       "|2014|    7|  2|     847|       42|    1041|       51|     WN| N422WN|  1520|   PDX| OAK|      90|     543|   8|    47|               1.5|\n",
       "|2014|    5| 12|    1655|       -5|    1842|      -18|     VX| N361VA|   755|   SEA| SFO|      98|     679|  16|    55|1.6333333333333333|\n",
       "|2014|    4| 19|    1236|       -4|    1508|       -7|     AS| N309AS|   490|   SEA| SAN|     135|    1050|  12|    36|              2.25|\n",
       "|2014|   11| 19|    1812|       -3|    2352|       -4|     AS| N564AS|    26|   SEA| ORD|     198|    1721|  18|    12|               3.3|\n",
       "|2014|   11|  8|    1653|       -2|    1924|       -1|     AS| N323AS|   448|   SEA| LAX|     130|     954|  16|    53|2.1666666666666665|\n",
       "|2014|    8|  3|    1120|        0|    1415|        2|     AS| N305AS|   656|   SEA| PHX|     154|    1107|  11|    20| 2.566666666666667|\n",
       "|2014|   10| 30|     811|       21|    1038|       29|     AS| N433AS|   608|   SEA| LAS|     127|     867|   8|    11|2.1166666666666667|\n",
       "|2014|   11| 12|    2346|       -4|     217|      -28|     AS| N765AS|   121|   SEA| ANC|     183|    1448|  23|    46|              3.05|\n",
       "|2014|   10| 31|    1314|       89|    1544|      111|     AS| N713AS|   306|   SEA| SFO|     129|     679|  13|    14|              2.15|\n",
       "|2014|    1| 29|    2009|        3|    2159|        9|     UA| N27205|  1458|   PDX| SFO|      90|     550|  20|     9|               1.5|\n",
       "|2014|   12| 17|    2015|       50|    2150|       41|     AS| N626AS|   368|   SEA| SMF|      76|     605|  20|    15|1.2666666666666666|\n",
       "|2014|    8| 11|    1017|       -3|    1613|       -7|     WN| N8634A|   827|   SEA| MDW|     216|    1733|  10|    17|               3.6|\n",
       "|2014|    1| 13|    2156|       -9|     607|      -15|     AS| N597AS|    24|   SEA| BOS|     290|    2496|  21|    56| 4.833333333333333|\n",
       "|2014|    6|  5|    1733|      -12|    1945|      -10|     OO| N215AG|  3488|   PDX| BUR|     111|     817|  17|    33|              1.85|\n",
       "+----+-----+---+--------+---------+--------+---------+-------+-------+------+------+----+--------+--------+----+------+------------------+\n",
       "only showing top 20 rows"
      ]
     },
     "execution_count": 8,
     "metadata": {},
     "output_type": "execute_result"
    }
   ],
   "source": [
    "# Create the DataFrame flights\n",
    "flights = spark.table(\"flights\")\n",
    "\n",
    "# Show the head\n",
    "flights.show()\n",
    "\n",
    "# Add duration_hrs\n",
    "flights = flights.withColumn('duration_hrs', flights.air_time/60)\n",
    "flights"
   ]
  },
  {
   "cell_type": "markdown",
   "id": "bd86e45b-b8c0-4b40-bc4c-3907383a6c90",
   "metadata": {},
   "source": [
    "## Ex. 2 - Filtering Data\n",
    "\n",
    "Let's take a look at the `.filter()` method. As you might suspect, this is the Spark counterpart of SQL's `WHERE` clause. The `.filter()` method takes either an expression that would follow the `WHERE` clause of a SQL expression as a string, or a Spark Column of boolean (True/False) values.\n",
    "\n",
    "For example, the following two expressions will produce the same output:\n",
    "\n",
    "```\n",
    "flights.filter(\"air_time > 120\").show()\n",
    "flights.filter(flights.air_time > 120).show()\n",
    "```\n",
    "\n",
    "Notice that in the first case, we pass a string to `.filter()`. In SQL, we would write this filtering task as `SELECT * FROM flights WHERE air_time > 120`. Spark's `.filter()` can accept any expression that could go in the `WHERE` clause of a SQL query (in this case, `\"air_time > 120\"`), as long as it is passed as a string. Notice that in this case, we do not reference the name of the table in the string -- as we wouldn't in the SQL request.\n",
    "\n",
    "In the second case, we actually pass a column of boolean values to `.filter()`. Remember that `flights.air_time > 120` returns a column of boolean values that has True in place of those records in `flights.air_time` that are over 120, and False otherwise.\n",
    "\n",
    "**Instructions:**\n",
    "\n",
    "1. Use the `.filter()` method to find all the flights that flew over 1000 miles two ways:\n",
    "    - First, pass a SQL string to `.filter()` that checks whether the distance is greater than 1000. Save this as `long_flights1`.\n",
    "    - Then pass a column of boolean values to `.filter()` that checks the same thing. Save this as `long_flights2`.\n",
    "2. Use `.show()` to print heads of both DataFrames and make sure they're actually equal!"
   ]
  },
  {
   "cell_type": "code",
   "execution_count": 9,
   "id": "0438dd13-32c7-47d1-9954-6e3beddccf70",
   "metadata": {},
   "outputs": [
    {
     "data": {
      "text/html": [
       "<table border='1'>\n",
       "<tr><th>year</th><th>month</th><th>day</th><th>dep_time</th><th>dep_delay</th><th>arr_time</th><th>arr_delay</th><th>carrier</th><th>tailnum</th><th>flight</th><th>origin</th><th>dest</th><th>air_time</th><th>distance</th><th>hour</th><th>minute</th><th>duration_hrs</th></tr>\n",
       "<tr><td>2014</td><td>1</td><td>22</td><td>1040</td><td>5</td><td>1505</td><td>5</td><td>AS</td><td>N559AS</td><td>851</td><td>SEA</td><td>HNL</td><td>360</td><td>2677</td><td>10</td><td>40</td><td>6.0</td></tr>\n",
       "<tr><td>2014</td><td>4</td><td>19</td><td>1236</td><td>-4</td><td>1508</td><td>-7</td><td>AS</td><td>N309AS</td><td>490</td><td>SEA</td><td>SAN</td><td>135</td><td>1050</td><td>12</td><td>36</td><td>2.25</td></tr>\n",
       "<tr><td>2014</td><td>11</td><td>19</td><td>1812</td><td>-3</td><td>2352</td><td>-4</td><td>AS</td><td>N564AS</td><td>26</td><td>SEA</td><td>ORD</td><td>198</td><td>1721</td><td>18</td><td>12</td><td>3.3</td></tr>\n",
       "<tr><td>2014</td><td>8</td><td>3</td><td>1120</td><td>0</td><td>1415</td><td>2</td><td>AS</td><td>N305AS</td><td>656</td><td>SEA</td><td>PHX</td><td>154</td><td>1107</td><td>11</td><td>20</td><td>2.566666666666667</td></tr>\n",
       "<tr><td>2014</td><td>11</td><td>12</td><td>2346</td><td>-4</td><td>217</td><td>-28</td><td>AS</td><td>N765AS</td><td>121</td><td>SEA</td><td>ANC</td><td>183</td><td>1448</td><td>23</td><td>46</td><td>3.05</td></tr>\n",
       "<tr><td>2014</td><td>8</td><td>11</td><td>1017</td><td>-3</td><td>1613</td><td>-7</td><td>WN</td><td>N8634A</td><td>827</td><td>SEA</td><td>MDW</td><td>216</td><td>1733</td><td>10</td><td>17</td><td>3.6</td></tr>\n",
       "<tr><td>2014</td><td>1</td><td>13</td><td>2156</td><td>-9</td><td>607</td><td>-15</td><td>AS</td><td>N597AS</td><td>24</td><td>SEA</td><td>BOS</td><td>290</td><td>2496</td><td>21</td><td>56</td><td>4.833333333333333</td></tr>\n",
       "<tr><td>2014</td><td>9</td><td>26</td><td>610</td><td>-5</td><td>1523</td><td>65</td><td>US</td><td>N127UW</td><td>616</td><td>SEA</td><td>PHL</td><td>293</td><td>2378</td><td>6</td><td>10</td><td>4.883333333333334</td></tr>\n",
       "<tr><td>2014</td><td>12</td><td>4</td><td>954</td><td>-6</td><td>1348</td><td>-17</td><td>HA</td><td>N395HA</td><td>29</td><td>SEA</td><td>OGG</td><td>333</td><td>2640</td><td>9</td><td>54</td><td>5.55</td></tr>\n",
       "<tr><td>2014</td><td>6</td><td>4</td><td>1115</td><td>0</td><td>1346</td><td>-3</td><td>AS</td><td>N461AS</td><td>488</td><td>SEA</td><td>SAN</td><td>133</td><td>1050</td><td>11</td><td>15</td><td>2.216666666666667</td></tr>\n",
       "<tr><td>2014</td><td>6</td><td>26</td><td>2054</td><td>-1</td><td>2318</td><td>-6</td><td>B6</td><td>N590JB</td><td>907</td><td>SEA</td><td>ANC</td><td>179</td><td>1448</td><td>20</td><td>54</td><td>2.9833333333333334</td></tr>\n",
       "<tr><td>2014</td><td>6</td><td>7</td><td>1823</td><td>-7</td><td>2112</td><td>-28</td><td>AS</td><td>N512AS</td><td>815</td><td>SEA</td><td>LIH</td><td>335</td><td>2701</td><td>18</td><td>23</td><td>5.583333333333333</td></tr>\n",
       "<tr><td>2014</td><td>4</td><td>30</td><td>801</td><td>1</td><td>1757</td><td>90</td><td>AS</td><td>N407AS</td><td>18</td><td>SEA</td><td>MCO</td><td>342</td><td>2554</td><td>8</td><td>1</td><td>5.7</td></tr>\n",
       "<tr><td>2014</td><td>11</td><td>29</td><td>905</td><td>155</td><td>1655</td><td>170</td><td>DL</td><td>N824DN</td><td>1598</td><td>SEA</td><td>ATL</td><td>229</td><td>2182</td><td>9</td><td>5</td><td>3.816666666666667</td></tr>\n",
       "<tr><td>2014</td><td>6</td><td>2</td><td>2222</td><td>7</td><td>55</td><td>15</td><td>AS</td><td>N402AS</td><td>99</td><td>SEA</td><td>ANC</td><td>190</td><td>1448</td><td>22</td><td>22</td><td>3.1666666666666665</td></tr>\n",
       "<tr><td>2014</td><td>11</td><td>15</td><td>1034</td><td>-6</td><td>1414</td><td>-26</td><td>AS</td><td>N589AS</td><td>794</td><td>SEA</td><td>ABQ</td><td>139</td><td>1180</td><td>10</td><td>34</td><td>2.316666666666667</td></tr>\n",
       "<tr><td>2014</td><td>10</td><td>20</td><td>1328</td><td>-1</td><td>1949</td><td>4</td><td>UA</td><td>N68805</td><td>1212</td><td>SEA</td><td>IAH</td><td>228</td><td>1874</td><td>13</td><td>28</td><td>3.8</td></tr>\n",
       "<tr><td>2014</td><td>12</td><td>16</td><td>1500</td><td>0</td><td>1906</td><td>19</td><td>US</td><td>N662AW</td><td>500</td><td>SEA</td><td>PHX</td><td>151</td><td>1107</td><td>15</td><td>0</td><td>2.5166666666666666</td></tr>\n",
       "<tr><td>2014</td><td>11</td><td>19</td><td>1319</td><td>-6</td><td>1821</td><td>-14</td><td>DL</td><td>N309US</td><td>2164</td><td>PDX</td><td>MSP</td><td>169</td><td>1426</td><td>13</td><td>19</td><td>2.816666666666667</td></tr>\n",
       "<tr><td>2014</td><td>5</td><td>21</td><td>515</td><td>0</td><td>757</td><td>0</td><td>US</td><td>N172US</td><td>593</td><td>SEA</td><td>PHX</td><td>143</td><td>1107</td><td>5</td><td>15</td><td>2.3833333333333333</td></tr>\n",
       "</table>\n",
       "only showing top 20 rows\n"
      ],
      "text/plain": [
       "+----+-----+---+--------+---------+--------+---------+-------+-------+------+------+----+--------+--------+----+------+------------------+\n",
       "|year|month|day|dep_time|dep_delay|arr_time|arr_delay|carrier|tailnum|flight|origin|dest|air_time|distance|hour|minute|      duration_hrs|\n",
       "+----+-----+---+--------+---------+--------+---------+-------+-------+------+------+----+--------+--------+----+------+------------------+\n",
       "|2014|    1| 22|    1040|        5|    1505|        5|     AS| N559AS|   851|   SEA| HNL|     360|    2677|  10|    40|               6.0|\n",
       "|2014|    4| 19|    1236|       -4|    1508|       -7|     AS| N309AS|   490|   SEA| SAN|     135|    1050|  12|    36|              2.25|\n",
       "|2014|   11| 19|    1812|       -3|    2352|       -4|     AS| N564AS|    26|   SEA| ORD|     198|    1721|  18|    12|               3.3|\n",
       "|2014|    8|  3|    1120|        0|    1415|        2|     AS| N305AS|   656|   SEA| PHX|     154|    1107|  11|    20| 2.566666666666667|\n",
       "|2014|   11| 12|    2346|       -4|     217|      -28|     AS| N765AS|   121|   SEA| ANC|     183|    1448|  23|    46|              3.05|\n",
       "|2014|    8| 11|    1017|       -3|    1613|       -7|     WN| N8634A|   827|   SEA| MDW|     216|    1733|  10|    17|               3.6|\n",
       "|2014|    1| 13|    2156|       -9|     607|      -15|     AS| N597AS|    24|   SEA| BOS|     290|    2496|  21|    56| 4.833333333333333|\n",
       "|2014|    9| 26|     610|       -5|    1523|       65|     US| N127UW|   616|   SEA| PHL|     293|    2378|   6|    10| 4.883333333333334|\n",
       "|2014|   12|  4|     954|       -6|    1348|      -17|     HA| N395HA|    29|   SEA| OGG|     333|    2640|   9|    54|              5.55|\n",
       "|2014|    6|  4|    1115|        0|    1346|       -3|     AS| N461AS|   488|   SEA| SAN|     133|    1050|  11|    15| 2.216666666666667|\n",
       "|2014|    6| 26|    2054|       -1|    2318|       -6|     B6| N590JB|   907|   SEA| ANC|     179|    1448|  20|    54|2.9833333333333334|\n",
       "|2014|    6|  7|    1823|       -7|    2112|      -28|     AS| N512AS|   815|   SEA| LIH|     335|    2701|  18|    23| 5.583333333333333|\n",
       "|2014|    4| 30|     801|        1|    1757|       90|     AS| N407AS|    18|   SEA| MCO|     342|    2554|   8|     1|               5.7|\n",
       "|2014|   11| 29|     905|      155|    1655|      170|     DL| N824DN|  1598|   SEA| ATL|     229|    2182|   9|     5| 3.816666666666667|\n",
       "|2014|    6|  2|    2222|        7|      55|       15|     AS| N402AS|    99|   SEA| ANC|     190|    1448|  22|    22|3.1666666666666665|\n",
       "|2014|   11| 15|    1034|       -6|    1414|      -26|     AS| N589AS|   794|   SEA| ABQ|     139|    1180|  10|    34| 2.316666666666667|\n",
       "|2014|   10| 20|    1328|       -1|    1949|        4|     UA| N68805|  1212|   SEA| IAH|     228|    1874|  13|    28|               3.8|\n",
       "|2014|   12| 16|    1500|        0|    1906|       19|     US| N662AW|   500|   SEA| PHX|     151|    1107|  15|     0|2.5166666666666666|\n",
       "|2014|   11| 19|    1319|       -6|    1821|      -14|     DL| N309US|  2164|   PDX| MSP|     169|    1426|  13|    19| 2.816666666666667|\n",
       "|2014|    5| 21|     515|        0|     757|        0|     US| N172US|   593|   SEA| PHX|     143|    1107|   5|    15|2.3833333333333333|\n",
       "+----+-----+---+--------+---------+--------+---------+-------+-------+------+------+----+--------+--------+----+------+------------------+\n",
       "only showing top 20 rows"
      ]
     },
     "execution_count": 9,
     "metadata": {},
     "output_type": "execute_result"
    }
   ],
   "source": [
    "# Filter flights by passing a string\n",
    "long_flights1 = flights.filter(\"distance > 1000\")\n",
    "\n",
    "# Filter flights by passing a column of boolean values\n",
    "long_flights2 = flights.filter(flights.distance > 1000)\n",
    "\n",
    "# Print the data to check they're equal\n",
    "long_flights1"
   ]
  },
  {
   "cell_type": "code",
   "execution_count": 10,
   "id": "59fcaf6c-7bbe-4fc4-8592-bb2a637d5f36",
   "metadata": {},
   "outputs": [
    {
     "data": {
      "text/html": [
       "<table border='1'>\n",
       "<tr><th>year</th><th>month</th><th>day</th><th>dep_time</th><th>dep_delay</th><th>arr_time</th><th>arr_delay</th><th>carrier</th><th>tailnum</th><th>flight</th><th>origin</th><th>dest</th><th>air_time</th><th>distance</th><th>hour</th><th>minute</th><th>duration_hrs</th></tr>\n",
       "<tr><td>2014</td><td>1</td><td>22</td><td>1040</td><td>5</td><td>1505</td><td>5</td><td>AS</td><td>N559AS</td><td>851</td><td>SEA</td><td>HNL</td><td>360</td><td>2677</td><td>10</td><td>40</td><td>6.0</td></tr>\n",
       "<tr><td>2014</td><td>4</td><td>19</td><td>1236</td><td>-4</td><td>1508</td><td>-7</td><td>AS</td><td>N309AS</td><td>490</td><td>SEA</td><td>SAN</td><td>135</td><td>1050</td><td>12</td><td>36</td><td>2.25</td></tr>\n",
       "<tr><td>2014</td><td>11</td><td>19</td><td>1812</td><td>-3</td><td>2352</td><td>-4</td><td>AS</td><td>N564AS</td><td>26</td><td>SEA</td><td>ORD</td><td>198</td><td>1721</td><td>18</td><td>12</td><td>3.3</td></tr>\n",
       "<tr><td>2014</td><td>8</td><td>3</td><td>1120</td><td>0</td><td>1415</td><td>2</td><td>AS</td><td>N305AS</td><td>656</td><td>SEA</td><td>PHX</td><td>154</td><td>1107</td><td>11</td><td>20</td><td>2.566666666666667</td></tr>\n",
       "<tr><td>2014</td><td>11</td><td>12</td><td>2346</td><td>-4</td><td>217</td><td>-28</td><td>AS</td><td>N765AS</td><td>121</td><td>SEA</td><td>ANC</td><td>183</td><td>1448</td><td>23</td><td>46</td><td>3.05</td></tr>\n",
       "<tr><td>2014</td><td>8</td><td>11</td><td>1017</td><td>-3</td><td>1613</td><td>-7</td><td>WN</td><td>N8634A</td><td>827</td><td>SEA</td><td>MDW</td><td>216</td><td>1733</td><td>10</td><td>17</td><td>3.6</td></tr>\n",
       "<tr><td>2014</td><td>1</td><td>13</td><td>2156</td><td>-9</td><td>607</td><td>-15</td><td>AS</td><td>N597AS</td><td>24</td><td>SEA</td><td>BOS</td><td>290</td><td>2496</td><td>21</td><td>56</td><td>4.833333333333333</td></tr>\n",
       "<tr><td>2014</td><td>9</td><td>26</td><td>610</td><td>-5</td><td>1523</td><td>65</td><td>US</td><td>N127UW</td><td>616</td><td>SEA</td><td>PHL</td><td>293</td><td>2378</td><td>6</td><td>10</td><td>4.883333333333334</td></tr>\n",
       "<tr><td>2014</td><td>12</td><td>4</td><td>954</td><td>-6</td><td>1348</td><td>-17</td><td>HA</td><td>N395HA</td><td>29</td><td>SEA</td><td>OGG</td><td>333</td><td>2640</td><td>9</td><td>54</td><td>5.55</td></tr>\n",
       "<tr><td>2014</td><td>6</td><td>4</td><td>1115</td><td>0</td><td>1346</td><td>-3</td><td>AS</td><td>N461AS</td><td>488</td><td>SEA</td><td>SAN</td><td>133</td><td>1050</td><td>11</td><td>15</td><td>2.216666666666667</td></tr>\n",
       "<tr><td>2014</td><td>6</td><td>26</td><td>2054</td><td>-1</td><td>2318</td><td>-6</td><td>B6</td><td>N590JB</td><td>907</td><td>SEA</td><td>ANC</td><td>179</td><td>1448</td><td>20</td><td>54</td><td>2.9833333333333334</td></tr>\n",
       "<tr><td>2014</td><td>6</td><td>7</td><td>1823</td><td>-7</td><td>2112</td><td>-28</td><td>AS</td><td>N512AS</td><td>815</td><td>SEA</td><td>LIH</td><td>335</td><td>2701</td><td>18</td><td>23</td><td>5.583333333333333</td></tr>\n",
       "<tr><td>2014</td><td>4</td><td>30</td><td>801</td><td>1</td><td>1757</td><td>90</td><td>AS</td><td>N407AS</td><td>18</td><td>SEA</td><td>MCO</td><td>342</td><td>2554</td><td>8</td><td>1</td><td>5.7</td></tr>\n",
       "<tr><td>2014</td><td>11</td><td>29</td><td>905</td><td>155</td><td>1655</td><td>170</td><td>DL</td><td>N824DN</td><td>1598</td><td>SEA</td><td>ATL</td><td>229</td><td>2182</td><td>9</td><td>5</td><td>3.816666666666667</td></tr>\n",
       "<tr><td>2014</td><td>6</td><td>2</td><td>2222</td><td>7</td><td>55</td><td>15</td><td>AS</td><td>N402AS</td><td>99</td><td>SEA</td><td>ANC</td><td>190</td><td>1448</td><td>22</td><td>22</td><td>3.1666666666666665</td></tr>\n",
       "<tr><td>2014</td><td>11</td><td>15</td><td>1034</td><td>-6</td><td>1414</td><td>-26</td><td>AS</td><td>N589AS</td><td>794</td><td>SEA</td><td>ABQ</td><td>139</td><td>1180</td><td>10</td><td>34</td><td>2.316666666666667</td></tr>\n",
       "<tr><td>2014</td><td>10</td><td>20</td><td>1328</td><td>-1</td><td>1949</td><td>4</td><td>UA</td><td>N68805</td><td>1212</td><td>SEA</td><td>IAH</td><td>228</td><td>1874</td><td>13</td><td>28</td><td>3.8</td></tr>\n",
       "<tr><td>2014</td><td>12</td><td>16</td><td>1500</td><td>0</td><td>1906</td><td>19</td><td>US</td><td>N662AW</td><td>500</td><td>SEA</td><td>PHX</td><td>151</td><td>1107</td><td>15</td><td>0</td><td>2.5166666666666666</td></tr>\n",
       "<tr><td>2014</td><td>11</td><td>19</td><td>1319</td><td>-6</td><td>1821</td><td>-14</td><td>DL</td><td>N309US</td><td>2164</td><td>PDX</td><td>MSP</td><td>169</td><td>1426</td><td>13</td><td>19</td><td>2.816666666666667</td></tr>\n",
       "<tr><td>2014</td><td>5</td><td>21</td><td>515</td><td>0</td><td>757</td><td>0</td><td>US</td><td>N172US</td><td>593</td><td>SEA</td><td>PHX</td><td>143</td><td>1107</td><td>5</td><td>15</td><td>2.3833333333333333</td></tr>\n",
       "</table>\n",
       "only showing top 20 rows\n"
      ],
      "text/plain": [
       "+----+-----+---+--------+---------+--------+---------+-------+-------+------+------+----+--------+--------+----+------+------------------+\n",
       "|year|month|day|dep_time|dep_delay|arr_time|arr_delay|carrier|tailnum|flight|origin|dest|air_time|distance|hour|minute|      duration_hrs|\n",
       "+----+-----+---+--------+---------+--------+---------+-------+-------+------+------+----+--------+--------+----+------+------------------+\n",
       "|2014|    1| 22|    1040|        5|    1505|        5|     AS| N559AS|   851|   SEA| HNL|     360|    2677|  10|    40|               6.0|\n",
       "|2014|    4| 19|    1236|       -4|    1508|       -7|     AS| N309AS|   490|   SEA| SAN|     135|    1050|  12|    36|              2.25|\n",
       "|2014|   11| 19|    1812|       -3|    2352|       -4|     AS| N564AS|    26|   SEA| ORD|     198|    1721|  18|    12|               3.3|\n",
       "|2014|    8|  3|    1120|        0|    1415|        2|     AS| N305AS|   656|   SEA| PHX|     154|    1107|  11|    20| 2.566666666666667|\n",
       "|2014|   11| 12|    2346|       -4|     217|      -28|     AS| N765AS|   121|   SEA| ANC|     183|    1448|  23|    46|              3.05|\n",
       "|2014|    8| 11|    1017|       -3|    1613|       -7|     WN| N8634A|   827|   SEA| MDW|     216|    1733|  10|    17|               3.6|\n",
       "|2014|    1| 13|    2156|       -9|     607|      -15|     AS| N597AS|    24|   SEA| BOS|     290|    2496|  21|    56| 4.833333333333333|\n",
       "|2014|    9| 26|     610|       -5|    1523|       65|     US| N127UW|   616|   SEA| PHL|     293|    2378|   6|    10| 4.883333333333334|\n",
       "|2014|   12|  4|     954|       -6|    1348|      -17|     HA| N395HA|    29|   SEA| OGG|     333|    2640|   9|    54|              5.55|\n",
       "|2014|    6|  4|    1115|        0|    1346|       -3|     AS| N461AS|   488|   SEA| SAN|     133|    1050|  11|    15| 2.216666666666667|\n",
       "|2014|    6| 26|    2054|       -1|    2318|       -6|     B6| N590JB|   907|   SEA| ANC|     179|    1448|  20|    54|2.9833333333333334|\n",
       "|2014|    6|  7|    1823|       -7|    2112|      -28|     AS| N512AS|   815|   SEA| LIH|     335|    2701|  18|    23| 5.583333333333333|\n",
       "|2014|    4| 30|     801|        1|    1757|       90|     AS| N407AS|    18|   SEA| MCO|     342|    2554|   8|     1|               5.7|\n",
       "|2014|   11| 29|     905|      155|    1655|      170|     DL| N824DN|  1598|   SEA| ATL|     229|    2182|   9|     5| 3.816666666666667|\n",
       "|2014|    6|  2|    2222|        7|      55|       15|     AS| N402AS|    99|   SEA| ANC|     190|    1448|  22|    22|3.1666666666666665|\n",
       "|2014|   11| 15|    1034|       -6|    1414|      -26|     AS| N589AS|   794|   SEA| ABQ|     139|    1180|  10|    34| 2.316666666666667|\n",
       "|2014|   10| 20|    1328|       -1|    1949|        4|     UA| N68805|  1212|   SEA| IAH|     228|    1874|  13|    28|               3.8|\n",
       "|2014|   12| 16|    1500|        0|    1906|       19|     US| N662AW|   500|   SEA| PHX|     151|    1107|  15|     0|2.5166666666666666|\n",
       "|2014|   11| 19|    1319|       -6|    1821|      -14|     DL| N309US|  2164|   PDX| MSP|     169|    1426|  13|    19| 2.816666666666667|\n",
       "|2014|    5| 21|     515|        0|     757|        0|     US| N172US|   593|   SEA| PHX|     143|    1107|   5|    15|2.3833333333333333|\n",
       "+----+-----+---+--------+---------+--------+---------+-------+-------+------+------+----+--------+--------+----+------+------------------+\n",
       "only showing top 20 rows"
      ]
     },
     "execution_count": 10,
     "metadata": {},
     "output_type": "execute_result"
    }
   ],
   "source": [
    "long_flights2"
   ]
  },
  {
   "cell_type": "code",
   "execution_count": 11,
   "id": "c3fab7b7-a068-4cc9-b845-b93ebb18a9a9",
   "metadata": {},
   "outputs": [],
   "source": [
    "assertDataFrameEqual(long_flights1, long_flights2, rtol=1e-1)"
   ]
  },
  {
   "cell_type": "markdown",
   "id": "e8e97750-dfd7-40ba-801a-17406af29d15",
   "metadata": {},
   "source": [
    "## Ex. 3 - Selecting\n",
    "\n",
    "The Spark variant of SQL's SELECT is the `.select()` method. This method takes multiple arguments - one for each column you want to select. These arguments can either be the column name as a string (one for each column) or a column object (using the `df.colName` syntax). When you pass a column object, you can perform operations like addition or subtraction on the column to change the data contained in it, much like inside `.withColumn()`.\n",
    "\n",
    "The difference between `.select()` and `.withColumn()` methods is that `.select()` returns only the columns you specify, while `.withColumn()` returns all the columns of the DataFrame in addition to the one you defined. It's often a good idea to drop columns you don't need at the beginning of an operation so that you're not dragging around extra data as you're wrangling. In this case, you would use `.select()` and not `.withColumn()`.\n",
    "\n",
    "**Instructions**\n",
    "\n",
    "1. Select the columns `\"tailnum\"`, `\"origin\"`, and `\"dest\"` from flights by passing the column names as strings. Save this as `selected1`.\n",
    "2. Select the columns `\"origin\"`, `\"dest\"`, and `\"carrier\"` using the `df.colName` syntax and then filter the result using both of the filters already defined for you (`filterA` and `filterB`) to only keep flights from SEA to PDX. Save this as `selected2`."
   ]
  },
  {
   "cell_type": "code",
   "execution_count": 12,
   "id": "475b33c4-4779-4f2b-acbc-2c63a4949308",
   "metadata": {},
   "outputs": [
    {
     "data": {
      "text/html": [
       "<table border='1'>\n",
       "<tr><th>tailnum</th><th>origin</th><th>dest</th></tr>\n",
       "<tr><td>N846VA</td><td>SEA</td><td>LAX</td></tr>\n",
       "<tr><td>N559AS</td><td>SEA</td><td>HNL</td></tr>\n",
       "<tr><td>N847VA</td><td>SEA</td><td>SFO</td></tr>\n",
       "<tr><td>N360SW</td><td>PDX</td><td>SJC</td></tr>\n",
       "<tr><td>N612AS</td><td>SEA</td><td>BUR</td></tr>\n",
       "</table>\n"
      ],
      "text/plain": [
       "+-------+------+----+\n",
       "|tailnum|origin|dest|\n",
       "+-------+------+----+\n",
       "| N846VA|   SEA| LAX|\n",
       "| N559AS|   SEA| HNL|\n",
       "| N847VA|   SEA| SFO|\n",
       "| N360SW|   PDX| SJC|\n",
       "| N612AS|   SEA| BUR|\n",
       "+-------+------+----+"
      ]
     },
     "execution_count": 12,
     "metadata": {},
     "output_type": "execute_result"
    }
   ],
   "source": [
    "# Select the first set of columns\n",
    "selected1 = flights.select(\"tailnum\", \"origin\", \"dest\")\n",
    "selected1.limit(5)"
   ]
  },
  {
   "cell_type": "code",
   "execution_count": 13,
   "id": "10715169-c00b-4e8b-8c0d-c063785b984b",
   "metadata": {},
   "outputs": [
    {
     "data": {
      "text/html": [
       "<table border='1'>\n",
       "<tr><th>origin</th><th>dest</th><th>carrier</th></tr>\n",
       "<tr><td>SEA</td><td>PDX</td><td>OO</td></tr>\n",
       "<tr><td>SEA</td><td>PDX</td><td>OO</td></tr>\n",
       "<tr><td>SEA</td><td>PDX</td><td>OO</td></tr>\n",
       "<tr><td>SEA</td><td>PDX</td><td>OO</td></tr>\n",
       "<tr><td>SEA</td><td>PDX</td><td>OO</td></tr>\n",
       "</table>\n"
      ],
      "text/plain": [
       "+------+----+-------+\n",
       "|origin|dest|carrier|\n",
       "+------+----+-------+\n",
       "|   SEA| PDX|     OO|\n",
       "|   SEA| PDX|     OO|\n",
       "|   SEA| PDX|     OO|\n",
       "|   SEA| PDX|     OO|\n",
       "|   SEA| PDX|     OO|\n",
       "+------+----+-------+"
      ]
     },
     "execution_count": 13,
     "metadata": {},
     "output_type": "execute_result"
    }
   ],
   "source": [
    "# Select the second set of columns\n",
    "temp = flights.select(flights.origin, flights.dest, flights.carrier)\n",
    "\n",
    "# Define first filter\n",
    "filterA = flights.origin == \"SEA\"\n",
    "\n",
    "# Define second filter\n",
    "filterB = flights.dest == \"PDX\"\n",
    "\n",
    "# Filter the data, first by filterA then by filterB\n",
    "selected2 = temp.filter(filterA).filter(filterB)\n",
    "selected2.limit(5)"
   ]
  },
  {
   "cell_type": "markdown",
   "id": "cd6c3ce3-cb4d-4cbc-a3a7-a8ee1bbbd564",
   "metadata": {},
   "source": [
    "## Ex. 4 - Selecting II\n",
    "\n",
    "Similar to SQL, you can also use the `.select()` method to perform column-wise operations. When you're selecting a column using the `df.colName` notation, you can perform any column operation and the `.select()` method will return the transformed column. For example,\n",
    "\n",
    "> `flights.select(flights.air_time/60)`\n",
    "\n",
    "returns a column of flight durations in hours instead of minutes. You can also use the `.alias()` method to rename a column you're selecting. So if you wanted to `.select()` the column `duration_hrs` (which isn't in your DataFrame) you could do\n",
    "\n",
    "> `flights.select((flights.air_time/60).alias(\"duration_hrs\"))`\n",
    "\n",
    "The equivalent Spark DataFrame method `.selectExpr()` takes SQL expressions as a string:\n",
    "\n",
    "> `flights.selectExpr(\"air_time/60 as duration_hrs\")`\n",
    "\n",
    "with the SQL as keyword being equivalent to the `.alias()` method. To select multiple columns, you can pass multiple strings.\n",
    "\n",
    "**Instructions:**\n",
    "\n",
    "Create a table of the average speed of each flight both ways.\n",
    "\n",
    "1. Calculate average speed by dividing the `distance` by the `air_time` (converted to hours). Use the `.alias()` method name this column `\"avg_speed\"`. Save the output as the variable `avg_speed`.\n",
    "2. Select the columns `\"origin\"`, `\"dest\"`, `\"tailnum\"`, and `avg_speed` (without quotes!). Save this as `speed1`.\n",
    "Create the same table using `.selectExpr()` and a string containing a SQL expression. Save this as `speed2`."
   ]
  },
  {
   "cell_type": "code",
   "execution_count": 14,
   "id": "2ba55a59-6226-4461-94c1-e4bbf1b87e45",
   "metadata": {},
   "outputs": [
    {
     "data": {
      "text/html": [
       "<table border='1'>\n",
       "<tr><th>origin</th><th>dest</th><th>tailnum</th><th>avg_speed</th></tr>\n",
       "<tr><td>SEA</td><td>LAX</td><td>N846VA</td><td>433.6363636363636</td></tr>\n",
       "<tr><td>SEA</td><td>HNL</td><td>N559AS</td><td>446.1666666666667</td></tr>\n",
       "<tr><td>SEA</td><td>SFO</td><td>N847VA</td><td>367.02702702702703</td></tr>\n",
       "<tr><td>PDX</td><td>SJC</td><td>N360SW</td><td>411.3253012048193</td></tr>\n",
       "<tr><td>SEA</td><td>BUR</td><td>N612AS</td><td>442.6771653543307</td></tr>\n",
       "</table>\n"
      ],
      "text/plain": [
       "+------+----+-------+------------------+\n",
       "|origin|dest|tailnum|         avg_speed|\n",
       "+------+----+-------+------------------+\n",
       "|   SEA| LAX| N846VA| 433.6363636363636|\n",
       "|   SEA| HNL| N559AS| 446.1666666666667|\n",
       "|   SEA| SFO| N847VA|367.02702702702703|\n",
       "|   PDX| SJC| N360SW| 411.3253012048193|\n",
       "|   SEA| BUR| N612AS| 442.6771653543307|\n",
       "+------+----+-------+------------------+"
      ]
     },
     "execution_count": 14,
     "metadata": {},
     "output_type": "execute_result"
    }
   ],
   "source": [
    "# Define avg_speed\n",
    "avg_speed = (flights.distance/(flights.air_time/60)).alias(\"avg_speed\")\n",
    "\n",
    "# Select the correct columns\n",
    "speed1 = flights.select(\"origin\", \"dest\", \"tailnum\", avg_speed)\n",
    "speed1.limit(5)"
   ]
  },
  {
   "cell_type": "code",
   "execution_count": 15,
   "id": "6e9766f0-ee61-468c-9296-3cdfb131a164",
   "metadata": {},
   "outputs": [
    {
     "data": {
      "text/html": [
       "<table border='1'>\n",
       "<tr><th>origin</th><th>dest</th><th>tailnum</th><th>avg_speed</th></tr>\n",
       "<tr><td>SEA</td><td>LAX</td><td>N846VA</td><td>433.6363636363636</td></tr>\n",
       "<tr><td>SEA</td><td>HNL</td><td>N559AS</td><td>446.1666666666667</td></tr>\n",
       "<tr><td>SEA</td><td>SFO</td><td>N847VA</td><td>367.02702702702703</td></tr>\n",
       "<tr><td>PDX</td><td>SJC</td><td>N360SW</td><td>411.3253012048193</td></tr>\n",
       "<tr><td>SEA</td><td>BUR</td><td>N612AS</td><td>442.6771653543307</td></tr>\n",
       "</table>\n"
      ],
      "text/plain": [
       "+------+----+-------+------------------+\n",
       "|origin|dest|tailnum|         avg_speed|\n",
       "+------+----+-------+------------------+\n",
       "|   SEA| LAX| N846VA| 433.6363636363636|\n",
       "|   SEA| HNL| N559AS| 446.1666666666667|\n",
       "|   SEA| SFO| N847VA|367.02702702702703|\n",
       "|   PDX| SJC| N360SW| 411.3253012048193|\n",
       "|   SEA| BUR| N612AS| 442.6771653543307|\n",
       "+------+----+-------+------------------+"
      ]
     },
     "execution_count": 15,
     "metadata": {},
     "output_type": "execute_result"
    }
   ],
   "source": [
    "# Create the same table using a SQL expression\n",
    "speed2 = flights.selectExpr(\"origin\", \"dest\", \"tailnum\", \"distance/(air_time/60) as avg_speed\")\n",
    "speed2.limit(5)"
   ]
  },
  {
   "cell_type": "markdown",
   "id": "376bd757-ccae-4264-adee-7c741bd7127e",
   "metadata": {},
   "source": [
    "## Ex. 5 - Aggregating\n",
    "\n",
    "All of the common aggregation methods, like `.min()`, `.max()`, and `.count()` are `GroupedData` methods. These are created by calling the `.groupBy()` DataFrame method. You'll learn exactly what that means in a few exercises. For now, all you have to do to use these functions is call that method on your DataFrame. For example, to find the minimum value of a column, `col`, in a DataFrame, `df`, you could do\n",
    "\n",
    "`df.groupBy().min(\"col\").show()`\n",
    "\n",
    "This creates a GroupedData object (so you can use the `.min()` method), then finds the minimum value in col, and returns it as a DataFrame.\n",
    "\n",
    "Now you're ready to do some aggregating of your own!\n",
    "\n",
    "**Instructions:**\n",
    "\n",
    "1. Find the length of the shortest (in terms of `distance`) flight that left `PDX` by first `.filter()`ing and using the `.min()` method. Perform the filtering by referencing the column directly, not passing a SQL string.\n",
    "2. Find the length of the longest (in terms of `time`) flight that left `SEA` by `filter()`ing and using the `.max()` method. Perform the filtering by referencing the column directly, not passing a SQL string."
   ]
  },
  {
   "cell_type": "code",
   "execution_count": 16,
   "id": "aa129a83-b55a-45c4-9d5f-1ac4db9a7755",
   "metadata": {},
   "outputs": [
    {
     "data": {
      "text/html": [
       "<table border='1'>\n",
       "<tr><th>year</th><th>month</th><th>day</th><th>dep_time</th><th>dep_delay</th><th>arr_time</th><th>arr_delay</th><th>carrier</th><th>tailnum</th><th>flight</th><th>origin</th><th>dest</th><th>air_time</th><th>distance</th><th>hour</th><th>minute</th><th>duration_hrs</th></tr>\n",
       "<tr><td>2014</td><td>12</td><td>8</td><td>658</td><td>-7</td><td>935</td><td>-5</td><td>VX</td><td>N846VA</td><td>1780</td><td>SEA</td><td>LAX</td><td>132</td><td>954</td><td>6</td><td>58</td><td>2.2</td></tr>\n",
       "<tr><td>2014</td><td>1</td><td>22</td><td>1040</td><td>5</td><td>1505</td><td>5</td><td>AS</td><td>N559AS</td><td>851</td><td>SEA</td><td>HNL</td><td>360</td><td>2677</td><td>10</td><td>40</td><td>6.0</td></tr>\n",
       "</table>\n"
      ],
      "text/plain": [
       "+----+-----+---+--------+---------+--------+---------+-------+-------+------+------+----+--------+--------+----+------+------------+\n",
       "|year|month|day|dep_time|dep_delay|arr_time|arr_delay|carrier|tailnum|flight|origin|dest|air_time|distance|hour|minute|duration_hrs|\n",
       "+----+-----+---+--------+---------+--------+---------+-------+-------+------+------+----+--------+--------+----+------+------------+\n",
       "|2014|   12|  8|     658|       -7|     935|       -5|     VX| N846VA|  1780|   SEA| LAX|     132|     954|   6|    58|         2.2|\n",
       "|2014|    1| 22|    1040|        5|    1505|        5|     AS| N559AS|   851|   SEA| HNL|     360|    2677|  10|    40|         6.0|\n",
       "+----+-----+---+--------+---------+--------+---------+-------+-------+------+------+----+--------+--------+----+------+------------+"
      ]
     },
     "execution_count": 16,
     "metadata": {},
     "output_type": "execute_result"
    }
   ],
   "source": [
    "flights.limit(2)"
   ]
  },
  {
   "cell_type": "code",
   "execution_count": 17,
   "id": "f75da0fa-793b-40df-a1d7-e07602d42404",
   "metadata": {},
   "outputs": [
    {
     "name": "stdout",
     "output_type": "stream",
     "text": [
      "+-------------+\n",
      "|min(distance)|\n",
      "+-------------+\n",
      "|          106|\n",
      "+-------------+\n",
      "\n"
     ]
    }
   ],
   "source": [
    "# Find the shortest flight from PDX in terms of distance\n",
    "flights.filter(flights.origin == \"PDX\").groupBy().min('distance').show()"
   ]
  },
  {
   "cell_type": "code",
   "execution_count": 18,
   "id": "b49ce458-e593-41c9-8c0d-1407c3738857",
   "metadata": {},
   "outputs": [
    {
     "name": "stdout",
     "output_type": "stream",
     "text": [
      "+-------------+\n",
      "|max(air_time)|\n",
      "+-------------+\n",
      "|          409|\n",
      "+-------------+\n",
      "\n"
     ]
    }
   ],
   "source": [
    "# Find the longest flight from SEA in terms of air time\n",
    "flights.filter(flights.origin == \"SEA\").groupBy().max('air_time').show()"
   ]
  },
  {
   "cell_type": "markdown",
   "id": "6ae153dd-ef2c-4d60-a4f3-2306a24219b3",
   "metadata": {},
   "source": [
    "## Ex. 6 - Aggregating II\n",
    "\n",
    "To get you familiar with more of the built in aggregation methods, here's a few more exercises involving the flights table!\n",
    "\n",
    "**Instructions:**\n",
    "\n",
    "1. Use the `.avg()` method to get the average air time of Delta Airlines flights (where the carrier column has the value `\"DL\"`) that left `SEA`. The place of departure is stored in the column `origin`. `show()` the result.\n",
    "2. Use the `.sum()` method to get the total number of hours all planes in this dataset spent in the air by creating a column called `duration_hrs` from the column `air_time`. `show()` the result."
   ]
  },
  {
   "cell_type": "code",
   "execution_count": 19,
   "id": "eb86be4e-721e-4299-8f24-8784624a5156",
   "metadata": {},
   "outputs": [
    {
     "name": "stdout",
     "output_type": "stream",
     "text": [
      "+------------------+\n",
      "|     avg(air_time)|\n",
      "+------------------+\n",
      "|188.20689655172413|\n",
      "+------------------+\n",
      "\n"
     ]
    }
   ],
   "source": [
    "# Average duration of Delta flights\n",
    "flights.filter(flights.carrier == \"DL\").filter(flights.origin == \"SEA\").groupBy().avg(\"air_time\").show()"
   ]
  },
  {
   "cell_type": "code",
   "execution_count": 20,
   "id": "8e25b576-64ae-4a71-95e6-1d0cbd076eba",
   "metadata": {},
   "outputs": [
    {
     "name": "stdout",
     "output_type": "stream",
     "text": [
      "+------------------+\n",
      "| sum(duration_hrs)|\n",
      "+------------------+\n",
      "|25289.600000000126|\n",
      "+------------------+\n",
      "\n"
     ]
    }
   ],
   "source": [
    "# Total hours in the air\n",
    "flights.withColumn(\"duration_hrs\", flights.air_time/60).groupBy().sum(\"duration_hrs\").show()"
   ]
  },
  {
   "cell_type": "markdown",
   "id": "0d85ad6d-fc48-4a67-b545-78eb70ec80bf",
   "metadata": {},
   "source": [
    "## Ex. 7 - Grouping and Aggregating I\n",
    "\n",
    "Part of what makes aggregating so powerful is the addition of groups. `PySpark` has a whole class devoted to grouped data frames: `pyspark.sql.GroupedData`, which you saw in the last two exercises.\n",
    "\n",
    "You've learned how to create a grouped DataFrame by calling the `.groupBy()` method on a DataFrame with no arguments.\n",
    "\n",
    "Now you'll see that when you pass the name of one or more columns in your DataFrame to the `.groupBy()` method, the aggregation methods behave like when you use a `GROUP BY` statement in a SQL query!\n",
    "\n",
    "**Instructions:**\n",
    "1. Create a DataFrame called `by_plane` that is grouped by the column `tailnum`.\n",
    "2. Use the `.count()` method with no arguments to count the number of flights each plane made.\n",
    "3. Create a DataFrame called `by_origin` that is grouped by the column origin.\n",
    "4. Find the `.avg()` of the `air_time` column to find average duration of flights from PDX and SEA."
   ]
  },
  {
   "cell_type": "code",
   "execution_count": 21,
   "id": "e89d57d0-35c8-47c1-9d10-b23b26ea7293",
   "metadata": {},
   "outputs": [
    {
     "name": "stdout",
     "output_type": "stream",
     "text": [
      "+-------+-----+\n",
      "|tailnum|count|\n",
      "+-------+-----+\n",
      "| N442AS|   38|\n",
      "| N102UW|    2|\n",
      "| N36472|    4|\n",
      "| N38451|    4|\n",
      "| N73283|    4|\n",
      "+-------+-----+\n",
      "\n"
     ]
    }
   ],
   "source": [
    "# Group by tailnum\n",
    "by_plane = flights.groupBy(\"tailnum\")\n",
    "\n",
    "# Number of flights each plane made\n",
    "by_plane.count().limit(5).show()"
   ]
  },
  {
   "cell_type": "code",
   "execution_count": 22,
   "id": "832111c1-39bc-4edb-b6c2-0e56424c0931",
   "metadata": {},
   "outputs": [
    {
     "name": "stdout",
     "output_type": "stream",
     "text": [
      "+------+------------------+\n",
      "|origin|     avg(air_time)|\n",
      "+------+------------------+\n",
      "|   SEA| 160.4361496051259|\n",
      "|   PDX|137.11543248288737|\n",
      "+------+------------------+\n",
      "\n"
     ]
    }
   ],
   "source": [
    "# Group by origin\n",
    "by_origin = flights.groupBy(\"origin\")\n",
    "\n",
    "# Average duration of flights from PDX and SEA\n",
    "by_origin.avg(\"air_time\").show()"
   ]
  },
  {
   "cell_type": "markdown",
   "id": "83ca2288-4ed6-4fb4-a447-d63dd24f3ee2",
   "metadata": {},
   "source": [
    "## Ex. 8 - Grouping and Aggregating II\n",
    "\n",
    "In addition to the `GroupedData` methods you've already seen, there is also the `.agg()` method. This method lets you pass an aggregate column expression that uses any of the aggregate functions from the `pyspark.sql.functions` submodule.\n",
    "\n",
    "This submodule contains many useful functions for computing things like standard deviations. All the aggregation functions in this submodule take the name of a column in a `GroupedData` table.\n",
    "\n",
    "**Instructions:**\n",
    "\n",
    "1. Import the submodule `pyspark.sql.functions` as `F`. (Already done)\n",
    "2. Create a `GroupedData` table called `by_month_dest` that's grouped by both the `month` and `dest` columns. Refer to the two columns by passing both strings as separate arguments.\n",
    "3. Use the `.avg()` method on the `by_month_dest` DataFrame to get the average `dep_delay` in each month for each destination.\n",
    "4. Find the standard deviation of `dep_delay` by using the `.agg()` method with the function `F.stddev()`."
   ]
  },
  {
   "cell_type": "code",
   "execution_count": 23,
   "id": "48428dbc-824d-4b5d-8a66-e7e9601e93b9",
   "metadata": {},
   "outputs": [
    {
     "name": "stdout",
     "output_type": "stream",
     "text": [
      "+-----+----+------------------+\n",
      "|month|dest|    avg(dep_delay)|\n",
      "+-----+----+------------------+\n",
      "|    4| PHX|1.6833333333333333|\n",
      "|    1| RDM|            -1.625|\n",
      "|    5| ONT|3.5555555555555554|\n",
      "|    7| OMA|              -6.5|\n",
      "|    8| MDW|              7.45|\n",
      "+-----+----+------------------+\n",
      "\n"
     ]
    }
   ],
   "source": [
    "# Group by month and dest\n",
    "by_month_dest = flights.groupBy('month', 'dest')\n",
    "\n",
    "# Average departure delay by month and destination\n",
    "by_month_dest.avg('dep_delay').limit(5).show()"
   ]
  },
  {
   "cell_type": "code",
   "execution_count": 24,
   "id": "8e51be59-e242-4bd4-89c6-53ec8664f2ca",
   "metadata": {},
   "outputs": [
    {
     "name": "stdout",
     "output_type": "stream",
     "text": [
      "+-----+----+------------------+\n",
      "|month|dest| stddev(dep_delay)|\n",
      "+-----+----+------------------+\n",
      "|    4| PHX|15.003380033491737|\n",
      "|    1| RDM| 8.830749846821778|\n",
      "|    5| ONT|18.895178691342874|\n",
      "|    7| OMA|2.1213203435596424|\n",
      "|    8| MDW|14.467659032985843|\n",
      "+-----+----+------------------+\n",
      "\n"
     ]
    }
   ],
   "source": [
    "# Standard deviation of departure delay\n",
    "by_month_dest.agg(F.stddev('dep_delay')).limit(5).show()"
   ]
  },
  {
   "cell_type": "markdown",
   "id": "c318e842-80be-4447-8899-539e72f715b2",
   "metadata": {},
   "source": [
    "## Ex. 9 - Joining\n",
    "\n",
    "In `PySpark`, joins are performed using the DataFrame method `.join()`. This method takes three arguments. The first is the second DataFrame that you want to join with the first one. The second argument, `on`, is the name of the key column(s) as a string. The names of the key column(s) must be the same in each table. The third argument, `how`, specifies the kind of join to perform. In this course we'll always use the value `how=\"leftouter\"`.\n",
    "\n",
    "**Instructions:**\n",
    "\n",
    "1. Examine the `airports` DataFrame by calling `.show()`. Note which key column will let you join `airports` to the `flights` table.\n",
    "2. Rename the `faa` column in airports to `dest` by re-assigning the result of `airports.withColumnRenamed(\"faa\", \"dest\")` to `airports`.\n",
    "3. Join the `flights` with the `airports` DataFrame on the `dest` column by calling the `.join()` method on `flights`. Save the result as `flights_with_airports`.\n",
    "    - The first argument should be the other DataFrame, `airports`.\n",
    "    - The argument `on` should be the key column.\n",
    "    - The argument `how` should be `\"leftouter\"`.\n",
    "4. Call .show() on `flights_with_airports` to examine the data again."
   ]
  },
  {
   "cell_type": "code",
   "execution_count": 25,
   "id": "054a766c-5277-4c4b-b54c-edc067e7c385",
   "metadata": {},
   "outputs": [
    {
     "data": {
      "text/html": [
       "<table border='1'>\n",
       "<tr><th>year</th><th>month</th><th>day</th><th>dep_time</th><th>dep_delay</th><th>arr_time</th><th>arr_delay</th><th>carrier</th><th>tailnum</th><th>flight</th><th>origin</th><th>dest</th><th>air_time</th><th>distance</th><th>hour</th><th>minute</th><th>duration_hrs</th></tr>\n",
       "<tr><td>2014</td><td>12</td><td>8</td><td>658</td><td>-7</td><td>935</td><td>-5</td><td>VX</td><td>N846VA</td><td>1780</td><td>SEA</td><td>LAX</td><td>132</td><td>954</td><td>6</td><td>58</td><td>2.2</td></tr>\n",
       "<tr><td>2014</td><td>1</td><td>22</td><td>1040</td><td>5</td><td>1505</td><td>5</td><td>AS</td><td>N559AS</td><td>851</td><td>SEA</td><td>HNL</td><td>360</td><td>2677</td><td>10</td><td>40</td><td>6.0</td></tr>\n",
       "</table>\n"
      ],
      "text/plain": [
       "+----+-----+---+--------+---------+--------+---------+-------+-------+------+------+----+--------+--------+----+------+------------+\n",
       "|year|month|day|dep_time|dep_delay|arr_time|arr_delay|carrier|tailnum|flight|origin|dest|air_time|distance|hour|minute|duration_hrs|\n",
       "+----+-----+---+--------+---------+--------+---------+-------+-------+------+------+----+--------+--------+----+------+------------+\n",
       "|2014|   12|  8|     658|       -7|     935|       -5|     VX| N846VA|  1780|   SEA| LAX|     132|     954|   6|    58|         2.2|\n",
       "|2014|    1| 22|    1040|        5|    1505|        5|     AS| N559AS|   851|   SEA| HNL|     360|    2677|  10|    40|         6.0|\n",
       "+----+-----+---+--------+---------+--------+---------+-------+-------+------+------+----+--------+--------+----+------+------------+"
      ]
     },
     "execution_count": 25,
     "metadata": {},
     "output_type": "execute_result"
    }
   ],
   "source": [
    "flights.limit(2)"
   ]
  },
  {
   "cell_type": "code",
   "execution_count": 26,
   "id": "4bdc4903-b57a-4bdb-aa6c-19b8c747e3ea",
   "metadata": {},
   "outputs": [
    {
     "data": {
      "text/html": [
       "<table border='1'>\n",
       "<tr><th>faa</th><th>name</th><th>lat</th><th>lon</th><th>alt</th><th>tz</th><th>dst</th></tr>\n",
       "<tr><td>04G</td><td>Lansdowne Airport</td><td>41.1304722</td><td>-80.6195833</td><td>1044</td><td>-5</td><td>A</td></tr>\n",
       "<tr><td>06A</td><td>Moton Field Munic...</td><td>32.4605722</td><td>-85.6800278</td><td>264</td><td>-5</td><td>A</td></tr>\n",
       "</table>\n"
      ],
      "text/plain": [
       "+---+--------------------+----------+-----------+----+---+---+\n",
       "|faa|                name|       lat|        lon| alt| tz|dst|\n",
       "+---+--------------------+----------+-----------+----+---+---+\n",
       "|04G|   Lansdowne Airport|41.1304722|-80.6195833|1044| -5|  A|\n",
       "|06A|Moton Field Munic...|32.4605722|-85.6800278| 264| -5|  A|\n",
       "+---+--------------------+----------+-----------+----+---+---+"
      ]
     },
     "execution_count": 26,
     "metadata": {},
     "output_type": "execute_result"
    }
   ],
   "source": [
    "airports.limit(2)"
   ]
  },
  {
   "cell_type": "code",
   "execution_count": 27,
   "id": "26dd1f52-0072-4c76-a1b8-bd1671e643ab",
   "metadata": {},
   "outputs": [
    {
     "data": {
      "text/html": [
       "<table border='1'>\n",
       "<tr><th>dest</th><th>name</th><th>lat</th><th>lon</th><th>alt</th><th>tz</th><th>dst</th></tr>\n",
       "<tr><td>04G</td><td>Lansdowne Airport</td><td>41.1304722</td><td>-80.6195833</td><td>1044</td><td>-5</td><td>A</td></tr>\n",
       "<tr><td>06A</td><td>Moton Field Munic...</td><td>32.4605722</td><td>-85.6800278</td><td>264</td><td>-5</td><td>A</td></tr>\n",
       "</table>\n"
      ],
      "text/plain": [
       "+----+--------------------+----------+-----------+----+---+---+\n",
       "|dest|                name|       lat|        lon| alt| tz|dst|\n",
       "+----+--------------------+----------+-----------+----+---+---+\n",
       "| 04G|   Lansdowne Airport|41.1304722|-80.6195833|1044| -5|  A|\n",
       "| 06A|Moton Field Munic...|32.4605722|-85.6800278| 264| -5|  A|\n",
       "+----+--------------------+----------+-----------+----+---+---+"
      ]
     },
     "execution_count": 27,
     "metadata": {},
     "output_type": "execute_result"
    }
   ],
   "source": [
    "# Rename the faa column\n",
    "airports = airports.withColumnRenamed(\"faa\", \"dest\")\n",
    "airports.limit(2)"
   ]
  },
  {
   "cell_type": "code",
   "execution_count": 28,
   "id": "806dadba-0c5e-4c82-b469-02fe8a39e7bb",
   "metadata": {},
   "outputs": [
    {
     "data": {
      "text/html": [
       "<table border='1'>\n",
       "<tr><th>dest</th><th>year</th><th>month</th><th>day</th><th>dep_time</th><th>dep_delay</th><th>arr_time</th><th>arr_delay</th><th>carrier</th><th>tailnum</th><th>flight</th><th>origin</th><th>air_time</th><th>distance</th><th>hour</th><th>minute</th><th>duration_hrs</th><th>name</th><th>lat</th><th>lon</th><th>alt</th><th>tz</th><th>dst</th></tr>\n",
       "<tr><td>LAX</td><td>2014</td><td>12</td><td>8</td><td>658</td><td>-7</td><td>935</td><td>-5</td><td>VX</td><td>N846VA</td><td>1780</td><td>SEA</td><td>132</td><td>954</td><td>6</td><td>58</td><td>2.2</td><td>Los Angeles Intl</td><td>33.942536</td><td>-118.408075</td><td>126</td><td>-8</td><td>A</td></tr>\n",
       "<tr><td>HNL</td><td>2014</td><td>1</td><td>22</td><td>1040</td><td>5</td><td>1505</td><td>5</td><td>AS</td><td>N559AS</td><td>851</td><td>SEA</td><td>360</td><td>2677</td><td>10</td><td>40</td><td>6.0</td><td>Honolulu Intl</td><td>21.318681</td><td>-157.922428</td><td>13</td><td>-10</td><td>N</td></tr>\n",
       "<tr><td>SFO</td><td>2014</td><td>3</td><td>9</td><td>1443</td><td>-2</td><td>1652</td><td>2</td><td>VX</td><td>N847VA</td><td>755</td><td>SEA</td><td>111</td><td>679</td><td>14</td><td>43</td><td>1.85</td><td>San Francisco Intl</td><td>37.618972</td><td>-122.374889</td><td>13</td><td>-8</td><td>A</td></tr>\n",
       "<tr><td>SJC</td><td>2014</td><td>4</td><td>9</td><td>1705</td><td>45</td><td>1839</td><td>34</td><td>WN</td><td>N360SW</td><td>344</td><td>PDX</td><td>83</td><td>569</td><td>17</td><td>5</td><td>1.3833333333333333</td><td>Norman Y Mineta S...</td><td>37.3626</td><td>-121.929022</td><td>62</td><td>-8</td><td>A</td></tr>\n",
       "<tr><td>BUR</td><td>2014</td><td>3</td><td>9</td><td>754</td><td>-1</td><td>1015</td><td>1</td><td>AS</td><td>N612AS</td><td>522</td><td>SEA</td><td>127</td><td>937</td><td>7</td><td>54</td><td>2.1166666666666667</td><td>Bob Hope</td><td>34.200667</td><td>-118.358667</td><td>778</td><td>-8</td><td>A</td></tr>\n",
       "</table>\n"
      ],
      "text/plain": [
       "+----+----+-----+---+--------+---------+--------+---------+-------+-------+------+------+--------+--------+----+------+------------------+--------------------+---------+-----------+---+---+---+\n",
       "|dest|year|month|day|dep_time|dep_delay|arr_time|arr_delay|carrier|tailnum|flight|origin|air_time|distance|hour|minute|      duration_hrs|                name|      lat|        lon|alt| tz|dst|\n",
       "+----+----+-----+---+--------+---------+--------+---------+-------+-------+------+------+--------+--------+----+------+------------------+--------------------+---------+-----------+---+---+---+\n",
       "| LAX|2014|   12|  8|     658|       -7|     935|       -5|     VX| N846VA|  1780|   SEA|     132|     954|   6|    58|               2.2|    Los Angeles Intl|33.942536|-118.408075|126| -8|  A|\n",
       "| HNL|2014|    1| 22|    1040|        5|    1505|        5|     AS| N559AS|   851|   SEA|     360|    2677|  10|    40|               6.0|       Honolulu Intl|21.318681|-157.922428| 13|-10|  N|\n",
       "| SFO|2014|    3|  9|    1443|       -2|    1652|        2|     VX| N847VA|   755|   SEA|     111|     679|  14|    43|              1.85|  San Francisco Intl|37.618972|-122.374889| 13| -8|  A|\n",
       "| SJC|2014|    4|  9|    1705|       45|    1839|       34|     WN| N360SW|   344|   PDX|      83|     569|  17|     5|1.3833333333333333|Norman Y Mineta S...|  37.3626|-121.929022| 62| -8|  A|\n",
       "| BUR|2014|    3|  9|     754|       -1|    1015|        1|     AS| N612AS|   522|   SEA|     127|     937|   7|    54|2.1166666666666667|            Bob Hope|34.200667|-118.358667|778| -8|  A|\n",
       "+----+----+-----+---+--------+---------+--------+---------+-------+-------+------+------+--------+--------+----+------+------------------+--------------------+---------+-----------+---+---+---+"
      ]
     },
     "execution_count": 28,
     "metadata": {},
     "output_type": "execute_result"
    }
   ],
   "source": [
    "# Join the DataFrames\n",
    "flights_with_airports = flights.join(airports, on='dest', how='leftouter')\n",
    "\n",
    "# Examine the new DataFrame\n",
    "flights_with_airports.limit(5)"
   ]
  },
  {
   "cell_type": "markdown",
   "id": "4127405a-33e2-4354-9d2c-15c1b0284797",
   "metadata": {},
   "source": [
    "## Close"
   ]
  },
  {
   "cell_type": "code",
   "execution_count": 29,
   "id": "59b3950e-1d2f-450b-8fe5-7382e87d7c77",
   "metadata": {},
   "outputs": [],
   "source": [
    "spark.stop()"
   ]
  },
  {
   "cell_type": "code",
   "execution_count": null,
   "id": "f3df2815-bff6-4e62-814f-efe8b2d8d5cf",
   "metadata": {},
   "outputs": [],
   "source": []
  }
 ],
 "metadata": {
  "kernelspec": {
   "display_name": "Python 3 (ipykernel)",
   "language": "python",
   "name": "python3"
  },
  "language_info": {
   "codemirror_mode": {
    "name": "ipython",
    "version": 3
   },
   "file_extension": ".py",
   "mimetype": "text/x-python",
   "name": "python",
   "nbconvert_exporter": "python",
   "pygments_lexer": "ipython3",
   "version": "3.11.9"
  }
 },
 "nbformat": 4,
 "nbformat_minor": 5
}
