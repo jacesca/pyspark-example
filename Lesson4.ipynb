{
 "cells": [
  {
   "cell_type": "markdown",
   "id": "b751d20e-e4f2-443d-831c-83a6cd6b7831",
   "metadata": {},
   "source": [
    "# Model tuning and selection\n",
    "\n",
    "In this last chapter, you'll apply what you've learned to create a model that predicts which flights will be delayed.\n",
    "\n",
    "## Preparing the environment\n",
    "\n",
    "### Importing libraries"
   ]
  },
  {
   "cell_type": "code",
   "execution_count": 1,
   "id": "1cacdb39-473b-4c40-911d-26e5e01d4d99",
   "metadata": {},
   "outputs": [],
   "source": [
    "import numpy as np\n",
    "\n",
    "from pyspark.ml import Pipeline, evaluation as evals, tuning as tune\n",
    "from pyspark.ml.classification import LogisticRegression\n",
    "from pyspark.ml.feature import OneHotEncoder, StringIndexer, VectorAssembler\n",
    "from pyspark.sql.types import (_parse_datatype_string, StructType, StructField,\n",
    "                               DoubleType, IntegerType, StringType)\n",
    "from pyspark.sql import SparkSession"
   ]
  },
  {
   "cell_type": "markdown",
   "id": "3641bd0f-d5f0-442d-8726-e3827fa4af57",
   "metadata": {},
   "source": [
    "### Connect to Spark"
   ]
  },
  {
   "cell_type": "code",
   "execution_count": 2,
   "id": "79c16f9c-56c1-410b-bad6-901227ed6349",
   "metadata": {},
   "outputs": [],
   "source": [
    "spark = SparkSession.builder.getOrCreate()\n",
    "\n",
    "# eval DataFrame in notebooks\n",
    "spark.conf.set('spark.sql.repl.eagerEval.enabled', True)"
   ]
  },
  {
   "cell_type": "markdown",
   "id": "d7a54903-5cd9-417f-9663-7047c6381ad6",
   "metadata": {},
   "source": [
    "### Reading the data"
   ]
  },
  {
   "cell_type": "code",
   "execution_count": 3,
   "id": "96ea76b9-1b3b-4a56-ab51-e2f40edec65b",
   "metadata": {},
   "outputs": [
    {
     "name": "stdout",
     "output_type": "stream",
     "text": [
      "root\n",
      " |-- year: integer (nullable = true)\n",
      " |-- month: integer (nullable = true)\n",
      " |-- day: integer (nullable = true)\n",
      " |-- dep_time: integer (nullable = true)\n",
      " |-- dep_delay: integer (nullable = true)\n",
      " |-- arr_time: integer (nullable = true)\n",
      " |-- arr_delay: integer (nullable = true)\n",
      " |-- carrier: string (nullable = true)\n",
      " |-- tailnum: string (nullable = true)\n",
      " |-- flight: integer (nullable = true)\n",
      " |-- origin: string (nullable = true)\n",
      " |-- dest: string (nullable = true)\n",
      " |-- air_time: integer (nullable = true)\n",
      " |-- distance: integer (nullable = true)\n",
      " |-- hour: integer (nullable = true)\n",
      " |-- minute: integer (nullable = true)\n",
      "\n"
     ]
    },
    {
     "data": {
      "text/html": [
       "<table border='1'>\n",
       "<tr><th>year</th><th>month</th><th>day</th><th>dep_time</th><th>dep_delay</th><th>arr_time</th><th>arr_delay</th><th>carrier</th><th>tailnum</th><th>flight</th><th>origin</th><th>dest</th><th>air_time</th><th>distance</th><th>hour</th><th>minute</th></tr>\n",
       "<tr><td>2014</td><td>12</td><td>8</td><td>658</td><td>-7</td><td>935</td><td>-5</td><td>VX</td><td>N846VA</td><td>1780</td><td>SEA</td><td>LAX</td><td>132</td><td>954</td><td>6</td><td>58</td></tr>\n",
       "<tr><td>2014</td><td>1</td><td>22</td><td>1040</td><td>5</td><td>1505</td><td>5</td><td>AS</td><td>N559AS</td><td>851</td><td>SEA</td><td>HNL</td><td>360</td><td>2677</td><td>10</td><td>40</td></tr>\n",
       "</table>\n"
      ],
      "text/plain": [
       "+----+-----+---+--------+---------+--------+---------+-------+-------+------+------+----+--------+--------+----+------+\n",
       "|year|month|day|dep_time|dep_delay|arr_time|arr_delay|carrier|tailnum|flight|origin|dest|air_time|distance|hour|minute|\n",
       "+----+-----+---+--------+---------+--------+---------+-------+-------+------+------+----+--------+--------+----+------+\n",
       "|2014|   12|  8|     658|       -7|     935|       -5|     VX| N846VA|  1780|   SEA| LAX|     132|     954|   6|    58|\n",
       "|2014|    1| 22|    1040|        5|    1505|        5|     AS| N559AS|   851|   SEA| HNL|     360|    2677|  10|    40|\n",
       "+----+-----+---+--------+---------+--------+---------+-------+-------+------+------+----+--------+--------+----+------+"
      ]
     },
     "execution_count": 3,
     "metadata": {},
     "output_type": "execute_result"
    }
   ],
   "source": [
    "schema_str = \"year int, month int, day int, dep_time int, dep_delay int, arr_time int, \" + \\\n",
    "             \"arr_delay int, carrier string, tailnum string, flight int, origin string, \" + \\\n",
    "             \"dest string, air_time int, distance int, hour int, minute int\"\n",
    "customSchema = _parse_datatype_string(schema_str)\n",
    "flights = spark.read.csv('data-sources/flights_small.csv', header=True, schema=schema_str)\n",
    "flights.createOrReplaceTempView(\"flights\")\n",
    "flights.printSchema()\n",
    "flights.limit(2)"
   ]
  },
  {
   "cell_type": "code",
   "execution_count": 4,
   "id": "237cbbcc-c321-4513-8a4a-5bf75430fa35",
   "metadata": {},
   "outputs": [
    {
     "name": "stdout",
     "output_type": "stream",
     "text": [
      "root\n",
      " |-- faa: string (nullable = true)\n",
      " |-- name: string (nullable = true)\n",
      " |-- lat: double (nullable = true)\n",
      " |-- lon: double (nullable = true)\n",
      " |-- alt: integer (nullable = true)\n",
      " |-- tz: integer (nullable = true)\n",
      " |-- dst: string (nullable = true)\n",
      "\n"
     ]
    },
    {
     "data": {
      "text/html": [
       "<table border='1'>\n",
       "<tr><th>faa</th><th>name</th><th>lat</th><th>lon</th><th>alt</th><th>tz</th><th>dst</th></tr>\n",
       "<tr><td>04G</td><td>Lansdowne Airport</td><td>41.1304722</td><td>-80.6195833</td><td>1044</td><td>-5</td><td>A</td></tr>\n",
       "<tr><td>06A</td><td>Moton Field Munic...</td><td>32.4605722</td><td>-85.6800278</td><td>264</td><td>-5</td><td>A</td></tr>\n",
       "</table>\n"
      ],
      "text/plain": [
       "+---+--------------------+----------+-----------+----+---+---+\n",
       "|faa|                name|       lat|        lon| alt| tz|dst|\n",
       "+---+--------------------+----------+-----------+----+---+---+\n",
       "|04G|   Lansdowne Airport|41.1304722|-80.6195833|1044| -5|  A|\n",
       "|06A|Moton Field Munic...|32.4605722|-85.6800278| 264| -5|  A|\n",
       "+---+--------------------+----------+-----------+----+---+---+"
      ]
     },
     "execution_count": 4,
     "metadata": {},
     "output_type": "execute_result"
    }
   ],
   "source": [
    "schema_str = \"faa string, name string, lat double, lon double, alt int, tz int, dst string\"\n",
    "customSchema = _parse_datatype_string(schema_str)\n",
    "airports = spark.read.schema(customSchema).csv('data-sources/airports.csv', header=True)\n",
    "airports.createOrReplaceTempView(\"airports\")\n",
    "airports.printSchema()\n",
    "airports.limit(2)"
   ]
  },
  {
   "cell_type": "code",
   "execution_count": 5,
   "id": "446a0aa0-04f8-45c0-b45d-36148fc0318b",
   "metadata": {},
   "outputs": [
    {
     "name": "stdout",
     "output_type": "stream",
     "text": [
      "root\n",
      " |-- tailnum: string (nullable = true)\n",
      " |-- year: integer (nullable = true)\n",
      " |-- type: string (nullable = true)\n",
      " |-- manufacturer: string (nullable = true)\n",
      " |-- model: string (nullable = true)\n",
      " |-- engines: integer (nullable = true)\n",
      " |-- seats: integer (nullable = true)\n",
      " |-- speed: double (nullable = true)\n",
      " |-- engine: string (nullable = true)\n",
      "\n"
     ]
    },
    {
     "data": {
      "text/html": [
       "<table border='1'>\n",
       "<tr><th>tailnum</th><th>year</th><th>type</th><th>manufacturer</th><th>model</th><th>engines</th><th>seats</th><th>speed</th><th>engine</th></tr>\n",
       "<tr><td>N102UW</td><td>1998</td><td>Fixed wing multi ...</td><td>AIRBUS INDUSTRIE</td><td>A320-214</td><td>2</td><td>182</td><td>NULL</td><td>Turbo-fan</td></tr>\n",
       "<tr><td>N103US</td><td>1999</td><td>Fixed wing multi ...</td><td>AIRBUS INDUSTRIE</td><td>A320-214</td><td>2</td><td>182</td><td>NULL</td><td>Turbo-fan</td></tr>\n",
       "</table>\n"
      ],
      "text/plain": [
       "+-------+----+--------------------+----------------+--------+-------+-----+-----+---------+\n",
       "|tailnum|year|                type|    manufacturer|   model|engines|seats|speed|   engine|\n",
       "+-------+----+--------------------+----------------+--------+-------+-----+-----+---------+\n",
       "| N102UW|1998|Fixed wing multi ...|AIRBUS INDUSTRIE|A320-214|      2|  182| NULL|Turbo-fan|\n",
       "| N103US|1999|Fixed wing multi ...|AIRBUS INDUSTRIE|A320-214|      2|  182| NULL|Turbo-fan|\n",
       "+-------+----+--------------------+----------------+--------+-------+-----+-----+---------+"
      ]
     },
     "execution_count": 5,
     "metadata": {},
     "output_type": "execute_result"
    }
   ],
   "source": [
    "customSchema = StructType([\n",
    "    StructField(\"tailnum\", StringType()),\n",
    "    StructField(\"year\", IntegerType()),\n",
    "    StructField(\"type\", StringType()),\n",
    "    StructField(\"manufacturer\", StringType()),\n",
    "    StructField(\"model\", StringType()),\n",
    "    StructField(\"engines\", IntegerType()),\n",
    "    StructField(\"seats\", IntegerType()),\n",
    "    StructField(\"speed\", DoubleType()),\n",
    "    StructField(\"engine\", StringType())\n",
    "])\n",
    "planes = (spark.read.schema(customSchema)\n",
    "                    .format(\"csv\")\n",
    "                    .option(\"header\", \"true\")\n",
    "                    .load('data-sources/planes.csv'))\n",
    "planes.createOrReplaceTempView(\"planes\")\n",
    "planes.printSchema()\n",
    "planes.limit(2)"
   ]
  },
  {
   "cell_type": "code",
   "execution_count": 6,
   "id": "f727978b-57b6-44d4-b990-037f91157f92",
   "metadata": {},
   "outputs": [
    {
     "data": {
      "text/plain": [
       "[Table(name='airports', catalog=None, namespace=[], description=None, tableType='TEMPORARY', isTemporary=True),\n",
       " Table(name='flights', catalog=None, namespace=[], description=None, tableType='TEMPORARY', isTemporary=True),\n",
       " Table(name='planes', catalog=None, namespace=[], description=None, tableType='TEMPORARY', isTemporary=True)]"
      ]
     },
     "execution_count": 6,
     "metadata": {},
     "output_type": "execute_result"
    }
   ],
   "source": [
    "spark.catalog.listTables()"
   ]
  },
  {
   "cell_type": "markdown",
   "id": "e3c7132c-ea42-4f11-bd15-605875567c7a",
   "metadata": {},
   "source": [
    "## Preparing the data for the modelling process\n",
    "\n",
    "### Getting the model data"
   ]
  },
  {
   "cell_type": "code",
   "execution_count": 7,
   "id": "d1192873-ba78-4dc5-9c85-1ab660809183",
   "metadata": {},
   "outputs": [
    {
     "name": "stdout",
     "output_type": "stream",
     "text": [
      "root\n",
      " |-- tailnum: string (nullable = true)\n",
      " |-- year: integer (nullable = true)\n",
      " |-- month: integer (nullable = true)\n",
      " |-- day: integer (nullable = true)\n",
      " |-- dep_time: integer (nullable = true)\n",
      " |-- dep_delay: integer (nullable = true)\n",
      " |-- arr_time: integer (nullable = true)\n",
      " |-- arr_delay: integer (nullable = true)\n",
      " |-- carrier: string (nullable = true)\n",
      " |-- flight: integer (nullable = true)\n",
      " |-- origin: string (nullable = true)\n",
      " |-- dest: string (nullable = true)\n",
      " |-- air_time: integer (nullable = true)\n",
      " |-- distance: integer (nullable = true)\n",
      " |-- hour: integer (nullable = true)\n",
      " |-- minute: integer (nullable = true)\n",
      " |-- plane_year: integer (nullable = true)\n",
      " |-- type: string (nullable = true)\n",
      " |-- manufacturer: string (nullable = true)\n",
      " |-- model: string (nullable = true)\n",
      " |-- engines: integer (nullable = true)\n",
      " |-- seats: integer (nullable = true)\n",
      " |-- speed: double (nullable = true)\n",
      " |-- engine: string (nullable = true)\n",
      " |-- plane_age: integer (nullable = true)\n",
      " |-- is_late: boolean (nullable = true)\n",
      " |-- label: integer (nullable = true)\n",
      "\n",
      "Shape (9303, 27)\n"
     ]
    },
    {
     "data": {
      "text/html": [
       "<table border='1'>\n",
       "<tr><th>tailnum</th><th>year</th><th>month</th><th>day</th><th>dep_time</th><th>dep_delay</th><th>arr_time</th><th>arr_delay</th><th>carrier</th><th>flight</th><th>origin</th><th>dest</th><th>air_time</th><th>distance</th><th>hour</th><th>minute</th><th>plane_year</th><th>type</th><th>manufacturer</th><th>model</th><th>engines</th><th>seats</th><th>speed</th><th>engine</th><th>plane_age</th><th>is_late</th><th>label</th></tr>\n",
       "<tr><td>N846VA</td><td>2014</td><td>12</td><td>8</td><td>658</td><td>-7</td><td>935</td><td>-5</td><td>VX</td><td>1780</td><td>SEA</td><td>LAX</td><td>132</td><td>954</td><td>6</td><td>58</td><td>2011</td><td>Fixed wing multi ...</td><td>AIRBUS</td><td>A320-214</td><td>2</td><td>182</td><td>NULL</td><td>Turbo-fan</td><td>3</td><td>false</td><td>0</td></tr>\n",
       "<tr><td>N559AS</td><td>2014</td><td>1</td><td>22</td><td>1040</td><td>5</td><td>1505</td><td>5</td><td>AS</td><td>851</td><td>SEA</td><td>HNL</td><td>360</td><td>2677</td><td>10</td><td>40</td><td>2006</td><td>Fixed wing multi ...</td><td>BOEING</td><td>737-890</td><td>2</td><td>149</td><td>NULL</td><td>Turbo-fan</td><td>8</td><td>true</td><td>1</td></tr>\n",
       "</table>\n"
      ],
      "text/plain": [
       "+-------+----+-----+---+--------+---------+--------+---------+-------+------+------+----+--------+--------+----+------+----------+--------------------+------------+--------+-------+-----+-----+---------+---------+-------+-----+\n",
       "|tailnum|year|month|day|dep_time|dep_delay|arr_time|arr_delay|carrier|flight|origin|dest|air_time|distance|hour|minute|plane_year|                type|manufacturer|   model|engines|seats|speed|   engine|plane_age|is_late|label|\n",
       "+-------+----+-----+---+--------+---------+--------+---------+-------+------+------+----+--------+--------+----+------+----------+--------------------+------------+--------+-------+-----+-----+---------+---------+-------+-----+\n",
       "| N846VA|2014|   12|  8|     658|       -7|     935|       -5|     VX|  1780|   SEA| LAX|     132|     954|   6|    58|      2011|Fixed wing multi ...|      AIRBUS|A320-214|      2|  182| NULL|Turbo-fan|        3|  false|    0|\n",
       "| N559AS|2014|    1| 22|    1040|        5|    1505|        5|     AS|   851|   SEA| HNL|     360|    2677|  10|    40|      2006|Fixed wing multi ...|      BOEING| 737-890|      2|  149| NULL|Turbo-fan|        8|   true|    1|\n",
       "+-------+----+-----+---+--------+---------+--------+---------+-------+------+------+----+--------+--------+----+------+----------+--------------------+------------+--------+-------+-----+-----+---------+---------+-------+-----+"
      ]
     },
     "execution_count": 7,
     "metadata": {},
     "output_type": "execute_result"
    }
   ],
   "source": [
    "planes = planes.withColumnRenamed('year', 'plane_year')\n",
    "\n",
    "# Join the DataFrames\n",
    "model_data = flights.join(planes, on='tailnum', how=\"leftouter\")\n",
    "\n",
    "# Create the column plane_age\n",
    "model_data = model_data.withColumn(\"plane_age\", model_data.year - model_data.plane_year)\n",
    "\n",
    "# Create is_late\n",
    "model_data = model_data.withColumn(\"is_late\", model_data.arr_delay > 0)\n",
    "\n",
    "# Convert to an integer\n",
    "model_data = model_data.withColumn(\"label\", model_data.is_late.cast('integer'))\n",
    "\n",
    "# Remove missing values\n",
    "model_data = model_data.filter(\"arr_delay is not NULL and \"\n",
    "                               \"dep_delay is not NULL and \"\n",
    "                               \"air_time is not NULL and \"\n",
    "                               \"plane_year is not NULL\")\n",
    "\n",
    "model_data.printSchema()\n",
    "print('Shape', (model_data.count(), len(model_data.columns)))\n",
    "model_data.limit(2)"
   ]
  },
  {
   "cell_type": "markdown",
   "id": "0a2f9155-f465-4e7a-8a0b-3865fbcc15b7",
   "metadata": {},
   "source": [
    "### Encoding the categorical variables"
   ]
  },
  {
   "cell_type": "code",
   "execution_count": 8,
   "id": "43c70b0d-cafb-43a3-8080-b7a6dead797f",
   "metadata": {},
   "outputs": [],
   "source": [
    "# Create a StringIndexer\n",
    "carr_indexer = StringIndexer(inputCol=\"carrier\", outputCol=\"carrier_index\")\n",
    "dest_indexer = StringIndexer(inputCol=\"dest\", outputCol=\"dest_index\")\n",
    "\n",
    "# Create a OneHotEncoder\n",
    "carr_encoder = OneHotEncoder(inputCol=\"carrier_index\", outputCol=\"carrier_fact\")\n",
    "dest_encoder = OneHotEncoder(inputCol=\"dest_index\", outputCol=\"dest_fact\")"
   ]
  },
  {
   "cell_type": "markdown",
   "id": "4a816307-119d-48ce-a6fe-7e2c59745edc",
   "metadata": {},
   "source": [
    "### Combine the selected features into a single column"
   ]
  },
  {
   "cell_type": "code",
   "execution_count": 9,
   "id": "6d47e21a-3162-4ceb-9608-d46308ab065e",
   "metadata": {},
   "outputs": [],
   "source": [
    "# Make a VectorAssembler\n",
    "vec_assembler = VectorAssembler(\n",
    "    inputCols=[\"month\", \"air_time\", \"carrier_fact\", \"dest_fact\", \"plane_age\"], \n",
    "    outputCol='features'\n",
    ")"
   ]
  },
  {
   "cell_type": "markdown",
   "id": "8cee64bc-37d7-4cab-8084-2da97290940a",
   "metadata": {},
   "source": [
    "### Set the pipeline for the final result"
   ]
  },
  {
   "cell_type": "code",
   "execution_count": 10,
   "id": "7be0ac81-d786-47cc-b141-af7c6db85ca3",
   "metadata": {},
   "outputs": [
    {
     "name": "stdout",
     "output_type": "stream",
     "text": [
      "root\n",
      " |-- tailnum: string (nullable = true)\n",
      " |-- year: integer (nullable = true)\n",
      " |-- month: integer (nullable = true)\n",
      " |-- day: integer (nullable = true)\n",
      " |-- dep_time: integer (nullable = true)\n",
      " |-- dep_delay: integer (nullable = true)\n",
      " |-- arr_time: integer (nullable = true)\n",
      " |-- arr_delay: integer (nullable = true)\n",
      " |-- carrier: string (nullable = true)\n",
      " |-- flight: integer (nullable = true)\n",
      " |-- origin: string (nullable = true)\n",
      " |-- dest: string (nullable = true)\n",
      " |-- air_time: integer (nullable = true)\n",
      " |-- distance: integer (nullable = true)\n",
      " |-- hour: integer (nullable = true)\n",
      " |-- minute: integer (nullable = true)\n",
      " |-- plane_year: integer (nullable = true)\n",
      " |-- type: string (nullable = true)\n",
      " |-- manufacturer: string (nullable = true)\n",
      " |-- model: string (nullable = true)\n",
      " |-- engines: integer (nullable = true)\n",
      " |-- seats: integer (nullable = true)\n",
      " |-- speed: double (nullable = true)\n",
      " |-- engine: string (nullable = true)\n",
      " |-- plane_age: integer (nullable = true)\n",
      " |-- is_late: boolean (nullable = true)\n",
      " |-- label: integer (nullable = true)\n",
      " |-- dest_index: double (nullable = false)\n",
      " |-- dest_fact: vector (nullable = true)\n",
      " |-- carrier_index: double (nullable = false)\n",
      " |-- carrier_fact: vector (nullable = true)\n",
      " |-- features: vector (nullable = true)\n",
      "\n",
      "Shape (9303, 32)\n"
     ]
    },
    {
     "data": {
      "text/html": [
       "<table border='1'>\n",
       "<tr><th>tailnum</th><th>year</th><th>month</th><th>day</th><th>dep_time</th><th>dep_delay</th><th>arr_time</th><th>arr_delay</th><th>carrier</th><th>flight</th><th>origin</th><th>dest</th><th>air_time</th><th>distance</th><th>hour</th><th>minute</th><th>plane_year</th><th>type</th><th>manufacturer</th><th>model</th><th>engines</th><th>seats</th><th>speed</th><th>engine</th><th>plane_age</th><th>is_late</th><th>label</th><th>dest_index</th><th>dest_fact</th><th>carrier_index</th><th>carrier_fact</th><th>features</th></tr>\n",
       "<tr><td>N846VA</td><td>2014</td><td>12</td><td>8</td><td>658</td><td>-7</td><td>935</td><td>-5</td><td>VX</td><td>1780</td><td>SEA</td><td>LAX</td><td>132</td><td>954</td><td>6</td><td>58</td><td>2011</td><td>Fixed wing multi ...</td><td>AIRBUS</td><td>A320-214</td><td>2</td><td>182</td><td>NULL</td><td>Turbo-fan</td><td>3</td><td>false</td><td>0</td><td>1.0</td><td>(68,[1],[1.0])</td><td>7.0</td><td>(10,[7],[1.0])</td><td>(81,[0,1,9,13,80]...</td></tr>\n",
       "<tr><td>N559AS</td><td>2014</td><td>1</td><td>22</td><td>1040</td><td>5</td><td>1505</td><td>5</td><td>AS</td><td>851</td><td>SEA</td><td>HNL</td><td>360</td><td>2677</td><td>10</td><td>40</td><td>2006</td><td>Fixed wing multi ...</td><td>BOEING</td><td>737-890</td><td>2</td><td>149</td><td>NULL</td><td>Turbo-fan</td><td>8</td><td>true</td><td>1</td><td>19.0</td><td>(68,[19],[1.0])</td><td>0.0</td><td>(10,[0],[1.0])</td><td>(81,[0,1,2,31,80]...</td></tr>\n",
       "</table>\n"
      ],
      "text/plain": [
       "+-------+----+-----+---+--------+---------+--------+---------+-------+------+------+----+--------+--------+----+------+----------+--------------------+------------+--------+-------+-----+-----+---------+---------+-------+-----+----------+---------------+-------------+--------------+--------------------+\n",
       "|tailnum|year|month|day|dep_time|dep_delay|arr_time|arr_delay|carrier|flight|origin|dest|air_time|distance|hour|minute|plane_year|                type|manufacturer|   model|engines|seats|speed|   engine|plane_age|is_late|label|dest_index|      dest_fact|carrier_index|  carrier_fact|            features|\n",
       "+-------+----+-----+---+--------+---------+--------+---------+-------+------+------+----+--------+--------+----+------+----------+--------------------+------------+--------+-------+-----+-----+---------+---------+-------+-----+----------+---------------+-------------+--------------+--------------------+\n",
       "| N846VA|2014|   12|  8|     658|       -7|     935|       -5|     VX|  1780|   SEA| LAX|     132|     954|   6|    58|      2011|Fixed wing multi ...|      AIRBUS|A320-214|      2|  182| NULL|Turbo-fan|        3|  false|    0|       1.0| (68,[1],[1.0])|          7.0|(10,[7],[1.0])|(81,[0,1,9,13,80]...|\n",
       "| N559AS|2014|    1| 22|    1040|        5|    1505|        5|     AS|   851|   SEA| HNL|     360|    2677|  10|    40|      2006|Fixed wing multi ...|      BOEING| 737-890|      2|  149| NULL|Turbo-fan|        8|   true|    1|      19.0|(68,[19],[1.0])|          0.0|(10,[0],[1.0])|(81,[0,1,2,31,80]...|\n",
       "+-------+----+-----+---+--------+---------+--------+---------+-------+------+------+----+--------+--------+----+------+----------+--------------------+------------+--------+-------+-----+-----+---------+---------+-------+-----+----------+---------------+-------------+--------------+--------------------+"
      ]
     },
     "execution_count": 10,
     "metadata": {},
     "output_type": "execute_result"
    }
   ],
   "source": [
    "# Make the pipeline\n",
    "flights_pipe = Pipeline(\n",
    "    stages=[dest_indexer, dest_encoder, carr_indexer, carr_encoder, vec_assembler]\n",
    ")\n",
    "\n",
    "# Fit and transform the data\n",
    "piped_data = flights_pipe.fit(model_data).transform(model_data)\n",
    "piped_data.printSchema()\n",
    "print('Shape', (piped_data.count(), len(piped_data.columns)))\n",
    "piped_data.limit(2)"
   ]
  },
  {
   "cell_type": "markdown",
   "id": "70ba8aa2-b30f-4ca7-9960-a4c4b97e9d09",
   "metadata": {},
   "source": [
    "### Splitting the data into training and test sets"
   ]
  },
  {
   "cell_type": "code",
   "execution_count": 11,
   "id": "3b2be1c9-fe92-410d-bdae-4fc1f23e152a",
   "metadata": {},
   "outputs": [
    {
     "name": "stdout",
     "output_type": "stream",
     "text": [
      "Training set: 5628 rows.\n",
      "Testing set : 3675 rows.\n"
     ]
    }
   ],
   "source": [
    "training, test = piped_data.randomSplit([.6, .4])\n",
    "\n",
    "print(f'Training set: {training.count()} rows.')\n",
    "print(f'Testing set : {test.count()} rows.')"
   ]
  },
  {
   "cell_type": "markdown",
   "id": "5231ee50-1fd8-4bc1-b9a1-9fe4c19b5de4",
   "metadata": {},
   "source": [
    "## What is logistic regression?\n",
    "\r\n",
    "The model you'll be fitting in this chapter is called a logistic regression. This model is very similar to a linear regression, but instead of predicting a numeric variable, it predicts the probability (between 0 and 1) of an event.\r\n",
    "\r\n",
    "To use this as a classification algorithm, all you have to do is assign a cutoff point to these probabilities. If the predicted probability is above the cutoff point, you classify that observation as a 'yes' (in this case, the flight being late), if it's below, you classify it as a 'no'!\r\n",
    "\r\n",
    "You'll tune this model by testing different values for several hyperparameters. A hyperparameter is just a value in the model that's not estimated from the data, but rather is supplied by the user to maximize performance. For this course it's not necessary to understand the mathematics behind all of these values - what's important is that you'll try out a few different choices and pick the bestne.\r\n",
    "\r\n"
   ]
  },
  {
   "cell_type": "markdown",
   "id": "78d03085-8606-4664-a366-e038f318d85f",
   "metadata": {},
   "source": [
    "## Ex. 1 - Create the modeler\n",
    "\n",
    "The Estimator you'll be using is a `LogisticRegression` from the `pyspark.ml.classification` submodule.\n",
    "\n",
    "**Instructions:**\n",
    "\n",
    "1. Import the `LogisticRegression` class from `pyspark.ml.classification`. (Already done!).\n",
    "2. Create a LogisticRegression called lr by calling LogisticRegression() with no arguments."
   ]
  },
  {
   "cell_type": "code",
   "execution_count": 12,
   "id": "a929ab49-df5d-49fe-8d1f-f5f17fb49c5c",
   "metadata": {},
   "outputs": [],
   "source": [
    "# Create a LogisticRegression Estimator\n",
    "lr = LogisticRegression()"
   ]
  },
  {
   "cell_type": "markdown",
   "id": "979f99c0-e10d-457f-8b8a-5348abdf2477",
   "metadata": {},
   "source": [
    "## Cross validation\n",
    "\r\n",
    "In the next few exercises you'll be tuning your logistic regression model using a procedure called k-fold cross validation. This is a method of estimating the model's performance on unseen data (like your test DataFrame).\r\n",
    "\r\n",
    "It works by splitting the training data into a few different partitions. The exact number is up to you, but in this course you'll be using PySpark's default value of three. Once the data is split up, one of the partitions is set aside, and the model is fit to the others. Then the error is measured against the held out partition. This is repeated for each of the partitions, so that every block of data is held out and used as a test set exactly once. Then the error on each of the partitions is averaged. This is called the cross validation error of the model, and is a good estimate of the actual error on the held out data.\r\n",
    "\r\n",
    "You'll be using cross validation to choose the hyperparameters by creating a grid of the possible pairs of values for the two hyperparamet`ers, elasticNet`Param` and reg`Param, and using the cross validation error to compare all the different models so you can choose the best one!"
   ]
  },
  {
   "cell_type": "markdown",
   "id": "19c39688-bde2-4cfa-bb2a-a13359fe9055",
   "metadata": {},
   "source": [
    "## Ex. 2 - Create the evaluator\n",
    "\n",
    "The first thing you need when doing cross validation for model selection is a way to compare different models. Luckily, the `pyspark.ml.evaluation` submodule has classes for evaluating different kinds of models. Your model is a binary classification model, so you'll be using the `BinaryClassificationEvaluator` from the `pyspark.ml.evaluation` module.\n",
    "\n",
    "This evaluator calculates the area under the ROC. This is a metric that combines the two kinds of errors a binary classifier can make (false positives and false negatives) into a simple number. You'll learn more about this towards the end of the chapter!\n",
    "\n",
    "**Instructions:**\n",
    "\n",
    "1. Import the submodule `pyspark.ml.evaluation` as `evals`. (Already done!)\n",
    "2. Create `evaluator` by calling `evals.BinaryClassificationEvaluator()` with the argument `metricName=\"areaUnderROC\"`."
   ]
  },
  {
   "cell_type": "code",
   "execution_count": 13,
   "id": "cbc17504-f921-41ea-a1a7-5a04fc66411e",
   "metadata": {},
   "outputs": [],
   "source": [
    "# Create a BinaryClassificationEvaluator\n",
    "evaluator = evals.BinaryClassificationEvaluator(metricName=\"areaUnderROC\")"
   ]
  },
  {
   "cell_type": "markdown",
   "id": "05e14fa1-d259-4698-96cb-edc18ee32b0c",
   "metadata": {},
   "source": [
    "## Ex. 3 - Make a grid\n",
    "\n",
    "Next, you need to create a grid of values to search over when looking for the optimal hyperparameters. The submodule `pyspark.ml.tuning` includes a class called `ParamGridBuilder` that does just that (maybe you're starting to notice a pattern here; PySpark has a submodule for just about everything!).\n",
    "\n",
    "You'll need to use the `.addGrid()` and `.build()` methods to create a grid that you can use for cross validation. The `.addGrid()` method takes a model parameter (an attribute of the model Estimator, `lr`, that you created a few exercises ago) and a list of values that you want to try. The `.build()` method takes no arguments, it just returns the grid that you'll use later.\n",
    "\n",
    "**Instructions:**\n",
    "\n",
    "1. Import the submodule `pyspark.ml.tuning` under the alias tune. (Already done!)\n",
    "2. Call the class constructor `ParamGridBuilder()` with no arguments. Save this as grid.\n",
    "3. Call the `.addGrid()` method on grid with `lr.regParam` as the first argument and `np.arange(0, .1, .01)` as the second argument. This second call is a function from the `numpy` module (imported as `np`) that creates a list of numbers from 0 to .1, incrementing by .01. Overwrite grid with the result.\n",
    "4. Update grid again by calling the `.addGrid()` method a second time create a grid for `lr.elasticNetParam` that includes only the values `[0, 1]`.\n",
    "5. Call the `.build()` method on grid and overwrite it with the output."
   ]
  },
  {
   "cell_type": "code",
   "execution_count": 14,
   "id": "2f1df521-da10-4612-b7b0-5a5dd5a08b17",
   "metadata": {},
   "outputs": [],
   "source": [
    "# Create the parameter grid\n",
    "grid = tune.ParamGridBuilder()\n",
    "\n",
    "# Add the hyperparameter\n",
    "grid = grid.addGrid(lr.regParam, np.arange(0, .1, .01))\n",
    "grid = grid.addGrid(lr.elasticNetParam, [0, 1])\n",
    "\n",
    "# Build the grid\n",
    "grid = grid.build()"
   ]
  },
  {
   "cell_type": "markdown",
   "id": "9a68ded5-e2d9-423a-8607-3aa3201cbad6",
   "metadata": {},
   "source": [
    "## Ex. 4 - Make the validator\n",
    "\n",
    "The submodule `pyspark.ml.tuning` also has a class called `CrossValidator` for performing cross validation. This `Estimator` takes the modeler you want to fit, the grid of hyperparameters you created, and the evaluator you want to use to compare your models.\n",
    "\n",
    "The submodule `pyspark.ml.tune` has already been imported as `tune`. You'll create the `CrossValidator` by passing it the logistic regression Estimator `lr`, the parameter `grid`, and the `evaluator` you created in the previous exercises.\n",
    "\n",
    "**Instructions:**\n",
    "\n",
    "1. Create a `CrossValidator` by calling `tune.CrossValidator()` with the arguments:\n",
    "    - `estimator=lr`\n",
    "    - `estimatorParamMaps=grid`\n",
    "    - `evaluator=evaluator`\n",
    "2. Name this object `cv`."
   ]
  },
  {
   "cell_type": "code",
   "execution_count": 15,
   "id": "7657b732-4f7f-45ee-bcc4-ea565f2b4ad3",
   "metadata": {},
   "outputs": [
    {
     "data": {
      "text/plain": [
       "CrossValidator_babb027848fc"
      ]
     },
     "execution_count": 15,
     "metadata": {},
     "output_type": "execute_result"
    }
   ],
   "source": [
    "# Create the CrossValidator\n",
    "cv = tune.CrossValidator(estimator=lr, estimatorParamMaps=grid, evaluator=evaluator)\n",
    "cv"
   ]
  },
  {
   "cell_type": "markdown",
   "id": "e82fe1e3-a42e-4760-9b0e-82ff4ef0f328",
   "metadata": {},
   "source": [
    "## Ex. 5 - Fit the model(s)\n",
    "\n",
    "Cross validation is a very computationally intensive procedure. Fitting all the models would take too long.\n",
    "To do this locally you would use the code:\n",
    "\n",
    "```\n",
    "# Fit cross validation models\n",
    "models = cv.fit(training)\n",
    "\n",
    "# Extract the best model\n",
    "best_lr = models.bestModel\n",
    "```\n",
    "\n",
    "**Instructions:**\n",
    "1. Fit the `cv` on `training` set.\n",
    "2. Get the best model and save it as `best_lr`.\n",
    "3. Print the best params of the model._lr)"
   ]
  },
  {
   "cell_type": "code",
   "execution_count": 16,
   "id": "6f066d42-1b07-47b7-9918-e8f4cfcdd8b3",
   "metadata": {},
   "outputs": [],
   "source": [
    "# Fit cross validation models\n",
    "models = cv.fit(training)"
   ]
  },
  {
   "cell_type": "code",
   "execution_count": 17,
   "id": "d8837dcc-8a85-45c4-87ec-a110e3ecef2e",
   "metadata": {},
   "outputs": [
    {
     "data": {
      "text/plain": [
       "LogisticRegressionModel: uid=LogisticRegression_1e23dad5a81a, numClasses=2, numFeatures=81"
      ]
     },
     "execution_count": 17,
     "metadata": {},
     "output_type": "execute_result"
    }
   ],
   "source": [
    "# Extract the best model\n",
    "best_lr = models.bestModel\n",
    "best_lr"
   ]
  },
  {
   "cell_type": "code",
   "execution_count": 18,
   "id": "df06ad34-8018-456f-bfc0-1f6a6dedc30a",
   "metadata": {},
   "outputs": [
    {
     "name": "stdout",
     "output_type": "stream",
     "text": [
      "Best Param (regParam):  0.0\n",
      "Best Param (elasticNetParam):  0.0\n"
     ]
    }
   ],
   "source": [
    "# Printing the best params\n",
    "print('Best Param (regParam): ', best_lr._java_obj.getRegParam())\n",
    "print('Best Param (elasticNetParam): ', best_lr._java_obj.getElasticNetParam())"
   ]
  },
  {
   "cell_type": "code",
   "execution_count": 19,
   "id": "3a33c867-1bf3-42bb-bac4-c6d697a29558",
   "metadata": {},
   "outputs": [
    {
     "data": {
      "text/plain": [
       "{Param(parent='LogisticRegression_1e23dad5a81a', name='regParam', doc='regularization parameter (>= 0).'): 0.0,\n",
       " Param(parent='LogisticRegression_1e23dad5a81a', name='elasticNetParam', doc='the ElasticNet mixing parameter, in range [0, 1]. For alpha = 0, the penalty is an L2 penalty. For alpha = 1, it is an L1 penalty.'): 0.0}"
      ]
     },
     "execution_count": 19,
     "metadata": {},
     "output_type": "execute_result"
    }
   ],
   "source": [
    "models.getEstimatorParamMaps()[np.argmax(models.avgMetrics)]"
   ]
  },
  {
   "cell_type": "markdown",
   "id": "64a14e99-b200-4018-98c4-db139780f6ce",
   "metadata": {},
   "source": [
    "## Evaluating binary classifiers\n",
    "\r\n",
    "For this course we'll be using a common metric for binary classification algorithms call the AUC, or area under the curve. In this case, the curve is the ROC, or receiver operating curve. The details of what these things actually measure isn't important for this course. All you need to know is that for our purposes, the closer the AUC is to one (1), the better the model is!"
   ]
  },
  {
   "cell_type": "markdown",
   "id": "35143a9d-4f9a-40e9-9b2a-e2eddb017f7a",
   "metadata": {},
   "source": [
    "## Ex. 6 - Evaluate the model\n",
    "\n",
    "Remember the `test` data that you set aside? It's finally time to test your model on it! You can use the same evaluator you made to fit the model.\n",
    "\n",
    "**Instructions:**\n",
    "\n",
    "1. Use your model to generate predictions by applying `best_lr.transform()` to the `test` data. Save this as `test_results`.\n",
    "2. Call `evaluator.evaluate()` on `test_results` to compute the AUC. Print the output."
   ]
  },
  {
   "cell_type": "code",
   "execution_count": 20,
   "id": "8ec182b3-9be0-478b-a407-9620e9fffe35",
   "metadata": {},
   "outputs": [
    {
     "name": "stdout",
     "output_type": "stream",
     "text": [
      "0.7092976660204492\n"
     ]
    }
   ],
   "source": [
    "# Use the model to predict the test set\n",
    "test_results = best_lr.transform(test)\n",
    "\n",
    "# Evaluate the predictions\n",
    "print(evaluator.evaluate(test_results))"
   ]
  },
  {
   "cell_type": "code",
   "execution_count": 21,
   "id": "b00a109c-7cb8-4dd7-b810-7519ea87147f",
   "metadata": {},
   "outputs": [
    {
     "data": {
      "text/html": [
       "<table border='1'>\n",
       "<tr><th>tailnum</th><th>year</th><th>month</th><th>day</th><th>dep_time</th><th>dep_delay</th><th>arr_time</th><th>arr_delay</th><th>carrier</th><th>flight</th><th>origin</th><th>dest</th><th>air_time</th><th>distance</th><th>hour</th><th>minute</th><th>plane_year</th><th>type</th><th>manufacturer</th><th>model</th><th>engines</th><th>seats</th><th>speed</th><th>engine</th><th>plane_age</th><th>is_late</th><th>label</th><th>dest_index</th><th>dest_fact</th><th>carrier_index</th><th>carrier_fact</th><th>features</th><th>rawPrediction</th><th>probability</th><th>prediction</th></tr>\n",
       "<tr><td>N102UW</td><td>2014</td><td>11</td><td>9</td><td>2220</td><td>-5</td><td>555</td><td>-11</td><td>US</td><td>1930</td><td>PDX</td><td>CLT</td><td>257</td><td>2282</td><td>22</td><td>20</td><td>1998</td><td>Fixed wing multi ...</td><td>AIRBUS INDUSTRIE</td><td>A320-214</td><td>2</td><td>182</td><td>NULL</td><td>Turbo-fan</td><td>16</td><td>false</td><td>0</td><td>33.0</td><td>(68,[33],[1.0])</td><td>5.0</td><td>(10,[5],[1.0])</td><td>(81,[0,1,7,45,80]...</td><td>[1.09596277884176...</td><td>[0.74950288792253...</td><td>0.0</td></tr>\n",
       "<tr><td>N107US</td><td>2014</td><td>5</td><td>15</td><td>1058</td><td>-2</td><td>1845</td><td>-23</td><td>US</td><td>2092</td><td>SEA</td><td>CLT</td><td>264</td><td>2279</td><td>10</td><td>58</td><td>1999</td><td>Fixed wing multi ...</td><td>AIRBUS INDUSTRIE</td><td>A320-214</td><td>2</td><td>182</td><td>NULL</td><td>Turbo-fan</td><td>15</td><td>false</td><td>0</td><td>33.0</td><td>(68,[33],[1.0])</td><td>5.0</td><td>(10,[5],[1.0])</td><td>(81,[0,1,7,45,80]...</td><td>[0.66860176047499...</td><td>[0.66118999931458...</td><td>0.0</td></tr>\n",
       "</table>\n"
      ],
      "text/plain": [
       "+-------+----+-----+---+--------+---------+--------+---------+-------+------+------+----+--------+--------+----+------+----------+--------------------+----------------+--------+-------+-----+-----+---------+---------+-------+-----+----------+---------------+-------------+--------------+--------------------+--------------------+--------------------+----------+\n",
       "|tailnum|year|month|day|dep_time|dep_delay|arr_time|arr_delay|carrier|flight|origin|dest|air_time|distance|hour|minute|plane_year|                type|    manufacturer|   model|engines|seats|speed|   engine|plane_age|is_late|label|dest_index|      dest_fact|carrier_index|  carrier_fact|            features|       rawPrediction|         probability|prediction|\n",
       "+-------+----+-----+---+--------+---------+--------+---------+-------+------+------+----+--------+--------+----+------+----------+--------------------+----------------+--------+-------+-----+-----+---------+---------+-------+-----+----------+---------------+-------------+--------------+--------------------+--------------------+--------------------+----------+\n",
       "| N102UW|2014|   11|  9|    2220|       -5|     555|      -11|     US|  1930|   PDX| CLT|     257|    2282|  22|    20|      1998|Fixed wing multi ...|AIRBUS INDUSTRIE|A320-214|      2|  182| NULL|Turbo-fan|       16|  false|    0|      33.0|(68,[33],[1.0])|          5.0|(10,[5],[1.0])|(81,[0,1,7,45,80]...|[1.09596277884176...|[0.74950288792253...|       0.0|\n",
       "| N107US|2014|    5| 15|    1058|       -2|    1845|      -23|     US|  2092|   SEA| CLT|     264|    2279|  10|    58|      1999|Fixed wing multi ...|AIRBUS INDUSTRIE|A320-214|      2|  182| NULL|Turbo-fan|       15|  false|    0|      33.0|(68,[33],[1.0])|          5.0|(10,[5],[1.0])|(81,[0,1,7,45,80]...|[0.66860176047499...|[0.66118999931458...|       0.0|\n",
       "+-------+----+-----+---+--------+---------+--------+---------+-------+------+------+----+--------+--------+----+------+----------+--------------------+----------------+--------+-------+-----+-----+---------+---------+-------+-----+----------+---------------+-------------+--------------+--------------------+--------------------+--------------------+----------+"
      ]
     },
     "execution_count": 21,
     "metadata": {},
     "output_type": "execute_result"
    }
   ],
   "source": [
    "test_results.limit(2)"
   ]
  },
  {
   "cell_type": "markdown",
   "id": "03db8d16-ceee-4deb-857b-489de79f927e",
   "metadata": {},
   "source": [
    "## Close"
   ]
  },
  {
   "cell_type": "code",
   "execution_count": 22,
   "id": "17391336-0d91-4cdf-b5b8-e3416748d40a",
   "metadata": {},
   "outputs": [],
   "source": [
    "spark.stop()"
   ]
  },
  {
   "cell_type": "code",
   "execution_count": null,
   "id": "e48a1193-63f0-490c-8959-4becac372b03",
   "metadata": {},
   "outputs": [],
   "source": []
  }
 ],
 "metadata": {
  "kernelspec": {
   "display_name": "Python 3 (ipykernel)",
   "language": "python",
   "name": "python3"
  },
  "language_info": {
   "codemirror_mode": {
    "name": "ipython",
    "version": 3
   },
   "file_extension": ".py",
   "mimetype": "text/x-python",
   "name": "python",
   "nbconvert_exporter": "python",
   "pygments_lexer": "ipython3",
   "version": "3.11.9"
  }
 },
 "nbformat": 4,
 "nbformat_minor": 5
}
