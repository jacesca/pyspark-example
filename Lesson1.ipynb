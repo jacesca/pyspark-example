{
 "cells": [
  {
   "cell_type": "markdown",
   "id": "dbd3721e-bf07-46c4-9ae3-233dc952114a",
   "metadata": {},
   "source": [
    "# Getting to know PySpark\n",
    "\n",
    "In this chapter, you'll learn how Spark manages data and how can you read and write tables from Python.\n",
    "\n",
    "## Preparing the environment\n",
    "\n",
    "### Importing libraries"
   ]
  },
  {
   "cell_type": "code",
   "execution_count": 1,
   "id": "b5f42bab-5a61-4029-b456-549d7ad39c8f",
   "metadata": {},
   "outputs": [],
   "source": [
    "import pandas as pd\n",
    "import numpy as np\n",
    "\n",
    "from pprint import pprint\n",
    "\n",
    "from pyspark.sql.types import (_parse_datatype_string, StructType, StructField,\n",
    "                               DoubleType, IntegerType, StringType)\n",
    "from pyspark.sql import SparkSession"
   ]
  },
  {
   "cell_type": "markdown",
   "id": "febbad33-82ef-4497-b050-5359dd8194b3",
   "metadata": {},
   "source": [
    "### Connect to Spark"
   ]
  },
  {
   "cell_type": "code",
   "execution_count": 2,
   "id": "b60c3b15-2de3-42d5-9ffb-a84f938dd6a8",
   "metadata": {},
   "outputs": [],
   "source": [
    "spark = SparkSession.builder.getOrCreate()\n",
    "\n",
    "# eval DataFrame in notebooks\n",
    "spark.conf.set('spark.sql.repl.eagerEval.enabled', True)"
   ]
  },
  {
   "cell_type": "markdown",
   "id": "ba669455-48cd-4d7f-8a64-bf44c0582481",
   "metadata": {},
   "source": [
    "### Reading the data"
   ]
  },
  {
   "cell_type": "code",
   "execution_count": 3,
   "id": "3844cf26-9e66-4178-ad77-e30a4e0bfc4d",
   "metadata": {},
   "outputs": [
    {
     "name": "stdout",
     "output_type": "stream",
     "text": [
      "root\n",
      " |-- year: integer (nullable = true)\n",
      " |-- month: integer (nullable = true)\n",
      " |-- day: integer (nullable = true)\n",
      " |-- dep_time: integer (nullable = true)\n",
      " |-- dep_delay: integer (nullable = true)\n",
      " |-- arr_time: integer (nullable = true)\n",
      " |-- arr_delay: integer (nullable = true)\n",
      " |-- carrier: string (nullable = true)\n",
      " |-- tailnum: string (nullable = true)\n",
      " |-- flight: integer (nullable = true)\n",
      " |-- origin: string (nullable = true)\n",
      " |-- dest: string (nullable = true)\n",
      " |-- air_time: integer (nullable = true)\n",
      " |-- distance: integer (nullable = true)\n",
      " |-- hour: integer (nullable = true)\n",
      " |-- minute: integer (nullable = true)\n",
      "\n"
     ]
    },
    {
     "data": {
      "text/html": [
       "<table border='1'>\n",
       "<tr><th>year</th><th>month</th><th>day</th><th>dep_time</th><th>dep_delay</th><th>arr_time</th><th>arr_delay</th><th>carrier</th><th>tailnum</th><th>flight</th><th>origin</th><th>dest</th><th>air_time</th><th>distance</th><th>hour</th><th>minute</th></tr>\n",
       "<tr><td>2014</td><td>12</td><td>8</td><td>658</td><td>-7</td><td>935</td><td>-5</td><td>VX</td><td>N846VA</td><td>1780</td><td>SEA</td><td>LAX</td><td>132</td><td>954</td><td>6</td><td>58</td></tr>\n",
       "<tr><td>2014</td><td>1</td><td>22</td><td>1040</td><td>5</td><td>1505</td><td>5</td><td>AS</td><td>N559AS</td><td>851</td><td>SEA</td><td>HNL</td><td>360</td><td>2677</td><td>10</td><td>40</td></tr>\n",
       "</table>\n"
      ],
      "text/plain": [
       "+----+-----+---+--------+---------+--------+---------+-------+-------+------+------+----+--------+--------+----+------+\n",
       "|year|month|day|dep_time|dep_delay|arr_time|arr_delay|carrier|tailnum|flight|origin|dest|air_time|distance|hour|minute|\n",
       "+----+-----+---+--------+---------+--------+---------+-------+-------+------+------+----+--------+--------+----+------+\n",
       "|2014|   12|  8|     658|       -7|     935|       -5|     VX| N846VA|  1780|   SEA| LAX|     132|     954|   6|    58|\n",
       "|2014|    1| 22|    1040|        5|    1505|        5|     AS| N559AS|   851|   SEA| HNL|     360|    2677|  10|    40|\n",
       "+----+-----+---+--------+---------+--------+---------+-------+-------+------+------+----+--------+--------+----+------+"
      ]
     },
     "execution_count": 3,
     "metadata": {},
     "output_type": "execute_result"
    }
   ],
   "source": [
    "schema_str = \"year int, month int, day int, dep_time int, dep_delay int, arr_time int, \" + \\\n",
    "             \"arr_delay int, carrier string, tailnum string, flight int, origin string, \" + \\\n",
    "             \"dest string, air_time int, distance int, hour int, minute int\"\n",
    "customSchema = _parse_datatype_string(schema_str)\n",
    "flights = spark.read.csv('data-sources/flights_small.csv', header=True, schema=schema_str)\n",
    "flights.createOrReplaceTempView(\"flights\")\n",
    "flights.printSchema()\n",
    "flights.limit(2)"
   ]
  },
  {
   "cell_type": "code",
   "execution_count": 4,
   "id": "eef5b7a5-fc16-4e1e-89b5-cb6de0ec4381",
   "metadata": {},
   "outputs": [
    {
     "name": "stdout",
     "output_type": "stream",
     "text": [
      "root\n",
      " |-- faa: string (nullable = true)\n",
      " |-- name: string (nullable = true)\n",
      " |-- lat: double (nullable = true)\n",
      " |-- lon: double (nullable = true)\n",
      " |-- alt: integer (nullable = true)\n",
      " |-- tz: integer (nullable = true)\n",
      " |-- dst: string (nullable = true)\n",
      "\n"
     ]
    },
    {
     "data": {
      "text/html": [
       "<table border='1'>\n",
       "<tr><th>faa</th><th>name</th><th>lat</th><th>lon</th><th>alt</th><th>tz</th><th>dst</th></tr>\n",
       "<tr><td>04G</td><td>Lansdowne Airport</td><td>41.1304722</td><td>-80.6195833</td><td>1044</td><td>-5</td><td>A</td></tr>\n",
       "<tr><td>06A</td><td>Moton Field Munic...</td><td>32.4605722</td><td>-85.6800278</td><td>264</td><td>-5</td><td>A</td></tr>\n",
       "</table>\n"
      ],
      "text/plain": [
       "+---+--------------------+----------+-----------+----+---+---+\n",
       "|faa|                name|       lat|        lon| alt| tz|dst|\n",
       "+---+--------------------+----------+-----------+----+---+---+\n",
       "|04G|   Lansdowne Airport|41.1304722|-80.6195833|1044| -5|  A|\n",
       "|06A|Moton Field Munic...|32.4605722|-85.6800278| 264| -5|  A|\n",
       "+---+--------------------+----------+-----------+----+---+---+"
      ]
     },
     "execution_count": 4,
     "metadata": {},
     "output_type": "execute_result"
    }
   ],
   "source": [
    "schema_str = \"faa string, name string, lat double, lon double, alt int, tz int, dst string\"\n",
    "customSchema = _parse_datatype_string(schema_str)\n",
    "airports = spark.read.schema(customSchema).csv('data-sources/airports.csv', header=True)\n",
    "airports.createOrReplaceTempView(\"airports\")\n",
    "airports.printSchema()\n",
    "airports.limit(2)"
   ]
  },
  {
   "cell_type": "code",
   "execution_count": 5,
   "id": "98621487-b4bc-4ecf-80e6-189ce5e8d007",
   "metadata": {},
   "outputs": [
    {
     "name": "stdout",
     "output_type": "stream",
     "text": [
      "root\n",
      " |-- tailnum: string (nullable = true)\n",
      " |-- year: integer (nullable = true)\n",
      " |-- type: string (nullable = true)\n",
      " |-- manufacturer: string (nullable = true)\n",
      " |-- model: string (nullable = true)\n",
      " |-- engines: integer (nullable = true)\n",
      " |-- seats: integer (nullable = true)\n",
      " |-- speed: double (nullable = true)\n",
      " |-- engine: string (nullable = true)\n",
      "\n"
     ]
    },
    {
     "data": {
      "text/html": [
       "<table border='1'>\n",
       "<tr><th>tailnum</th><th>year</th><th>type</th><th>manufacturer</th><th>model</th><th>engines</th><th>seats</th><th>speed</th><th>engine</th></tr>\n",
       "<tr><td>N102UW</td><td>1998</td><td>Fixed wing multi ...</td><td>AIRBUS INDUSTRIE</td><td>A320-214</td><td>2</td><td>182</td><td>NULL</td><td>Turbo-fan</td></tr>\n",
       "<tr><td>N103US</td><td>1999</td><td>Fixed wing multi ...</td><td>AIRBUS INDUSTRIE</td><td>A320-214</td><td>2</td><td>182</td><td>NULL</td><td>Turbo-fan</td></tr>\n",
       "</table>\n"
      ],
      "text/plain": [
       "+-------+----+--------------------+----------------+--------+-------+-----+-----+---------+\n",
       "|tailnum|year|                type|    manufacturer|   model|engines|seats|speed|   engine|\n",
       "+-------+----+--------------------+----------------+--------+-------+-----+-----+---------+\n",
       "| N102UW|1998|Fixed wing multi ...|AIRBUS INDUSTRIE|A320-214|      2|  182| NULL|Turbo-fan|\n",
       "| N103US|1999|Fixed wing multi ...|AIRBUS INDUSTRIE|A320-214|      2|  182| NULL|Turbo-fan|\n",
       "+-------+----+--------------------+----------------+--------+-------+-----+-----+---------+"
      ]
     },
     "execution_count": 5,
     "metadata": {},
     "output_type": "execute_result"
    }
   ],
   "source": [
    "customSchema = StructType([\n",
    "    StructField(\"tailnum\", StringType()),\n",
    "    StructField(\"year\", IntegerType()),\n",
    "    StructField(\"type\", StringType()),\n",
    "    StructField(\"manufacturer\", StringType()),\n",
    "    StructField(\"model\", StringType()),\n",
    "    StructField(\"engines\", IntegerType()),\n",
    "    StructField(\"seats\", IntegerType()),\n",
    "    StructField(\"speed\", DoubleType()),\n",
    "    StructField(\"engine\", StringType())\n",
    "])\n",
    "planes = (spark.read.schema(customSchema)\n",
    "                    .format(\"csv\")\n",
    "                    .option(\"header\", \"true\")\n",
    "                    .load('data-sources/planes.csv'))\n",
    "planes.createOrReplaceTempView(\"planes\")\n",
    "planes.printSchema()\n",
    "planes.limit(2)"
   ]
  },
  {
   "cell_type": "code",
   "execution_count": 6,
   "id": "009fb2bb-66cc-4f00-a9d8-193755ac274d",
   "metadata": {},
   "outputs": [
    {
     "data": {
      "text/plain": [
       "[Table(name='airports', catalog=None, namespace=[], description=None, tableType='TEMPORARY', isTemporary=True),\n",
       " Table(name='flights', catalog=None, namespace=[], description=None, tableType='TEMPORARY', isTemporary=True),\n",
       " Table(name='planes', catalog=None, namespace=[], description=None, tableType='TEMPORARY', isTemporary=True)]"
      ]
     },
     "execution_count": 6,
     "metadata": {},
     "output_type": "execute_result"
    }
   ],
   "source": [
    "spark.catalog.listTables()"
   ]
  },
  {
   "cell_type": "markdown",
   "id": "7507ff39-220a-4b65-b725-802e117cabee",
   "metadata": {},
   "source": [
    "## Ex. 1 - Examining The SparkContext\n",
    "\n",
    "In this exercise you'll get familiar with the SparkContext.\n",
    "\n",
    "You'll probably notice that code takes longer to run than you might expect. This is because Spark is some serious software. It takes more time to start up than you might be used to. You may also find that running simpler computations might take longer than expected. That's because all the optimizations that Spark has under its hood are designed for complicated operations with big data sets. That means that for simple or small problems Spark may actually perform worse than some other solutions!"
   ]
  },
  {
   "cell_type": "markdown",
   "id": "0237d40e-3b1f-4f16-9e9a-d814c482aff7",
   "metadata": {},
   "source": [
    "**Instructions:**\n",
    "\n",
    "1. Call `print()` on `sc` to verify there's a `SparkContext` in your environment.\n",
    "2. `print()` `sc.version` to see what version of `Spark` is running on your cluster."
   ]
  },
  {
   "cell_type": "code",
   "execution_count": 7,
   "id": "e3e7c78d-a61f-4894-a993-cb4cc539c5a8",
   "metadata": {},
   "outputs": [
    {
     "name": "stdout",
     "output_type": "stream",
     "text": [
      "<SparkContext master=local[*] appName=pyspark-shell>\n",
      "3.5.1\n"
     ]
    }
   ],
   "source": [
    "sc = spark.sparkContext\n",
    "\n",
    "print(sc)\n",
    "print(sc.version)"
   ]
  },
  {
   "cell_type": "markdown",
   "id": "cecb215c-63da-4c56-9b35-94b2bd2c8d71",
   "metadata": {},
   "source": [
    "## Ex. 2 - Creating a SparkSession\n",
    "\n",
    "We've already created a SparkSession for you called spark, but what if you're not sure there already is one? Creating multiple SparkSessions and SparkContexts can cause issues, so it's best practice to use the SparkSession.builder.getOrCreate() method. This returns an existing SparkSession if there's already one in the environment, or creates a new one if necessary!\n",
    "\n",
    "**Instructions:**\n",
    "\n",
    "1. Import SparkSession from pyspark.sql (already done in the importing libraries section).\n",
    "2. Make a new SparkSession called my_spark using SparkSession.builder.getOrCreate().\n",
    "3. Print my_spark to the console to verify it's a SparkSession."
   ]
  },
  {
   "cell_type": "code",
   "execution_count": 8,
   "id": "49b9fa32-52b1-42c7-94b9-a7779d232df9",
   "metadata": {},
   "outputs": [
    {
     "name": "stdout",
     "output_type": "stream",
     "text": [
      "<pyspark.sql.session.SparkSession object at 0x000001ED5AB37810>\n"
     ]
    }
   ],
   "source": [
    "# Create my_spark\n",
    "my_spark = SparkSession.builder.getOrCreate()\n",
    "\n",
    "# Print my_spark\n",
    "print(my_spark)"
   ]
  },
  {
   "cell_type": "code",
   "execution_count": 9,
   "id": "32c7da56-fbf4-46c5-8111-8dfc29b0d429",
   "metadata": {},
   "outputs": [
    {
     "data": {
      "text/plain": [
       "True"
      ]
     },
     "execution_count": 9,
     "metadata": {},
     "output_type": "execute_result"
    }
   ],
   "source": [
    "my_spark == spark"
   ]
  },
  {
   "cell_type": "markdown",
   "id": "8f47d90f-77f8-4b60-b321-940addf3fd7a",
   "metadata": {},
   "source": [
    "## Ex. 3 - Viewing tables\n",
    "\n",
    "Once you've created a SparkSession, you can start poking around to see what data is in your cluster!\n",
    "\n",
    "Your SparkSession has an attribute called catalog which lists all the data inside the cluster. This attribute has a few methods for extracting different pieces of information.\n",
    "\n",
    "One of the most useful is the .listTables() method, which returns the names of all the tables in your cluster as a list.\n",
    "\n",
    "**Instructions**\n",
    "1. See what tables are in your cluster by calling spark.catalog.listTables() and printing the result!"
   ]
  },
  {
   "cell_type": "code",
   "execution_count": 10,
   "id": "ba8a39ec-b9ff-4647-b3f3-dde2005ad3c1",
   "metadata": {},
   "outputs": [
    {
     "name": "stdout",
     "output_type": "stream",
     "text": [
      "[Table(name='airports', catalog=None, namespace=[], description=None, tableType='TEMPORARY', isTemporary=True),\n",
      " Table(name='flights', catalog=None, namespace=[], description=None, tableType='TEMPORARY', isTemporary=True),\n",
      " Table(name='planes', catalog=None, namespace=[], description=None, tableType='TEMPORARY', isTemporary=True)]\n"
     ]
    }
   ],
   "source": [
    "# Print the tables in the catalog\n",
    "pprint(spark.catalog.listTables())"
   ]
  },
  {
   "cell_type": "markdown",
   "id": "4f0c0c3e-a80e-4351-a5b5-5d2a0c86e722",
   "metadata": {},
   "source": [
    "## Ex. 4 - Are you query-ious?\n",
    "\n",
    "One of the advantages of the DataFrame interface is that you can run SQL queries on the tables in your Spark cluster. \n",
    "\n",
    "**Instructions:**\n",
    "1. Use the `.sql()` method to get the first 10 rows of the `flights` table and save the result to `flights10`. The variable query contains the appropriate SQL query.\n",
    "2. Use the DataFrame method `.show()` to print `flights10`."
   ]
  },
  {
   "cell_type": "code",
   "execution_count": 11,
   "id": "c304d39c-1c0a-40cd-85cc-640c2bc8e0e8",
   "metadata": {},
   "outputs": [
    {
     "name": "stdout",
     "output_type": "stream",
     "text": [
      "+----+-----+---+--------+---------+--------+---------+-------+-------+------+------+----+--------+--------+----+------+\n",
      "|year|month|day|dep_time|dep_delay|arr_time|arr_delay|carrier|tailnum|flight|origin|dest|air_time|distance|hour|minute|\n",
      "+----+-----+---+--------+---------+--------+---------+-------+-------+------+------+----+--------+--------+----+------+\n",
      "|2014|   12|  8|     658|       -7|     935|       -5|     VX| N846VA|  1780|   SEA| LAX|     132|     954|   6|    58|\n",
      "|2014|    1| 22|    1040|        5|    1505|        5|     AS| N559AS|   851|   SEA| HNL|     360|    2677|  10|    40|\n",
      "|2014|    3|  9|    1443|       -2|    1652|        2|     VX| N847VA|   755|   SEA| SFO|     111|     679|  14|    43|\n",
      "|2014|    4|  9|    1705|       45|    1839|       34|     WN| N360SW|   344|   PDX| SJC|      83|     569|  17|     5|\n",
      "|2014|    3|  9|     754|       -1|    1015|        1|     AS| N612AS|   522|   SEA| BUR|     127|     937|   7|    54|\n",
      "|2014|    1| 15|    1037|        7|    1352|        2|     WN| N646SW|    48|   PDX| DEN|     121|     991|  10|    37|\n",
      "|2014|    7|  2|     847|       42|    1041|       51|     WN| N422WN|  1520|   PDX| OAK|      90|     543|   8|    47|\n",
      "|2014|    5| 12|    1655|       -5|    1842|      -18|     VX| N361VA|   755|   SEA| SFO|      98|     679|  16|    55|\n",
      "|2014|    4| 19|    1236|       -4|    1508|       -7|     AS| N309AS|   490|   SEA| SAN|     135|    1050|  12|    36|\n",
      "|2014|   11| 19|    1812|       -3|    2352|       -4|     AS| N564AS|    26|   SEA| ORD|     198|    1721|  18|    12|\n",
      "+----+-----+---+--------+---------+--------+---------+-------+-------+------+------+----+--------+--------+----+------+\n",
      "\n"
     ]
    }
   ],
   "source": [
    "# Don't change this query\n",
    "query = \"SELECT * FROM flights LIMIT 10\"\n",
    "\n",
    "# Get the first 10 rows of flights\n",
    "flights10 = spark.sql(query)\n",
    "\n",
    "# Show the results\n",
    "flights10.show()"
   ]
  },
  {
   "cell_type": "code",
   "execution_count": 12,
   "id": "01b94c54-4f1e-4bad-9e25-783cec29d791",
   "metadata": {},
   "outputs": [
    {
     "data": {
      "text/html": [
       "<table border='1'>\n",
       "<tr><th>year</th><th>month</th><th>day</th><th>dep_time</th><th>dep_delay</th><th>arr_time</th><th>arr_delay</th><th>carrier</th><th>tailnum</th><th>flight</th><th>origin</th><th>dest</th><th>air_time</th><th>distance</th><th>hour</th><th>minute</th></tr>\n",
       "<tr><td>2014</td><td>12</td><td>8</td><td>658</td><td>-7</td><td>935</td><td>-5</td><td>VX</td><td>N846VA</td><td>1780</td><td>SEA</td><td>LAX</td><td>132</td><td>954</td><td>6</td><td>58</td></tr>\n",
       "<tr><td>2014</td><td>1</td><td>22</td><td>1040</td><td>5</td><td>1505</td><td>5</td><td>AS</td><td>N559AS</td><td>851</td><td>SEA</td><td>HNL</td><td>360</td><td>2677</td><td>10</td><td>40</td></tr>\n",
       "<tr><td>2014</td><td>3</td><td>9</td><td>1443</td><td>-2</td><td>1652</td><td>2</td><td>VX</td><td>N847VA</td><td>755</td><td>SEA</td><td>SFO</td><td>111</td><td>679</td><td>14</td><td>43</td></tr>\n",
       "<tr><td>2014</td><td>4</td><td>9</td><td>1705</td><td>45</td><td>1839</td><td>34</td><td>WN</td><td>N360SW</td><td>344</td><td>PDX</td><td>SJC</td><td>83</td><td>569</td><td>17</td><td>5</td></tr>\n",
       "<tr><td>2014</td><td>3</td><td>9</td><td>754</td><td>-1</td><td>1015</td><td>1</td><td>AS</td><td>N612AS</td><td>522</td><td>SEA</td><td>BUR</td><td>127</td><td>937</td><td>7</td><td>54</td></tr>\n",
       "<tr><td>2014</td><td>1</td><td>15</td><td>1037</td><td>7</td><td>1352</td><td>2</td><td>WN</td><td>N646SW</td><td>48</td><td>PDX</td><td>DEN</td><td>121</td><td>991</td><td>10</td><td>37</td></tr>\n",
       "<tr><td>2014</td><td>7</td><td>2</td><td>847</td><td>42</td><td>1041</td><td>51</td><td>WN</td><td>N422WN</td><td>1520</td><td>PDX</td><td>OAK</td><td>90</td><td>543</td><td>8</td><td>47</td></tr>\n",
       "<tr><td>2014</td><td>5</td><td>12</td><td>1655</td><td>-5</td><td>1842</td><td>-18</td><td>VX</td><td>N361VA</td><td>755</td><td>SEA</td><td>SFO</td><td>98</td><td>679</td><td>16</td><td>55</td></tr>\n",
       "<tr><td>2014</td><td>4</td><td>19</td><td>1236</td><td>-4</td><td>1508</td><td>-7</td><td>AS</td><td>N309AS</td><td>490</td><td>SEA</td><td>SAN</td><td>135</td><td>1050</td><td>12</td><td>36</td></tr>\n",
       "<tr><td>2014</td><td>11</td><td>19</td><td>1812</td><td>-3</td><td>2352</td><td>-4</td><td>AS</td><td>N564AS</td><td>26</td><td>SEA</td><td>ORD</td><td>198</td><td>1721</td><td>18</td><td>12</td></tr>\n",
       "</table>\n"
      ],
      "text/plain": [
       "+----+-----+---+--------+---------+--------+---------+-------+-------+------+------+----+--------+--------+----+------+\n",
       "|year|month|day|dep_time|dep_delay|arr_time|arr_delay|carrier|tailnum|flight|origin|dest|air_time|distance|hour|minute|\n",
       "+----+-----+---+--------+---------+--------+---------+-------+-------+------+------+----+--------+--------+----+------+\n",
       "|2014|   12|  8|     658|       -7|     935|       -5|     VX| N846VA|  1780|   SEA| LAX|     132|     954|   6|    58|\n",
       "|2014|    1| 22|    1040|        5|    1505|        5|     AS| N559AS|   851|   SEA| HNL|     360|    2677|  10|    40|\n",
       "|2014|    3|  9|    1443|       -2|    1652|        2|     VX| N847VA|   755|   SEA| SFO|     111|     679|  14|    43|\n",
       "|2014|    4|  9|    1705|       45|    1839|       34|     WN| N360SW|   344|   PDX| SJC|      83|     569|  17|     5|\n",
       "|2014|    3|  9|     754|       -1|    1015|        1|     AS| N612AS|   522|   SEA| BUR|     127|     937|   7|    54|\n",
       "|2014|    1| 15|    1037|        7|    1352|        2|     WN| N646SW|    48|   PDX| DEN|     121|     991|  10|    37|\n",
       "|2014|    7|  2|     847|       42|    1041|       51|     WN| N422WN|  1520|   PDX| OAK|      90|     543|   8|    47|\n",
       "|2014|    5| 12|    1655|       -5|    1842|      -18|     VX| N361VA|   755|   SEA| SFO|      98|     679|  16|    55|\n",
       "|2014|    4| 19|    1236|       -4|    1508|       -7|     AS| N309AS|   490|   SEA| SAN|     135|    1050|  12|    36|\n",
       "|2014|   11| 19|    1812|       -3|    2352|       -4|     AS| N564AS|    26|   SEA| ORD|     198|    1721|  18|    12|\n",
       "+----+-----+---+--------+---------+--------+---------+-------+-------+------+------+----+--------+--------+----+------+"
      ]
     },
     "execution_count": 12,
     "metadata": {},
     "output_type": "execute_result"
    }
   ],
   "source": [
    "flights10"
   ]
  },
  {
   "cell_type": "markdown",
   "id": "786bf42e-cad3-48d4-8540-7138661b0287",
   "metadata": {},
   "source": [
    "## Ex. 5 - Pandafy a Spark DataFrame\n",
    "\n",
    "Suppose you've run a query on your huge dataset and aggregated it down to something a little more manageable. Sometimes it makes sense to then take that table and work with it locally using a tool like `pandas`. `Spark DataFrames` make that easy with the `.toPandas()` method. Calling this method on a `Spark DataFrame` returns the corresponding `pandas DataFrame`. \n",
    "\n",
    "This time the query counts the number of flights to each airport from SEA and PDX.\n",
    "\n",
    "**Instructions:**\n",
    "1. Run the query using the .sql() method. Save the result in flight_counts.\n",
    "2. Use the .toPandas() method on flight_counts to create a pandas DataFrame called pd_counts.\n",
    "3. Print the .head() of pd_counts to the console."
   ]
  },
  {
   "cell_type": "code",
   "execution_count": 13,
   "id": "3d0559b2-60b4-46dd-94b2-0959d256c678",
   "metadata": {},
   "outputs": [
    {
     "data": {
      "text/html": [
       "<div>\n",
       "<style scoped>\n",
       "    .dataframe tbody tr th:only-of-type {\n",
       "        vertical-align: middle;\n",
       "    }\n",
       "\n",
       "    .dataframe tbody tr th {\n",
       "        vertical-align: top;\n",
       "    }\n",
       "\n",
       "    .dataframe thead th {\n",
       "        text-align: right;\n",
       "    }\n",
       "</style>\n",
       "<table border=\"1\" class=\"dataframe\">\n",
       "  <thead>\n",
       "    <tr style=\"text-align: right;\">\n",
       "      <th></th>\n",
       "      <th>origin</th>\n",
       "      <th>dest</th>\n",
       "      <th>N</th>\n",
       "    </tr>\n",
       "  </thead>\n",
       "  <tbody>\n",
       "    <tr>\n",
       "      <th>0</th>\n",
       "      <td>SEA</td>\n",
       "      <td>RNO</td>\n",
       "      <td>8</td>\n",
       "    </tr>\n",
       "    <tr>\n",
       "      <th>1</th>\n",
       "      <td>SEA</td>\n",
       "      <td>DTW</td>\n",
       "      <td>98</td>\n",
       "    </tr>\n",
       "    <tr>\n",
       "      <th>2</th>\n",
       "      <td>SEA</td>\n",
       "      <td>CLE</td>\n",
       "      <td>2</td>\n",
       "    </tr>\n",
       "    <tr>\n",
       "      <th>3</th>\n",
       "      <td>SEA</td>\n",
       "      <td>LAX</td>\n",
       "      <td>450</td>\n",
       "    </tr>\n",
       "    <tr>\n",
       "      <th>4</th>\n",
       "      <td>PDX</td>\n",
       "      <td>SEA</td>\n",
       "      <td>144</td>\n",
       "    </tr>\n",
       "  </tbody>\n",
       "</table>\n",
       "</div>"
      ],
      "text/plain": [
       "  origin dest    N\n",
       "0    SEA  RNO    8\n",
       "1    SEA  DTW   98\n",
       "2    SEA  CLE    2\n",
       "3    SEA  LAX  450\n",
       "4    PDX  SEA  144"
      ]
     },
     "execution_count": 13,
     "metadata": {},
     "output_type": "execute_result"
    }
   ],
   "source": [
    "# Don't change this query\n",
    "query = \"SELECT origin, dest, COUNT(*) as N FROM flights GROUP BY origin, dest\"\n",
    "\n",
    "# Run the query\n",
    "flight_counts = spark.sql(query)\n",
    "\n",
    "# Convert the results to a pandas DataFrame\n",
    "pd_counts = flight_counts.toPandas()\n",
    "\n",
    "# Print the head of pd_counts\n",
    "pd_counts.head()"
   ]
  },
  {
   "cell_type": "markdown",
   "id": "202ca5bd-4de0-4edb-9d5c-2816b636eede",
   "metadata": {},
   "source": [
    "## Ex. 6 - Put some Spark in your data\n",
    "\n",
    "In this exercise, we are going to put a pandas DataFrame into a Spark cluster! The `SparkSession` class has a method for this. The `.createDataFrame()` method takes a `pandas DataFrame` and returns a `Spark DataFrame`.\n",
    "\n",
    "The output of this method is stored locally, not in the `SparkSession catalog`. This means that you can use all the `Spark DataFrame methods` on it, but you can't access the data in other contexts.\n",
    "\n",
    "For example, a SQL query (using the `.sql()` method) that references your DataFrame will throw an error. To access the data in this way, you have to save it as a temporary table.\n",
    "\n",
    "You can do this using the `.createTempView()` Spark DataFrame method, which takes as its only argument the name of the temporary table you'd like to register. This method registers the DataFrame as a table in the catalog, but as this table is temporary, it can only be accessed from the specific SparkSession used to create the Spark DataFrame.\n",
    "\n",
    "There is also the method `.createOrReplaceTempView()`. This safely creates a new temporary table if nothing was there before, or updates an existing table if one was already defined. You'll use this method to avoid running into problems with duplicate tables.\n",
    "\n",
    "Check out the diagram to see all the different ways your Spark data structures interact with each other.\n",
    "\n",
    "![spark_figure](images/spark_figure.png)\n",
    "\n",
    "**Instructions:**\n",
    "\n",
    "1. The code to create a pandas DataFrame of random numbers has already been provided and saved under `pd_temp`.\n",
    "2. Create a `Spark DataFrame` called `spark_temp` by calling the Spark method `.createDataFrame()` with `pd_temp` as the argument.\n",
    "3. Examine the list of tables in your Spark cluster and verify that the new DataFrame is not present. Remember you can use `spark.catalog.listTables()` to do so.\n",
    "4. Register the `spark_temp` DataFrame you just created as a temporary table using the `.createOrReplaceTempView()` method. THe temporary table should be named `\"temp\"`. Remember that the table name is set including it as the only argument to your method!\n",
    "5. Examine the list of tables again."
   ]
  },
  {
   "cell_type": "code",
   "execution_count": 14,
   "id": "a172fec1-c621-401a-b477-d3068446f8f1",
   "metadata": {},
   "outputs": [
    {
     "name": "stdout",
     "output_type": "stream",
     "text": [
      "Tables catalog:\n",
      "[Table(name='airports', catalog=None, namespace=[], description=None, tableType='TEMPORARY', isTemporary=True),\n",
      " Table(name='flights', catalog=None, namespace=[], description=None, tableType='TEMPORARY', isTemporary=True),\n",
      " Table(name='planes', catalog=None, namespace=[], description=None, tableType='TEMPORARY', isTemporary=True)]\n",
      "\n",
      "Tables catalog after adding temp:\n",
      "[Table(name='airports', catalog=None, namespace=[], description=None, tableType='TEMPORARY', isTemporary=True),\n",
      " Table(name='flights', catalog=None, namespace=[], description=None, tableType='TEMPORARY', isTemporary=True),\n",
      " Table(name='planes', catalog=None, namespace=[], description=None, tableType='TEMPORARY', isTemporary=True),\n",
      " Table(name='temp', catalog=None, namespace=[], description=None, tableType='TEMPORARY', isTemporary=True)]\n"
     ]
    }
   ],
   "source": [
    "# Create pd_temp\n",
    "pd_temp = pd.DataFrame(np.random.random(10))\n",
    "\n",
    "# Create spark_temp from pd_temp\n",
    "spark_temp = spark.createDataFrame(pd_temp)\n",
    "\n",
    "# Examine the tables in the catalog\n",
    "print('Tables catalog:')\n",
    "pprint(spark.catalog.listTables())\n",
    "\n",
    "# Add spark_temp to the catalog\n",
    "print('\\nTables catalog after adding temp:')\n",
    "spark_temp.createOrReplaceTempView('temp')\n",
    "\n",
    "# Examine the tables in the catalog again\n",
    "pprint(spark.catalog.listTables())"
   ]
  },
  {
   "cell_type": "markdown",
   "id": "1bfc363a-17c8-4509-a3d7-15d5ff64da46",
   "metadata": {},
   "source": [
    "lling .show()."
   ]
  },
  {
   "cell_type": "markdown",
   "id": "23b095b7-865a-452c-9400-1ccf1006c68e",
   "metadata": {},
   "source": [
    "## Ex. 7 - Dropping the middle man\n",
    "\n",
    "Now you know how to put data into Spark via pandas, but you're probably wondering why deal with pandas at all? Wouldn't it be easier to just read a text file straight into Spark? Of course it would!\n",
    "\n",
    "Luckily, your SparkSession has a `.read` attribute which has several methods for reading different data sources into Spark DataFrames. Using these you can create a DataFrame from a `.csv` file just like with regular pandas DataFrames!\n",
    "\n",
    "The variable file_path is a string with the path to the file `airports.csv`. This file contains information about different airports all over the world.\n",
    "\n",
    "**Instructions:**\n",
    "1. Use the .read.csv() method to create a Spark DataFrame called airports\n",
    "2. The first argument is file_path\n",
    "3. Pass the argument header=True so that Spark knows to take the column names from the first line of the file.\n",
    "4. Print out this DataFrame by calling .show()."
   ]
  },
  {
   "cell_type": "code",
   "execution_count": 15,
   "id": "1003318c-bdb0-4650-a312-08880555aaad",
   "metadata": {},
   "outputs": [
    {
     "name": "stdout",
     "output_type": "stream",
     "text": [
      "(1397, 7)\n"
     ]
    },
    {
     "data": {
      "text/html": [
       "<table border='1'>\n",
       "<tr><th>faa</th><th>name</th><th>lat</th><th>lon</th><th>alt</th><th>tz</th><th>dst</th></tr>\n",
       "<tr><td>04G</td><td>Lansdowne Airport</td><td>41.1304722</td><td>-80.6195833</td><td>1044</td><td>-5</td><td>A</td></tr>\n",
       "<tr><td>06A</td><td>Moton Field Munic...</td><td>32.4605722</td><td>-85.6800278</td><td>264</td><td>-5</td><td>A</td></tr>\n",
       "<tr><td>06C</td><td>Schaumburg Regional</td><td>41.9893408</td><td>-88.1012428</td><td>801</td><td>-6</td><td>A</td></tr>\n",
       "<tr><td>06N</td><td>Randall Airport</td><td>41.431912</td><td>-74.3915611</td><td>523</td><td>-5</td><td>A</td></tr>\n",
       "<tr><td>09J</td><td>Jekyll Island Air...</td><td>31.0744722</td><td>-81.4277778</td><td>11</td><td>-4</td><td>A</td></tr>\n",
       "<tr><td>0A9</td><td>Elizabethton Muni...</td><td>36.3712222</td><td>-82.1734167</td><td>1593</td><td>-4</td><td>A</td></tr>\n",
       "<tr><td>0G6</td><td>Williams County A...</td><td>41.4673056</td><td>-84.5067778</td><td>730</td><td>-5</td><td>A</td></tr>\n",
       "<tr><td>0G7</td><td>Finger Lakes Regi...</td><td>42.8835647</td><td>-76.7812318</td><td>492</td><td>-5</td><td>A</td></tr>\n",
       "<tr><td>0P2</td><td>Shoestring Aviati...</td><td>39.7948244</td><td>-76.6471914</td><td>1000</td><td>-5</td><td>U</td></tr>\n",
       "<tr><td>0S9</td><td>Jefferson County ...</td><td>48.0538086</td><td>-122.8106436</td><td>108</td><td>-8</td><td>A</td></tr>\n",
       "<tr><td>0W3</td><td>Harford County Ai...</td><td>39.5668378</td><td>-76.2024028</td><td>409</td><td>-5</td><td>A</td></tr>\n",
       "<tr><td>10C</td><td>Galt Field Airport</td><td>42.4028889</td><td>-88.3751111</td><td>875</td><td>-6</td><td>U</td></tr>\n",
       "<tr><td>17G</td><td>Port Bucyrus-Craw...</td><td>40.7815556</td><td>-82.9748056</td><td>1003</td><td>-5</td><td>A</td></tr>\n",
       "<tr><td>19A</td><td>Jackson County Ai...</td><td>34.1758638</td><td>-83.5615972</td><td>951</td><td>-4</td><td>U</td></tr>\n",
       "<tr><td>1A3</td><td>Martin Campbell F...</td><td>35.0158056</td><td>-84.3468333</td><td>1789</td><td>-4</td><td>A</td></tr>\n",
       "<tr><td>1B9</td><td>Mansfield Municipal</td><td>42.0001331</td><td>-71.1967714</td><td>122</td><td>-5</td><td>A</td></tr>\n",
       "<tr><td>1C9</td><td>Frazier Lake Airpark</td><td>54.0133333333333</td><td>-124.768333333333</td><td>152</td><td>-8</td><td>A</td></tr>\n",
       "<tr><td>1CS</td><td>Clow Internationa...</td><td>41.6959744</td><td>-88.1292306</td><td>670</td><td>-6</td><td>U</td></tr>\n",
       "<tr><td>1G3</td><td>Kent State Airport</td><td>41.1513889</td><td>-81.4151111</td><td>1134</td><td>-4</td><td>A</td></tr>\n",
       "<tr><td>1OH</td><td>Fortman Airport</td><td>40.5553253</td><td>-84.3866186</td><td>885</td><td>-5</td><td>U</td></tr>\n",
       "</table>\n",
       "only showing top 20 rows\n"
      ],
      "text/plain": [
       "+---+--------------------+----------------+-----------------+----+---+---+\n",
       "|faa|                name|             lat|              lon| alt| tz|dst|\n",
       "+---+--------------------+----------------+-----------------+----+---+---+\n",
       "|04G|   Lansdowne Airport|      41.1304722|      -80.6195833|1044| -5|  A|\n",
       "|06A|Moton Field Munic...|      32.4605722|      -85.6800278| 264| -5|  A|\n",
       "|06C| Schaumburg Regional|      41.9893408|      -88.1012428| 801| -6|  A|\n",
       "|06N|     Randall Airport|       41.431912|      -74.3915611| 523| -5|  A|\n",
       "|09J|Jekyll Island Air...|      31.0744722|      -81.4277778|  11| -4|  A|\n",
       "|0A9|Elizabethton Muni...|      36.3712222|      -82.1734167|1593| -4|  A|\n",
       "|0G6|Williams County A...|      41.4673056|      -84.5067778| 730| -5|  A|\n",
       "|0G7|Finger Lakes Regi...|      42.8835647|      -76.7812318| 492| -5|  A|\n",
       "|0P2|Shoestring Aviati...|      39.7948244|      -76.6471914|1000| -5|  U|\n",
       "|0S9|Jefferson County ...|      48.0538086|     -122.8106436| 108| -8|  A|\n",
       "|0W3|Harford County Ai...|      39.5668378|      -76.2024028| 409| -5|  A|\n",
       "|10C|  Galt Field Airport|      42.4028889|      -88.3751111| 875| -6|  U|\n",
       "|17G|Port Bucyrus-Craw...|      40.7815556|      -82.9748056|1003| -5|  A|\n",
       "|19A|Jackson County Ai...|      34.1758638|      -83.5615972| 951| -4|  U|\n",
       "|1A3|Martin Campbell F...|      35.0158056|      -84.3468333|1789| -4|  A|\n",
       "|1B9| Mansfield Municipal|      42.0001331|      -71.1967714| 122| -5|  A|\n",
       "|1C9|Frazier Lake Airpark|54.0133333333333|-124.768333333333| 152| -8|  A|\n",
       "|1CS|Clow Internationa...|      41.6959744|      -88.1292306| 670| -6|  U|\n",
       "|1G3|  Kent State Airport|      41.1513889|      -81.4151111|1134| -4|  A|\n",
       "|1OH|     Fortman Airport|      40.5553253|      -84.3866186| 885| -5|  U|\n",
       "+---+--------------------+----------------+-----------------+----+---+---+\n",
       "only showing top 20 rows"
      ]
     },
     "execution_count": 15,
     "metadata": {},
     "output_type": "execute_result"
    }
   ],
   "source": [
    "# Don't change this file path\n",
    "file_path = \"data-sources/airports.csv\"\n",
    "\n",
    "# Read in the airports data\n",
    "airports = spark.read.csv(file_path, header=True)\n",
    "\n",
    "# Show the data\n",
    "# airports.show()\n",
    "print((airports.count(), len(airports.columns)))\n",
    "airports"
   ]
  },
  {
   "cell_type": "markdown",
   "id": "3d1c4ead-96f9-4c19-a96d-938c374361ea",
   "metadata": {},
   "source": [
    "## Close"
   ]
  },
  {
   "cell_type": "code",
   "execution_count": 16,
   "id": "51cf218c-7512-4fc5-8792-b88d48831fa5",
   "metadata": {},
   "outputs": [],
   "source": [
    "spark.stop()"
   ]
  },
  {
   "cell_type": "code",
   "execution_count": null,
   "id": "7b0ffb5e-ee57-40a0-8659-9ae90d304bef",
   "metadata": {},
   "outputs": [],
   "source": []
  }
 ],
 "metadata": {
  "kernelspec": {
   "display_name": "Python 3 (ipykernel)",
   "language": "python",
   "name": "python3"
  },
  "language_info": {
   "codemirror_mode": {
    "name": "ipython",
    "version": 3
   },
   "file_extension": ".py",
   "mimetype": "text/x-python",
   "name": "python",
   "nbconvert_exporter": "python",
   "pygments_lexer": "ipython3",
   "version": "3.11.9"
  }
 },
 "nbformat": 4,
 "nbformat_minor": 5
}
